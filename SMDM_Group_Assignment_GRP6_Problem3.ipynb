{
 "cells": [
  {
   "cell_type": "code",
   "execution_count": 1,
   "metadata": {},
   "outputs": [],
   "source": [
    "import pandas as pd\n",
    "import numpy as np\n",
    "import scipy.stats as stats\n",
    "import statsmodels.stats.weightstats as statsmod"
   ]
  },
  {
   "cell_type": "markdown",
   "metadata": {},
   "source": [
    "# Two sample : Independent Samples"
   ]
  },
  {
   "cell_type": "code",
   "execution_count": 2,
   "metadata": {},
   "outputs": [],
   "source": [
    "data = pd.read_csv('A+&+B+shingles.csv')"
   ]
  },
  {
   "cell_type": "code",
   "execution_count": 3,
   "metadata": {},
   "outputs": [
    {
     "data": {
      "text/html": [
       "<div>\n",
       "<style scoped>\n",
       "    .dataframe tbody tr th:only-of-type {\n",
       "        vertical-align: middle;\n",
       "    }\n",
       "\n",
       "    .dataframe tbody tr th {\n",
       "        vertical-align: top;\n",
       "    }\n",
       "\n",
       "    .dataframe thead th {\n",
       "        text-align: right;\n",
       "    }\n",
       "</style>\n",
       "<table border=\"1\" class=\"dataframe\">\n",
       "  <thead>\n",
       "    <tr style=\"text-align: right;\">\n",
       "      <th></th>\n",
       "      <th>A</th>\n",
       "      <th>B</th>\n",
       "    </tr>\n",
       "  </thead>\n",
       "  <tbody>\n",
       "    <tr>\n",
       "      <td>0</td>\n",
       "      <td>0.44</td>\n",
       "      <td>0.14</td>\n",
       "    </tr>\n",
       "    <tr>\n",
       "      <td>1</td>\n",
       "      <td>0.61</td>\n",
       "      <td>0.15</td>\n",
       "    </tr>\n",
       "    <tr>\n",
       "      <td>2</td>\n",
       "      <td>0.47</td>\n",
       "      <td>0.31</td>\n",
       "    </tr>\n",
       "    <tr>\n",
       "      <td>3</td>\n",
       "      <td>0.30</td>\n",
       "      <td>0.16</td>\n",
       "    </tr>\n",
       "    <tr>\n",
       "      <td>4</td>\n",
       "      <td>0.15</td>\n",
       "      <td>0.37</td>\n",
       "    </tr>\n",
       "  </tbody>\n",
       "</table>\n",
       "</div>"
      ],
      "text/plain": [
       "      A     B\n",
       "0  0.44  0.14\n",
       "1  0.61  0.15\n",
       "2  0.47  0.31\n",
       "3  0.30  0.16\n",
       "4  0.15  0.37"
      ]
     },
     "execution_count": 3,
     "metadata": {},
     "output_type": "execute_result"
    }
   ],
   "source": [
    "data.head()"
   ]
  },
  {
   "cell_type": "code",
   "execution_count": 4,
   "metadata": {},
   "outputs": [
    {
     "data": {
      "text/plain": [
       "0     0.44\n",
       "1     0.61\n",
       "2     0.47\n",
       "3     0.30\n",
       "4     0.15\n",
       "5     0.24\n",
       "6     0.16\n",
       "7     0.20\n",
       "8     0.20\n",
       "9     0.20\n",
       "10    0.26\n",
       "11    0.14\n",
       "12    0.33\n",
       "13    0.13\n",
       "14    0.72\n",
       "15    0.51\n",
       "16    0.28\n",
       "17    0.39\n",
       "18    0.39\n",
       "19    0.25\n",
       "20    0.16\n",
       "21    0.20\n",
       "22    0.22\n",
       "23    0.42\n",
       "24    0.24\n",
       "25    0.21\n",
       "26    0.49\n",
       "27    0.34\n",
       "28    0.36\n",
       "29    0.29\n",
       "30    0.27\n",
       "31    0.40\n",
       "32    0.29\n",
       "33    0.43\n",
       "34    0.34\n",
       "35    0.37\n",
       "Name: A, dtype: float64"
      ]
     },
     "execution_count": 4,
     "metadata": {},
     "output_type": "execute_result"
    }
   ],
   "source": [
    "df_A = data['A']\n",
    "df_A"
   ]
  },
  {
   "cell_type": "code",
   "execution_count": 5,
   "metadata": {},
   "outputs": [
    {
     "data": {
      "text/plain": [
       "0     0.14\n",
       "1     0.15\n",
       "2     0.31\n",
       "3     0.16\n",
       "4     0.37\n",
       "5     0.18\n",
       "6     0.42\n",
       "7     0.58\n",
       "8     0.25\n",
       "9     0.41\n",
       "10    0.17\n",
       "11    0.13\n",
       "12    0.23\n",
       "13    0.11\n",
       "14    0.10\n",
       "15    0.19\n",
       "16    0.22\n",
       "17    0.44\n",
       "18    0.11\n",
       "19    0.11\n",
       "20    0.31\n",
       "21    0.43\n",
       "22    0.26\n",
       "23    0.18\n",
       "24    0.44\n",
       "25    0.43\n",
       "26    0.16\n",
       "27    0.52\n",
       "28    0.36\n",
       "29    0.22\n",
       "30    0.39\n",
       "Name: B, dtype: float64"
      ]
     },
     "execution_count": 5,
     "metadata": {},
     "output_type": "execute_result"
    }
   ],
   "source": [
    "df_B = data['B'][0:31]\n",
    "df_B"
   ]
  },
  {
   "cell_type": "code",
   "execution_count": 6,
   "metadata": {},
   "outputs": [
    {
     "data": {
      "text/plain": [
       "count    36.000000\n",
       "mean      0.316667\n",
       "std       0.135731\n",
       "min       0.130000\n",
       "25%       0.207500\n",
       "50%       0.290000\n",
       "75%       0.392500\n",
       "max       0.720000\n",
       "Name: A, dtype: float64"
      ]
     },
     "execution_count": 6,
     "metadata": {},
     "output_type": "execute_result"
    }
   ],
   "source": [
    "df_A.describe()"
   ]
  },
  {
   "cell_type": "code",
   "execution_count": 7,
   "metadata": {},
   "outputs": [
    {
     "data": {
      "text/plain": [
       "count    31.000000\n",
       "mean      0.273548\n",
       "std       0.137296\n",
       "min       0.100000\n",
       "25%       0.160000\n",
       "50%       0.230000\n",
       "75%       0.400000\n",
       "max       0.580000\n",
       "Name: B, dtype: float64"
      ]
     },
     "execution_count": 7,
     "metadata": {},
     "output_type": "execute_result"
    }
   ],
   "source": [
    "df_B.describe()"
   ]
  },
  {
   "cell_type": "code",
   "execution_count": 8,
   "metadata": {},
   "outputs": [
    {
     "name": "stdout",
     "output_type": "stream",
     "text": [
      "n1_df_A = 36 xbar1_df_A = 0.3166666666666666 sd1_df_A = 0.13573082605973166\n",
      "n2_df_B = 31 xbar2_df_B = 0.2735483870967742 sd2_df_B = 0.13729647694185443\n",
      "alpha = 0.05 dof = 65\n"
     ]
    }
   ],
   "source": [
    "##step1 : Identify data given\n",
    "n1_df_A = df_A.count()\n",
    "xbar1_df_A = df_A.mean()\n",
    "sd1_df_A = df_A.std()\n",
    "\n",
    "print(\"n1_df_A =\", n1_df_A ,\"xbar1_df_A =\", xbar1_df_A, \"sd1_df_A =\", sd1_df_A)\n",
    "\n",
    "n2_df_B = df_B.count()\n",
    "xbar2_df_B = df_B.mean()\n",
    "sd2_df_B = df_B.std()\n",
    "\n",
    "print(\"n2_df_B =\", n2_df_B ,\"xbar2_df_B =\", xbar2_df_B, \"sd2_df_B =\", sd2_df_B)\n",
    "\n",
    "alpha = 0.05   \n",
    "dof = n1_df_A + n2_df_B - 2\n",
    "\n",
    "print(\"alpha =\", alpha, \"dof =\", dof)"
   ]
  },
  {
   "cell_type": "raw",
   "metadata": {},
   "source": [
    "step2 : Define H0 and H1\n",
    "\n",
    "H0 : myu_df_A = myu_df_B OR myu_df_A - myu_df_B = 0 (means for shingles A and B are equal)\n",
    "H1 : myu_df_A != myu_df_B OR myu_df_A - myu_df_B != 0 (means for shingles A and B are different)"
   ]
  },
  {
   "cell_type": "code",
   "execution_count": 9,
   "metadata": {},
   "outputs": [
    {
     "data": {
      "text/plain": [
       "1.2896282719661107"
      ]
     },
     "execution_count": 9,
     "metadata": {},
     "output_type": "execute_result"
    }
   ],
   "source": [
    "##step3 : Calculate Tstat\n",
    "\n",
    "##sp2 = (SS_sugar_d + SS_sugar_nd) / (dof_sugar_d + dof_sugar_nd) (formula to calculate standard deviation of the pool)\n",
    "\n",
    "SS_df_A = (sd1_df_A)*(sd1_df_A)*(n1_df_A-1)\n",
    "SS_df_B = (sd2_df_B)*(sd2_df_B)*(n2_df_B-1)\n",
    "\n",
    "sp2 = (SS_df_A + SS_df_B) / ((n1_df_A-1) + (n2_df_B-1))\n",
    "\n",
    "Tstat = (xbar1_df_A - xbar2_df_B) / np.sqrt((sp2/n1_df_A) + (sp2/n2_df_B))\n",
    "Tstat"
   ]
  },
  {
   "cell_type": "code",
   "execution_count": 10,
   "metadata": {},
   "outputs": [
    {
     "data": {
      "text/plain": [
       "0.018620148883374685"
      ]
     },
     "execution_count": 10,
     "metadata": {},
     "output_type": "execute_result"
    }
   ],
   "source": [
    "sp2"
   ]
  },
  {
   "cell_type": "code",
   "execution_count": 11,
   "metadata": {},
   "outputs": [
    {
     "data": {
      "text/plain": [
       "1.9971379077520126"
      ]
     },
     "execution_count": 11,
     "metadata": {},
     "output_type": "execute_result"
    }
   ],
   "source": [
    "##step4&5 : Calculate Tcrit\n",
    "\n",
    "Tcrit = stats.t.isf(0.025,dof)\n",
    "Tcrit"
   ]
  },
  {
   "cell_type": "code",
   "execution_count": 12,
   "metadata": {},
   "outputs": [
    {
     "data": {
      "text/plain": [
       "0.2017496571835333"
      ]
     },
     "execution_count": 12,
     "metadata": {},
     "output_type": "execute_result"
    }
   ],
   "source": [
    "##step6 : Calculate P Value\n",
    "\n",
    "Pvalue = 2*stats.t.sf(Tstat, dof)\n",
    "Pvalue"
   ]
  },
  {
   "cell_type": "code",
   "execution_count": 13,
   "metadata": {},
   "outputs": [
    {
     "name": "stdout",
     "output_type": "stream",
     "text": [
      "Tstat =  1.2896282719661123 Pvalue =  0.20174965718353277 Degrees of Freedom = 65.0\n"
     ]
    }
   ],
   "source": [
    "tstat, Pvalue, df = statsmod.ttest_ind(df_A,df_B,usevar = 'pooled', alternative = 'two-sided')\n",
    "\n",
    "print (\"Tstat = \", tstat, \"Pvalue = \", Pvalue, \"Degrees of Freedom =\", df)"
   ]
  },
  {
   "cell_type": "markdown",
   "metadata": {},
   "source": [
    "# Problem 3 Answer (using independent two samples T-test method) : P Value is higher than alpha value. \n",
    "\n",
    "#Hence, Fail to Reject H0. (i.e. means for shingles A and B are equal)"
   ]
  },
  {
   "cell_type": "code",
   "execution_count": 14,
   "metadata": {},
   "outputs": [],
   "source": [
    "from matplotlib import pyplot as plt\n",
    "%matplotlib inline\n",
    "import seaborn as sns"
   ]
  },
  {
   "cell_type": "code",
   "execution_count": 15,
   "metadata": {},
   "outputs": [],
   "source": [
    "sns.set()"
   ]
  },
  {
   "cell_type": "code",
   "execution_count": 16,
   "metadata": {},
   "outputs": [],
   "source": [
    "data.fillna(value=0, inplace = True)"
   ]
  },
  {
   "cell_type": "code",
   "execution_count": 17,
   "metadata": {},
   "outputs": [
    {
     "data": {
      "text/plain": [
       "<matplotlib.axes._subplots.AxesSubplot at 0x1f4d9d88788>"
      ]
     },
     "execution_count": 17,
     "metadata": {},
     "output_type": "execute_result"
    },
    {
     "data": {
      "image/png": "[encoded data removed]",
      "text/plain": [
       "<Figure size 432x288 with 1 Axes>"
      ]
     },
     "metadata": {},
     "output_type": "display_data"
    }
   ],
   "source": [
    "fig_dims = (10, 5)\n",
    "sns.distplot(data['A'], kde=True)"
   ]
  },
  {
   "cell_type": "code",
   "execution_count": 18,
   "metadata": {},
   "outputs": [
    {
     "data": {
      "text/plain": [
       "<matplotlib.axes._subplots.AxesSubplot at 0x1f4da0b1648>"
      ]
     },
     "execution_count": 18,
     "metadata": {},
     "output_type": "execute_result"
    },
    {
     "data": {
      "image/png": "[encoded data removed]",
      "text/plain": [
       "<Figure size 432x288 with 1 Axes>"
      ]
     },
     "metadata": {},
     "output_type": "display_data"
    }
   ],
   "source": [
    "fig_dims = (10, 5)\n",
    "sns.distplot(data['B'], kde=True)"
   ]
  },
  {
   "cell_type": "code",
   "execution_count": 19,
   "metadata": {},
   "outputs": [
    {
     "data": {
      "text/plain": [
       "<matplotlib.axes._subplots.AxesSubplot at 0x1f4db1a2dc8>"
      ]
     },
     "execution_count": 19,
     "metadata": {},
     "output_type": "execute_result"
    },
    {
     "data": {
      "image/png": "[encoded data removed]",
      "text/plain": [
       "<Figure size 1296x864 with 4 Axes>"
      ]
     },
     "metadata": {},
     "output_type": "display_data"
    }
   ],
   "source": [
    "fig_dims = (18, 12)\n",
    "fig, axs = plt.subplots(nrows=2, ncols=2, figsize=fig_dims)\n",
    "\n",
    "sns.distplot(data['A'], kde=True, ax=axs[0,0])\n",
    "sns.distplot(data['B'], kde=True, ax=axs[0,1])\n",
    "\n",
    "sns.boxplot(x= 'A', data=data, ax=axs[1,0]) ;\n",
    "sns.boxplot(x= 'B', data=data, ax=axs[1,1]) "
   ]
  },
  {
   "cell_type": "code",
   "execution_count": 20,
   "metadata": {},
   "outputs": [],
   "source": [
    "from scipy.stats import shapiro"
   ]
  },
  {
   "cell_type": "code",
   "execution_count": 21,
   "metadata": {},
   "outputs": [
    {
     "name": "stdout",
     "output_type": "stream",
     "text": [
      "stat=0.938, p=0.043\n",
      "Probably not Gaussian/Normal Distribution\n"
     ]
    }
   ],
   "source": [
    "stat, p = shapiro(data['A'])\n",
    "print('stat=%.3f, p=%.3f' % (stat, p))\n",
    "if p > 0.05:\n",
    "\tprint('Probably Gaussian/Normal Distribution')\n",
    "else:\n",
    "\tprint('Probably not Gaussian/Normal Distribution')"
   ]
  },
  {
   "cell_type": "code",
   "execution_count": 22,
   "metadata": {},
   "outputs": [
    {
     "name": "stdout",
     "output_type": "stream",
     "text": [
      "stat=0.949, p=0.100\n",
      "Probably Gaussian/Normal Distribution\n"
     ]
    }
   ],
   "source": [
    "stat, p = shapiro(data['B'])\n",
    "print('stat=%.3f, p=%.3f' % (stat, p))\n",
    "if p > 0.05:\n",
    "\tprint('Probably Gaussian/Normal Distribution')\n",
    "else:\n",
    "\tprint('Probably not Gaussian/Normal Distribution')"
   ]
  },
  {
   "cell_type": "markdown",
   "metadata": {},
   "source": [
    "----------------------------------------------END of 3.1-----------------------------------------------------------------"
   ]
  }
 ],
 "metadata": {
  "kernelspec": {
   "display_name": "Python 3",
   "language": "python",
   "name": "python3"
  },
  "language_info": {
   "codemirror_mode": {
    "name": "ipython",
    "version": 3
   },
   "file_extension": ".py",
   "mimetype": "text/x-python",
   "name": "python",
   "nbconvert_exporter": "python",
   "pygments_lexer": "ipython3",
   "version": "3.7.4"
  }
 },
 "nbformat": 4,
 "nbformat_minor": 2
}
