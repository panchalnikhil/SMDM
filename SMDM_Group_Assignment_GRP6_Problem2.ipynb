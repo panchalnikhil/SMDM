{
 "cells": [
  {
   "cell_type": "markdown",
   "metadata": {},
   "source": [
    "# Problem 2:\n",
    "The Student News Service at Clear Mountain State University (CMSU) has decided to gather data about the undergraduate students that attend CMSU. CMSU creates and distributes a survey of 14 questions and receives responses from 62 undergraduates (stored in the Survey.csv file).\n"
   ]
  },
  {
   "cell_type": "code",
   "execution_count": 1,
   "metadata": {},
   "outputs": [],
   "source": [
    "import numpy as np\n",
    "import pandas as pd\n",
    "from matplotlib import pyplot as plt\n",
    "%matplotlib inline\n",
    "import seaborn as sns\n",
    "from statsmodels.graphics.gofplots import qqplot\n",
    "from scipy.stats import shapiro"
   ]
  },
  {
   "cell_type": "code",
   "execution_count": 2,
   "metadata": {},
   "outputs": [],
   "source": [
    "sns.set()"
   ]
  },
  {
   "cell_type": "code",
   "execution_count": 3,
   "metadata": {},
   "outputs": [],
   "source": [
    "class color: ## to define output or conclusion in below format or color.\n",
    "   PURPLE = '\\033[95m'\n",
    "   CYAN = '\\033[96m'\n",
    "   DARKCYAN = '\\033[36m'\n",
    "   BLUE = '\\033[94m'\n",
    "   GREEN = '\\033[92m'\n",
    "   YELLOW = '\\033[93m'\n",
    "   RED = '\\033[91m'\n",
    "   BOLD = '\\033[1m'\n",
    "   UNDERLINE = '\\033[4m'\n",
    "   END = '\\033[0m'"
   ]
  },
  {
   "cell_type": "code",
   "execution_count": 4,
   "metadata": {},
   "outputs": [],
   "source": [
    "df_main = pd.read_csv('Survey.csv')"
   ]
  },
  {
   "cell_type": "code",
   "execution_count": 5,
   "metadata": {},
   "outputs": [
    {
     "data": {
      "text/html": [
       "<div>\n",
       "<style scoped>\n",
       "    .dataframe tbody tr th:only-of-type {\n",
       "        vertical-align: middle;\n",
       "    }\n",
       "\n",
       "    .dataframe tbody tr th {\n",
       "        vertical-align: top;\n",
       "    }\n",
       "\n",
       "    .dataframe thead th {\n",
       "        text-align: right;\n",
       "    }\n",
       "</style>\n",
       "<table border=\"1\" class=\"dataframe\">\n",
       "  <thead>\n",
       "    <tr style=\"text-align: right;\">\n",
       "      <th></th>\n",
       "      <th>ID</th>\n",
       "      <th>Gender</th>\n",
       "      <th>Age</th>\n",
       "      <th>Class</th>\n",
       "      <th>Major</th>\n",
       "      <th>Grad Intention</th>\n",
       "      <th>GPA</th>\n",
       "      <th>Employment</th>\n",
       "      <th>Salary</th>\n",
       "      <th>Social Networking</th>\n",
       "      <th>Satisfaction</th>\n",
       "      <th>Spending</th>\n",
       "      <th>Computer</th>\n",
       "      <th>Text Messages</th>\n",
       "    </tr>\n",
       "  </thead>\n",
       "  <tbody>\n",
       "    <tr>\n",
       "      <td>0</td>\n",
       "      <td>1</td>\n",
       "      <td>Female</td>\n",
       "      <td>20</td>\n",
       "      <td>Junior</td>\n",
       "      <td>Other</td>\n",
       "      <td>Yes</td>\n",
       "      <td>2.9</td>\n",
       "      <td>Full-Time</td>\n",
       "      <td>50.0</td>\n",
       "      <td>1</td>\n",
       "      <td>3</td>\n",
       "      <td>350</td>\n",
       "      <td>Laptop</td>\n",
       "      <td>200</td>\n",
       "    </tr>\n",
       "    <tr>\n",
       "      <td>1</td>\n",
       "      <td>2</td>\n",
       "      <td>Male</td>\n",
       "      <td>23</td>\n",
       "      <td>Senior</td>\n",
       "      <td>Management</td>\n",
       "      <td>Yes</td>\n",
       "      <td>3.6</td>\n",
       "      <td>Part-Time</td>\n",
       "      <td>25.0</td>\n",
       "      <td>1</td>\n",
       "      <td>4</td>\n",
       "      <td>360</td>\n",
       "      <td>Laptop</td>\n",
       "      <td>50</td>\n",
       "    </tr>\n",
       "    <tr>\n",
       "      <td>2</td>\n",
       "      <td>3</td>\n",
       "      <td>Male</td>\n",
       "      <td>21</td>\n",
       "      <td>Junior</td>\n",
       "      <td>Other</td>\n",
       "      <td>Yes</td>\n",
       "      <td>2.5</td>\n",
       "      <td>Part-Time</td>\n",
       "      <td>45.0</td>\n",
       "      <td>2</td>\n",
       "      <td>4</td>\n",
       "      <td>600</td>\n",
       "      <td>Laptop</td>\n",
       "      <td>200</td>\n",
       "    </tr>\n",
       "    <tr>\n",
       "      <td>3</td>\n",
       "      <td>4</td>\n",
       "      <td>Male</td>\n",
       "      <td>21</td>\n",
       "      <td>Junior</td>\n",
       "      <td>CIS</td>\n",
       "      <td>Yes</td>\n",
       "      <td>2.5</td>\n",
       "      <td>Full-Time</td>\n",
       "      <td>40.0</td>\n",
       "      <td>4</td>\n",
       "      <td>6</td>\n",
       "      <td>600</td>\n",
       "      <td>Laptop</td>\n",
       "      <td>250</td>\n",
       "    </tr>\n",
       "    <tr>\n",
       "      <td>4</td>\n",
       "      <td>5</td>\n",
       "      <td>Male</td>\n",
       "      <td>23</td>\n",
       "      <td>Senior</td>\n",
       "      <td>Other</td>\n",
       "      <td>Undecided</td>\n",
       "      <td>2.8</td>\n",
       "      <td>Unemployed</td>\n",
       "      <td>40.0</td>\n",
       "      <td>2</td>\n",
       "      <td>4</td>\n",
       "      <td>500</td>\n",
       "      <td>Laptop</td>\n",
       "      <td>100</td>\n",
       "    </tr>\n",
       "  </tbody>\n",
       "</table>\n",
       "</div>"
      ],
      "text/plain": [
       "   ID  Gender  Age   Class       Major Grad Intention  GPA  Employment  \\\n",
       "0   1  Female   20  Junior       Other            Yes  2.9   Full-Time   \n",
       "1   2    Male   23  Senior  Management            Yes  3.6   Part-Time   \n",
       "2   3    Male   21  Junior       Other            Yes  2.5   Part-Time   \n",
       "3   4    Male   21  Junior         CIS            Yes  2.5   Full-Time   \n",
       "4   5    Male   23  Senior       Other      Undecided  2.8  Unemployed   \n",
       "\n",
       "   Salary  Social Networking  Satisfaction  Spending Computer  Text Messages  \n",
       "0    50.0                  1             3       350   Laptop            200  \n",
       "1    25.0                  1             4       360   Laptop             50  \n",
       "2    45.0                  2             4       600   Laptop            200  \n",
       "3    40.0                  4             6       600   Laptop            250  \n",
       "4    40.0                  2             4       500   Laptop            100  "
      ]
     },
     "execution_count": 5,
     "metadata": {},
     "output_type": "execute_result"
    }
   ],
   "source": [
    "df_main.head()"
   ]
  },
  {
   "cell_type": "markdown",
   "metadata": {},
   "source": [
    "# Part I"
   ]
  },
  {
   "cell_type": "markdown",
   "metadata": {},
   "source": [
    "# 2.1. For this data, construct the following contingency tables \n",
    "\n",
    "(Keep Gender as row variable)"
   ]
  },
  {
   "cell_type": "markdown",
   "metadata": {},
   "source": [
    "### 2.1.1 Gender and Major"
   ]
  },
  {
   "cell_type": "code",
   "execution_count": 6,
   "metadata": {},
   "outputs": [],
   "source": [
    "df_gender_major = pd.crosstab(df_main['Gender'],df_main['Major'],margins = True,margins_name=\"Total\") \n",
    "#Using crosstab function we can create contingency table in python and marking margins as \"True\" gives total of row and col"
   ]
  },
  {
   "cell_type": "code",
   "execution_count": 7,
   "metadata": {},
   "outputs": [
    {
     "data": {
      "text/html": [
       "<div>\n",
       "<style scoped>\n",
       "    .dataframe tbody tr th:only-of-type {\n",
       "        vertical-align: middle;\n",
       "    }\n",
       "\n",
       "    .dataframe tbody tr th {\n",
       "        vertical-align: top;\n",
       "    }\n",
       "\n",
       "    .dataframe thead th {\n",
       "        text-align: right;\n",
       "    }\n",
       "</style>\n",
       "<table border=\"1\" class=\"dataframe\">\n",
       "  <thead>\n",
       "    <tr style=\"text-align: right;\">\n",
       "      <th>Major</th>\n",
       "      <th>Accounting</th>\n",
       "      <th>CIS</th>\n",
       "      <th>Economics/Finance</th>\n",
       "      <th>International Business</th>\n",
       "      <th>Management</th>\n",
       "      <th>Other</th>\n",
       "      <th>Retailing/Marketing</th>\n",
       "      <th>Undecided</th>\n",
       "      <th>Total</th>\n",
       "    </tr>\n",
       "    <tr>\n",
       "      <th>Gender</th>\n",
       "      <th></th>\n",
       "      <th></th>\n",
       "      <th></th>\n",
       "      <th></th>\n",
       "      <th></th>\n",
       "      <th></th>\n",
       "      <th></th>\n",
       "      <th></th>\n",
       "      <th></th>\n",
       "    </tr>\n",
       "  </thead>\n",
       "  <tbody>\n",
       "    <tr>\n",
       "      <td>Female</td>\n",
       "      <td>3</td>\n",
       "      <td>3</td>\n",
       "      <td>7</td>\n",
       "      <td>4</td>\n",
       "      <td>4</td>\n",
       "      <td>3</td>\n",
       "      <td>9</td>\n",
       "      <td>0</td>\n",
       "      <td>33</td>\n",
       "    </tr>\n",
       "    <tr>\n",
       "      <td>Male</td>\n",
       "      <td>4</td>\n",
       "      <td>1</td>\n",
       "      <td>4</td>\n",
       "      <td>2</td>\n",
       "      <td>6</td>\n",
       "      <td>4</td>\n",
       "      <td>5</td>\n",
       "      <td>3</td>\n",
       "      <td>29</td>\n",
       "    </tr>\n",
       "    <tr>\n",
       "      <td>Total</td>\n",
       "      <td>7</td>\n",
       "      <td>4</td>\n",
       "      <td>11</td>\n",
       "      <td>6</td>\n",
       "      <td>10</td>\n",
       "      <td>7</td>\n",
       "      <td>14</td>\n",
       "      <td>3</td>\n",
       "      <td>62</td>\n",
       "    </tr>\n",
       "  </tbody>\n",
       "</table>\n",
       "</div>"
      ],
      "text/plain": [
       "Major   Accounting  CIS  Economics/Finance  International Business  \\\n",
       "Gender                                                               \n",
       "Female           3    3                  7                       4   \n",
       "Male             4    1                  4                       2   \n",
       "Total            7    4                 11                       6   \n",
       "\n",
       "Major   Management  Other  Retailing/Marketing  Undecided  Total  \n",
       "Gender                                                            \n",
       "Female           4      3                    9          0     33  \n",
       "Male             6      4                    5          3     29  \n",
       "Total           10      7                   14          3     62  "
      ]
     },
     "execution_count": 7,
     "metadata": {},
     "output_type": "execute_result"
    }
   ],
   "source": [
    "df_gender_major #gives total counts by row (gender) and col (major)"
   ]
  },
  {
   "cell_type": "code",
   "execution_count": 8,
   "metadata": {},
   "outputs": [],
   "source": [
    "df_gender_major = pd.crosstab(df_main['Gender'],df_main['Major'],margins = True,margins_name=\"Total\",normalize=True) \n",
    "#this gives normalised (the percentage of time each combination)"
   ]
  },
  {
   "cell_type": "code",
   "execution_count": 9,
   "metadata": {},
   "outputs": [
    {
     "data": {
      "text/html": [
       "<div>\n",
       "<style scoped>\n",
       "    .dataframe tbody tr th:only-of-type {\n",
       "        vertical-align: middle;\n",
       "    }\n",
       "\n",
       "    .dataframe tbody tr th {\n",
       "        vertical-align: top;\n",
       "    }\n",
       "\n",
       "    .dataframe thead th {\n",
       "        text-align: right;\n",
       "    }\n",
       "</style>\n",
       "<table border=\"1\" class=\"dataframe\">\n",
       "  <thead>\n",
       "    <tr style=\"text-align: right;\">\n",
       "      <th>Major</th>\n",
       "      <th>Accounting</th>\n",
       "      <th>CIS</th>\n",
       "      <th>Economics/Finance</th>\n",
       "      <th>International Business</th>\n",
       "      <th>Management</th>\n",
       "      <th>Other</th>\n",
       "      <th>Retailing/Marketing</th>\n",
       "      <th>Undecided</th>\n",
       "      <th>Total</th>\n",
       "    </tr>\n",
       "    <tr>\n",
       "      <th>Gender</th>\n",
       "      <th></th>\n",
       "      <th></th>\n",
       "      <th></th>\n",
       "      <th></th>\n",
       "      <th></th>\n",
       "      <th></th>\n",
       "      <th></th>\n",
       "      <th></th>\n",
       "      <th></th>\n",
       "    </tr>\n",
       "  </thead>\n",
       "  <tbody>\n",
       "    <tr>\n",
       "      <td>Female</td>\n",
       "      <td>0.048387</td>\n",
       "      <td>0.048387</td>\n",
       "      <td>0.112903</td>\n",
       "      <td>0.064516</td>\n",
       "      <td>0.064516</td>\n",
       "      <td>0.048387</td>\n",
       "      <td>0.145161</td>\n",
       "      <td>0.000000</td>\n",
       "      <td>0.532258</td>\n",
       "    </tr>\n",
       "    <tr>\n",
       "      <td>Male</td>\n",
       "      <td>0.064516</td>\n",
       "      <td>0.016129</td>\n",
       "      <td>0.064516</td>\n",
       "      <td>0.032258</td>\n",
       "      <td>0.096774</td>\n",
       "      <td>0.064516</td>\n",
       "      <td>0.080645</td>\n",
       "      <td>0.048387</td>\n",
       "      <td>0.467742</td>\n",
       "    </tr>\n",
       "    <tr>\n",
       "      <td>Total</td>\n",
       "      <td>0.112903</td>\n",
       "      <td>0.064516</td>\n",
       "      <td>0.177419</td>\n",
       "      <td>0.096774</td>\n",
       "      <td>0.161290</td>\n",
       "      <td>0.112903</td>\n",
       "      <td>0.225806</td>\n",
       "      <td>0.048387</td>\n",
       "      <td>1.000000</td>\n",
       "    </tr>\n",
       "  </tbody>\n",
       "</table>\n",
       "</div>"
      ],
      "text/plain": [
       "Major   Accounting       CIS  Economics/Finance  International Business  \\\n",
       "Gender                                                                    \n",
       "Female    0.048387  0.048387           0.112903                0.064516   \n",
       "Male      0.064516  0.016129           0.064516                0.032258   \n",
       "Total     0.112903  0.064516           0.177419                0.096774   \n",
       "\n",
       "Major   Management     Other  Retailing/Marketing  Undecided     Total  \n",
       "Gender                                                                  \n",
       "Female    0.064516  0.048387             0.145161   0.000000  0.532258  \n",
       "Male      0.096774  0.064516             0.080645   0.048387  0.467742  \n",
       "Total     0.161290  0.112903             0.225806   0.048387  1.000000  "
      ]
     },
     "execution_count": 9,
     "metadata": {},
     "output_type": "execute_result"
    }
   ],
   "source": [
    "df_gender_major #gives % of total counts by row (gender) and col (major)"
   ]
  },
  {
   "cell_type": "code",
   "execution_count": 10,
   "metadata": {},
   "outputs": [
    {
     "data": {
      "text/html": [
       "<style  type=\"text/css\" >\n",
       "</style><table id=\"T_170347b6_019c_11eb_82b3_8e21343cdb84\" ><thead>    <tr>        <th class=\"index_name level0\" >Major</th>        <th class=\"col_heading level0 col0\" >Accounting</th>        <th class=\"col_heading level0 col1\" >CIS</th>        <th class=\"col_heading level0 col2\" >Economics/Finance</th>        <th class=\"col_heading level0 col3\" >International Business</th>        <th class=\"col_heading level0 col4\" >Management</th>        <th class=\"col_heading level0 col5\" >Other</th>        <th class=\"col_heading level0 col6\" >Retailing/Marketing</th>        <th class=\"col_heading level0 col7\" >Undecided</th>        <th class=\"col_heading level0 col8\" >Total</th>    </tr>    <tr>        <th class=\"index_name level0\" >Gender</th>        <th class=\"blank\" ></th>        <th class=\"blank\" ></th>        <th class=\"blank\" ></th>        <th class=\"blank\" ></th>        <th class=\"blank\" ></th>        <th class=\"blank\" ></th>        <th class=\"blank\" ></th>        <th class=\"blank\" ></th>        <th class=\"blank\" ></th>    </tr></thead><tbody>\n",
       "                <tr>\n",
       "                        <th id=\"T_170347b6_019c_11eb_82b3_8e21343cdb84level0_row0\" class=\"row_heading level0 row0\" >Female</th>\n",
       "                        <td id=\"T_170347b6_019c_11eb_82b3_8e21343cdb84row0_col0\" class=\"data row0 col0\" >5%</td>\n",
       "                        <td id=\"T_170347b6_019c_11eb_82b3_8e21343cdb84row0_col1\" class=\"data row0 col1\" >5%</td>\n",
       "                        <td id=\"T_170347b6_019c_11eb_82b3_8e21343cdb84row0_col2\" class=\"data row0 col2\" >11%</td>\n",
       "                        <td id=\"T_170347b6_019c_11eb_82b3_8e21343cdb84row0_col3\" class=\"data row0 col3\" >6%</td>\n",
       "                        <td id=\"T_170347b6_019c_11eb_82b3_8e21343cdb84row0_col4\" class=\"data row0 col4\" >6%</td>\n",
       "                        <td id=\"T_170347b6_019c_11eb_82b3_8e21343cdb84row0_col5\" class=\"data row0 col5\" >5%</td>\n",
       "                        <td id=\"T_170347b6_019c_11eb_82b3_8e21343cdb84row0_col6\" class=\"data row0 col6\" >15%</td>\n",
       "                        <td id=\"T_170347b6_019c_11eb_82b3_8e21343cdb84row0_col7\" class=\"data row0 col7\" >0%</td>\n",
       "                        <td id=\"T_170347b6_019c_11eb_82b3_8e21343cdb84row0_col8\" class=\"data row0 col8\" >53%</td>\n",
       "            </tr>\n",
       "            <tr>\n",
       "                        <th id=\"T_170347b6_019c_11eb_82b3_8e21343cdb84level0_row1\" class=\"row_heading level0 row1\" >Male</th>\n",
       "                        <td id=\"T_170347b6_019c_11eb_82b3_8e21343cdb84row1_col0\" class=\"data row1 col0\" >6%</td>\n",
       "                        <td id=\"T_170347b6_019c_11eb_82b3_8e21343cdb84row1_col1\" class=\"data row1 col1\" >2%</td>\n",
       "                        <td id=\"T_170347b6_019c_11eb_82b3_8e21343cdb84row1_col2\" class=\"data row1 col2\" >6%</td>\n",
       "                        <td id=\"T_170347b6_019c_11eb_82b3_8e21343cdb84row1_col3\" class=\"data row1 col3\" >3%</td>\n",
       "                        <td id=\"T_170347b6_019c_11eb_82b3_8e21343cdb84row1_col4\" class=\"data row1 col4\" >10%</td>\n",
       "                        <td id=\"T_170347b6_019c_11eb_82b3_8e21343cdb84row1_col5\" class=\"data row1 col5\" >6%</td>\n",
       "                        <td id=\"T_170347b6_019c_11eb_82b3_8e21343cdb84row1_col6\" class=\"data row1 col6\" >8%</td>\n",
       "                        <td id=\"T_170347b6_019c_11eb_82b3_8e21343cdb84row1_col7\" class=\"data row1 col7\" >5%</td>\n",
       "                        <td id=\"T_170347b6_019c_11eb_82b3_8e21343cdb84row1_col8\" class=\"data row1 col8\" >47%</td>\n",
       "            </tr>\n",
       "            <tr>\n",
       "                        <th id=\"T_170347b6_019c_11eb_82b3_8e21343cdb84level0_row2\" class=\"row_heading level0 row2\" >Total</th>\n",
       "                        <td id=\"T_170347b6_019c_11eb_82b3_8e21343cdb84row2_col0\" class=\"data row2 col0\" >11%</td>\n",
       "                        <td id=\"T_170347b6_019c_11eb_82b3_8e21343cdb84row2_col1\" class=\"data row2 col1\" >6%</td>\n",
       "                        <td id=\"T_170347b6_019c_11eb_82b3_8e21343cdb84row2_col2\" class=\"data row2 col2\" >18%</td>\n",
       "                        <td id=\"T_170347b6_019c_11eb_82b3_8e21343cdb84row2_col3\" class=\"data row2 col3\" >10%</td>\n",
       "                        <td id=\"T_170347b6_019c_11eb_82b3_8e21343cdb84row2_col4\" class=\"data row2 col4\" >16%</td>\n",
       "                        <td id=\"T_170347b6_019c_11eb_82b3_8e21343cdb84row2_col5\" class=\"data row2 col5\" >11%</td>\n",
       "                        <td id=\"T_170347b6_019c_11eb_82b3_8e21343cdb84row2_col6\" class=\"data row2 col6\" >23%</td>\n",
       "                        <td id=\"T_170347b6_019c_11eb_82b3_8e21343cdb84row2_col7\" class=\"data row2 col7\" >5%</td>\n",
       "                        <td id=\"T_170347b6_019c_11eb_82b3_8e21343cdb84row2_col8\" class=\"data row2 col8\" >100%</td>\n",
       "            </tr>\n",
       "    </tbody></table>"
      ],
      "text/plain": [
       "<pandas.io.formats.style.Styler at 0x1ac67c5cfc8>"
      ]
     },
     "execution_count": 10,
     "metadata": {},
     "output_type": "execute_result"
    }
   ],
   "source": [
    "df_gender_major.style.format(\"{:.0%}\") # view style format in %"
   ]
  },
  {
   "cell_type": "markdown",
   "metadata": {},
   "source": [
    "---------------------------------------------END OF 2.1.1------------------------------------------------------------"
   ]
  },
  {
   "cell_type": "markdown",
   "metadata": {},
   "source": [
    "### 2.1.2 Gender and Grad Intention"
   ]
  },
  {
   "cell_type": "code",
   "execution_count": 11,
   "metadata": {},
   "outputs": [],
   "source": [
    "df_gender_grad = pd.crosstab(df_main['Gender'],df_main['Grad Intention'],margins = True,margins_name=\"Total\")\n",
    "#Using crosstab function we can create contingency table in python and marking margins as \"True\" gives total of row and col"
   ]
  },
  {
   "cell_type": "code",
   "execution_count": 12,
   "metadata": {},
   "outputs": [
    {
     "data": {
      "text/html": [
       "<div>\n",
       "<style scoped>\n",
       "    .dataframe tbody tr th:only-of-type {\n",
       "        vertical-align: middle;\n",
       "    }\n",
       "\n",
       "    .dataframe tbody tr th {\n",
       "        vertical-align: top;\n",
       "    }\n",
       "\n",
       "    .dataframe thead th {\n",
       "        text-align: right;\n",
       "    }\n",
       "</style>\n",
       "<table border=\"1\" class=\"dataframe\">\n",
       "  <thead>\n",
       "    <tr style=\"text-align: right;\">\n",
       "      <th>Grad Intention</th>\n",
       "      <th>No</th>\n",
       "      <th>Undecided</th>\n",
       "      <th>Yes</th>\n",
       "      <th>Total</th>\n",
       "    </tr>\n",
       "    <tr>\n",
       "      <th>Gender</th>\n",
       "      <th></th>\n",
       "      <th></th>\n",
       "      <th></th>\n",
       "      <th></th>\n",
       "    </tr>\n",
       "  </thead>\n",
       "  <tbody>\n",
       "    <tr>\n",
       "      <td>Female</td>\n",
       "      <td>9</td>\n",
       "      <td>13</td>\n",
       "      <td>11</td>\n",
       "      <td>33</td>\n",
       "    </tr>\n",
       "    <tr>\n",
       "      <td>Male</td>\n",
       "      <td>3</td>\n",
       "      <td>9</td>\n",
       "      <td>17</td>\n",
       "      <td>29</td>\n",
       "    </tr>\n",
       "    <tr>\n",
       "      <td>Total</td>\n",
       "      <td>12</td>\n",
       "      <td>22</td>\n",
       "      <td>28</td>\n",
       "      <td>62</td>\n",
       "    </tr>\n",
       "  </tbody>\n",
       "</table>\n",
       "</div>"
      ],
      "text/plain": [
       "Grad Intention  No  Undecided  Yes  Total\n",
       "Gender                                   \n",
       "Female           9         13   11     33\n",
       "Male             3          9   17     29\n",
       "Total           12         22   28     62"
      ]
     },
     "execution_count": 12,
     "metadata": {},
     "output_type": "execute_result"
    }
   ],
   "source": [
    "df_gender_grad #gives total counts by row (gender) and col (grad intention)"
   ]
  },
  {
   "cell_type": "code",
   "execution_count": 13,
   "metadata": {},
   "outputs": [],
   "source": [
    "df_gender_grad = pd.crosstab(df_main['Gender'],df_main['Grad Intention'],margins = True,margins_name=\"Total\",normalize=True) \n",
    "#this gives normalised (the percentage of time each combination)"
   ]
  },
  {
   "cell_type": "code",
   "execution_count": 14,
   "metadata": {},
   "outputs": [
    {
     "data": {
      "text/html": [
       "<div>\n",
       "<style scoped>\n",
       "    .dataframe tbody tr th:only-of-type {\n",
       "        vertical-align: middle;\n",
       "    }\n",
       "\n",
       "    .dataframe tbody tr th {\n",
       "        vertical-align: top;\n",
       "    }\n",
       "\n",
       "    .dataframe thead th {\n",
       "        text-align: right;\n",
       "    }\n",
       "</style>\n",
       "<table border=\"1\" class=\"dataframe\">\n",
       "  <thead>\n",
       "    <tr style=\"text-align: right;\">\n",
       "      <th>Grad Intention</th>\n",
       "      <th>No</th>\n",
       "      <th>Undecided</th>\n",
       "      <th>Yes</th>\n",
       "      <th>Total</th>\n",
       "    </tr>\n",
       "    <tr>\n",
       "      <th>Gender</th>\n",
       "      <th></th>\n",
       "      <th></th>\n",
       "      <th></th>\n",
       "      <th></th>\n",
       "    </tr>\n",
       "  </thead>\n",
       "  <tbody>\n",
       "    <tr>\n",
       "      <td>Female</td>\n",
       "      <td>0.145161</td>\n",
       "      <td>0.209677</td>\n",
       "      <td>0.177419</td>\n",
       "      <td>0.532258</td>\n",
       "    </tr>\n",
       "    <tr>\n",
       "      <td>Male</td>\n",
       "      <td>0.048387</td>\n",
       "      <td>0.145161</td>\n",
       "      <td>0.274194</td>\n",
       "      <td>0.467742</td>\n",
       "    </tr>\n",
       "    <tr>\n",
       "      <td>Total</td>\n",
       "      <td>0.193548</td>\n",
       "      <td>0.354839</td>\n",
       "      <td>0.451613</td>\n",
       "      <td>1.000000</td>\n",
       "    </tr>\n",
       "  </tbody>\n",
       "</table>\n",
       "</div>"
      ],
      "text/plain": [
       "Grad Intention        No  Undecided       Yes     Total\n",
       "Gender                                                 \n",
       "Female          0.145161   0.209677  0.177419  0.532258\n",
       "Male            0.048387   0.145161  0.274194  0.467742\n",
       "Total           0.193548   0.354839  0.451613  1.000000"
      ]
     },
     "execution_count": 14,
     "metadata": {},
     "output_type": "execute_result"
    }
   ],
   "source": [
    "df_gender_grad #gives % of total counts by row (gender) and col (grad intention)"
   ]
  },
  {
   "cell_type": "code",
   "execution_count": 15,
   "metadata": {},
   "outputs": [
    {
     "data": {
      "text/html": [
       "<style  type=\"text/css\" >\n",
       "</style><table id=\"T_1713dcee_019c_11eb_9496_8e21343cdb84\" ><thead>    <tr>        <th class=\"index_name level0\" >Grad Intention</th>        <th class=\"col_heading level0 col0\" >No</th>        <th class=\"col_heading level0 col1\" >Undecided</th>        <th class=\"col_heading level0 col2\" >Yes</th>        <th class=\"col_heading level0 col3\" >Total</th>    </tr>    <tr>        <th class=\"index_name level0\" >Gender</th>        <th class=\"blank\" ></th>        <th class=\"blank\" ></th>        <th class=\"blank\" ></th>        <th class=\"blank\" ></th>    </tr></thead><tbody>\n",
       "                <tr>\n",
       "                        <th id=\"T_1713dcee_019c_11eb_9496_8e21343cdb84level0_row0\" class=\"row_heading level0 row0\" >Female</th>\n",
       "                        <td id=\"T_1713dcee_019c_11eb_9496_8e21343cdb84row0_col0\" class=\"data row0 col0\" >15%</td>\n",
       "                        <td id=\"T_1713dcee_019c_11eb_9496_8e21343cdb84row0_col1\" class=\"data row0 col1\" >21%</td>\n",
       "                        <td id=\"T_1713dcee_019c_11eb_9496_8e21343cdb84row0_col2\" class=\"data row0 col2\" >18%</td>\n",
       "                        <td id=\"T_1713dcee_019c_11eb_9496_8e21343cdb84row0_col3\" class=\"data row0 col3\" >53%</td>\n",
       "            </tr>\n",
       "            <tr>\n",
       "                        <th id=\"T_1713dcee_019c_11eb_9496_8e21343cdb84level0_row1\" class=\"row_heading level0 row1\" >Male</th>\n",
       "                        <td id=\"T_1713dcee_019c_11eb_9496_8e21343cdb84row1_col0\" class=\"data row1 col0\" >5%</td>\n",
       "                        <td id=\"T_1713dcee_019c_11eb_9496_8e21343cdb84row1_col1\" class=\"data row1 col1\" >15%</td>\n",
       "                        <td id=\"T_1713dcee_019c_11eb_9496_8e21343cdb84row1_col2\" class=\"data row1 col2\" >27%</td>\n",
       "                        <td id=\"T_1713dcee_019c_11eb_9496_8e21343cdb84row1_col3\" class=\"data row1 col3\" >47%</td>\n",
       "            </tr>\n",
       "            <tr>\n",
       "                        <th id=\"T_1713dcee_019c_11eb_9496_8e21343cdb84level0_row2\" class=\"row_heading level0 row2\" >Total</th>\n",
       "                        <td id=\"T_1713dcee_019c_11eb_9496_8e21343cdb84row2_col0\" class=\"data row2 col0\" >19%</td>\n",
       "                        <td id=\"T_1713dcee_019c_11eb_9496_8e21343cdb84row2_col1\" class=\"data row2 col1\" >35%</td>\n",
       "                        <td id=\"T_1713dcee_019c_11eb_9496_8e21343cdb84row2_col2\" class=\"data row2 col2\" >45%</td>\n",
       "                        <td id=\"T_1713dcee_019c_11eb_9496_8e21343cdb84row2_col3\" class=\"data row2 col3\" >100%</td>\n",
       "            </tr>\n",
       "    </tbody></table>"
      ],
      "text/plain": [
       "<pandas.io.formats.style.Styler at 0x1ac68090a48>"
      ]
     },
     "execution_count": 15,
     "metadata": {},
     "output_type": "execute_result"
    }
   ],
   "source": [
    "df_gender_grad.style.format(\"{:.0%}\") # view style format in %"
   ]
  },
  {
   "cell_type": "markdown",
   "metadata": {},
   "source": [
    "---------------------------------------------END OF 2.1.2------------------------------------------------------------"
   ]
  },
  {
   "cell_type": "markdown",
   "metadata": {},
   "source": [
    "### 2.1.3 Gender and Employment"
   ]
  },
  {
   "cell_type": "code",
   "execution_count": 16,
   "metadata": {},
   "outputs": [],
   "source": [
    "df_gender_employment = pd.crosstab(df_main['Gender'],df_main['Employment'],margins = True,margins_name=\"Total\")\n",
    "#Using crosstab function we can create contingency table in python and marking margins as \"True\" gives total of row and col"
   ]
  },
  {
   "cell_type": "code",
   "execution_count": 17,
   "metadata": {},
   "outputs": [
    {
     "data": {
      "text/html": [
       "<div>\n",
       "<style scoped>\n",
       "    .dataframe tbody tr th:only-of-type {\n",
       "        vertical-align: middle;\n",
       "    }\n",
       "\n",
       "    .dataframe tbody tr th {\n",
       "        vertical-align: top;\n",
       "    }\n",
       "\n",
       "    .dataframe thead th {\n",
       "        text-align: right;\n",
       "    }\n",
       "</style>\n",
       "<table border=\"1\" class=\"dataframe\">\n",
       "  <thead>\n",
       "    <tr style=\"text-align: right;\">\n",
       "      <th>Employment</th>\n",
       "      <th>Full-Time</th>\n",
       "      <th>Part-Time</th>\n",
       "      <th>Unemployed</th>\n",
       "      <th>Total</th>\n",
       "    </tr>\n",
       "    <tr>\n",
       "      <th>Gender</th>\n",
       "      <th></th>\n",
       "      <th></th>\n",
       "      <th></th>\n",
       "      <th></th>\n",
       "    </tr>\n",
       "  </thead>\n",
       "  <tbody>\n",
       "    <tr>\n",
       "      <td>Female</td>\n",
       "      <td>3</td>\n",
       "      <td>24</td>\n",
       "      <td>6</td>\n",
       "      <td>33</td>\n",
       "    </tr>\n",
       "    <tr>\n",
       "      <td>Male</td>\n",
       "      <td>7</td>\n",
       "      <td>19</td>\n",
       "      <td>3</td>\n",
       "      <td>29</td>\n",
       "    </tr>\n",
       "    <tr>\n",
       "      <td>Total</td>\n",
       "      <td>10</td>\n",
       "      <td>43</td>\n",
       "      <td>9</td>\n",
       "      <td>62</td>\n",
       "    </tr>\n",
       "  </tbody>\n",
       "</table>\n",
       "</div>"
      ],
      "text/plain": [
       "Employment  Full-Time  Part-Time  Unemployed  Total\n",
       "Gender                                             \n",
       "Female              3         24           6     33\n",
       "Male                7         19           3     29\n",
       "Total              10         43           9     62"
      ]
     },
     "execution_count": 17,
     "metadata": {},
     "output_type": "execute_result"
    }
   ],
   "source": [
    "df_gender_employment #gives total counts by row (gender) and col (employment)"
   ]
  },
  {
   "cell_type": "code",
   "execution_count": 18,
   "metadata": {},
   "outputs": [],
   "source": [
    "df_gender_employment = pd.crosstab(df_main['Gender'],df_main['Employment'],margins = True,margins_name=\"Total\",normalize=True) \n",
    "#this gives normalised (the percentage of time each combination)"
   ]
  },
  {
   "cell_type": "code",
   "execution_count": 19,
   "metadata": {},
   "outputs": [
    {
     "data": {
      "text/html": [
       "<div>\n",
       "<style scoped>\n",
       "    .dataframe tbody tr th:only-of-type {\n",
       "        vertical-align: middle;\n",
       "    }\n",
       "\n",
       "    .dataframe tbody tr th {\n",
       "        vertical-align: top;\n",
       "    }\n",
       "\n",
       "    .dataframe thead th {\n",
       "        text-align: right;\n",
       "    }\n",
       "</style>\n",
       "<table border=\"1\" class=\"dataframe\">\n",
       "  <thead>\n",
       "    <tr style=\"text-align: right;\">\n",
       "      <th>Employment</th>\n",
       "      <th>Full-Time</th>\n",
       "      <th>Part-Time</th>\n",
       "      <th>Unemployed</th>\n",
       "      <th>Total</th>\n",
       "    </tr>\n",
       "    <tr>\n",
       "      <th>Gender</th>\n",
       "      <th></th>\n",
       "      <th></th>\n",
       "      <th></th>\n",
       "      <th></th>\n",
       "    </tr>\n",
       "  </thead>\n",
       "  <tbody>\n",
       "    <tr>\n",
       "      <td>Female</td>\n",
       "      <td>0.048387</td>\n",
       "      <td>0.387097</td>\n",
       "      <td>0.096774</td>\n",
       "      <td>0.532258</td>\n",
       "    </tr>\n",
       "    <tr>\n",
       "      <td>Male</td>\n",
       "      <td>0.112903</td>\n",
       "      <td>0.306452</td>\n",
       "      <td>0.048387</td>\n",
       "      <td>0.467742</td>\n",
       "    </tr>\n",
       "    <tr>\n",
       "      <td>Total</td>\n",
       "      <td>0.161290</td>\n",
       "      <td>0.693548</td>\n",
       "      <td>0.145161</td>\n",
       "      <td>1.000000</td>\n",
       "    </tr>\n",
       "  </tbody>\n",
       "</table>\n",
       "</div>"
      ],
      "text/plain": [
       "Employment  Full-Time  Part-Time  Unemployed     Total\n",
       "Gender                                                \n",
       "Female       0.048387   0.387097    0.096774  0.532258\n",
       "Male         0.112903   0.306452    0.048387  0.467742\n",
       "Total        0.161290   0.693548    0.145161  1.000000"
      ]
     },
     "execution_count": 19,
     "metadata": {},
     "output_type": "execute_result"
    }
   ],
   "source": [
    "df_gender_employment #gives % of total counts by row (gender) and col (employment)"
   ]
  },
  {
   "cell_type": "code",
   "execution_count": 20,
   "metadata": {},
   "outputs": [
    {
     "data": {
      "text/html": [
       "<style  type=\"text/css\" >\n",
       "</style><table id=\"T_1724c152_019c_11eb_b071_8e21343cdb84\" ><thead>    <tr>        <th class=\"index_name level0\" >Employment</th>        <th class=\"col_heading level0 col0\" >Full-Time</th>        <th class=\"col_heading level0 col1\" >Part-Time</th>        <th class=\"col_heading level0 col2\" >Unemployed</th>        <th class=\"col_heading level0 col3\" >Total</th>    </tr>    <tr>        <th class=\"index_name level0\" >Gender</th>        <th class=\"blank\" ></th>        <th class=\"blank\" ></th>        <th class=\"blank\" ></th>        <th class=\"blank\" ></th>    </tr></thead><tbody>\n",
       "                <tr>\n",
       "                        <th id=\"T_1724c152_019c_11eb_b071_8e21343cdb84level0_row0\" class=\"row_heading level0 row0\" >Female</th>\n",
       "                        <td id=\"T_1724c152_019c_11eb_b071_8e21343cdb84row0_col0\" class=\"data row0 col0\" >5%</td>\n",
       "                        <td id=\"T_1724c152_019c_11eb_b071_8e21343cdb84row0_col1\" class=\"data row0 col1\" >39%</td>\n",
       "                        <td id=\"T_1724c152_019c_11eb_b071_8e21343cdb84row0_col2\" class=\"data row0 col2\" >10%</td>\n",
       "                        <td id=\"T_1724c152_019c_11eb_b071_8e21343cdb84row0_col3\" class=\"data row0 col3\" >53%</td>\n",
       "            </tr>\n",
       "            <tr>\n",
       "                        <th id=\"T_1724c152_019c_11eb_b071_8e21343cdb84level0_row1\" class=\"row_heading level0 row1\" >Male</th>\n",
       "                        <td id=\"T_1724c152_019c_11eb_b071_8e21343cdb84row1_col0\" class=\"data row1 col0\" >11%</td>\n",
       "                        <td id=\"T_1724c152_019c_11eb_b071_8e21343cdb84row1_col1\" class=\"data row1 col1\" >31%</td>\n",
       "                        <td id=\"T_1724c152_019c_11eb_b071_8e21343cdb84row1_col2\" class=\"data row1 col2\" >5%</td>\n",
       "                        <td id=\"T_1724c152_019c_11eb_b071_8e21343cdb84row1_col3\" class=\"data row1 col3\" >47%</td>\n",
       "            </tr>\n",
       "            <tr>\n",
       "                        <th id=\"T_1724c152_019c_11eb_b071_8e21343cdb84level0_row2\" class=\"row_heading level0 row2\" >Total</th>\n",
       "                        <td id=\"T_1724c152_019c_11eb_b071_8e21343cdb84row2_col0\" class=\"data row2 col0\" >16%</td>\n",
       "                        <td id=\"T_1724c152_019c_11eb_b071_8e21343cdb84row2_col1\" class=\"data row2 col1\" >69%</td>\n",
       "                        <td id=\"T_1724c152_019c_11eb_b071_8e21343cdb84row2_col2\" class=\"data row2 col2\" >15%</td>\n",
       "                        <td id=\"T_1724c152_019c_11eb_b071_8e21343cdb84row2_col3\" class=\"data row2 col3\" >100%</td>\n",
       "            </tr>\n",
       "    </tbody></table>"
      ],
      "text/plain": [
       "<pandas.io.formats.style.Styler at 0x1ac6806d408>"
      ]
     },
     "execution_count": 20,
     "metadata": {},
     "output_type": "execute_result"
    }
   ],
   "source": [
    "df_gender_employment.style.format(\"{:.0%}\") # view style format in %"
   ]
  },
  {
   "cell_type": "markdown",
   "metadata": {},
   "source": [
    "---------------------------------------------END OF 2.1.3------------------------------------------------------------"
   ]
  },
  {
   "cell_type": "markdown",
   "metadata": {},
   "source": [
    "### 2.1.4 Gender and Computer"
   ]
  },
  {
   "cell_type": "code",
   "execution_count": 21,
   "metadata": {},
   "outputs": [],
   "source": [
    "df_gender_computer = pd.crosstab(df_main['Gender'],df_main['Computer'],margins = True,margins_name=\"Total\")\n",
    "#Using crosstab function we can create contingency table in python and marking margins as \"True\" gives total of row and col"
   ]
  },
  {
   "cell_type": "code",
   "execution_count": 22,
   "metadata": {},
   "outputs": [
    {
     "data": {
      "text/html": [
       "<div>\n",
       "<style scoped>\n",
       "    .dataframe tbody tr th:only-of-type {\n",
       "        vertical-align: middle;\n",
       "    }\n",
       "\n",
       "    .dataframe tbody tr th {\n",
       "        vertical-align: top;\n",
       "    }\n",
       "\n",
       "    .dataframe thead th {\n",
       "        text-align: right;\n",
       "    }\n",
       "</style>\n",
       "<table border=\"1\" class=\"dataframe\">\n",
       "  <thead>\n",
       "    <tr style=\"text-align: right;\">\n",
       "      <th>Computer</th>\n",
       "      <th>Desktop</th>\n",
       "      <th>Laptop</th>\n",
       "      <th>Tablet</th>\n",
       "      <th>Total</th>\n",
       "    </tr>\n",
       "    <tr>\n",
       "      <th>Gender</th>\n",
       "      <th></th>\n",
       "      <th></th>\n",
       "      <th></th>\n",
       "      <th></th>\n",
       "    </tr>\n",
       "  </thead>\n",
       "  <tbody>\n",
       "    <tr>\n",
       "      <td>Female</td>\n",
       "      <td>2</td>\n",
       "      <td>29</td>\n",
       "      <td>2</td>\n",
       "      <td>33</td>\n",
       "    </tr>\n",
       "    <tr>\n",
       "      <td>Male</td>\n",
       "      <td>3</td>\n",
       "      <td>26</td>\n",
       "      <td>0</td>\n",
       "      <td>29</td>\n",
       "    </tr>\n",
       "    <tr>\n",
       "      <td>Total</td>\n",
       "      <td>5</td>\n",
       "      <td>55</td>\n",
       "      <td>2</td>\n",
       "      <td>62</td>\n",
       "    </tr>\n",
       "  </tbody>\n",
       "</table>\n",
       "</div>"
      ],
      "text/plain": [
       "Computer  Desktop  Laptop  Tablet  Total\n",
       "Gender                                  \n",
       "Female          2      29       2     33\n",
       "Male            3      26       0     29\n",
       "Total           5      55       2     62"
      ]
     },
     "execution_count": 22,
     "metadata": {},
     "output_type": "execute_result"
    }
   ],
   "source": [
    "df_gender_computer #gives total counts by row (gender) and col (computer)"
   ]
  },
  {
   "cell_type": "code",
   "execution_count": 23,
   "metadata": {},
   "outputs": [],
   "source": [
    "df_gender_computer = pd.crosstab(df_main['Gender'],df_main['Computer'],margins = True,margins_name=\"Total\",normalize=True) \n",
    "#this gives normalised (the percentage of time each combination)"
   ]
  },
  {
   "cell_type": "code",
   "execution_count": 24,
   "metadata": {},
   "outputs": [
    {
     "data": {
      "text/html": [
       "<div>\n",
       "<style scoped>\n",
       "    .dataframe tbody tr th:only-of-type {\n",
       "        vertical-align: middle;\n",
       "    }\n",
       "\n",
       "    .dataframe tbody tr th {\n",
       "        vertical-align: top;\n",
       "    }\n",
       "\n",
       "    .dataframe thead th {\n",
       "        text-align: right;\n",
       "    }\n",
       "</style>\n",
       "<table border=\"1\" class=\"dataframe\">\n",
       "  <thead>\n",
       "    <tr style=\"text-align: right;\">\n",
       "      <th>Computer</th>\n",
       "      <th>Desktop</th>\n",
       "      <th>Laptop</th>\n",
       "      <th>Tablet</th>\n",
       "      <th>Total</th>\n",
       "    </tr>\n",
       "    <tr>\n",
       "      <th>Gender</th>\n",
       "      <th></th>\n",
       "      <th></th>\n",
       "      <th></th>\n",
       "      <th></th>\n",
       "    </tr>\n",
       "  </thead>\n",
       "  <tbody>\n",
       "    <tr>\n",
       "      <td>Female</td>\n",
       "      <td>0.032258</td>\n",
       "      <td>0.467742</td>\n",
       "      <td>0.032258</td>\n",
       "      <td>0.532258</td>\n",
       "    </tr>\n",
       "    <tr>\n",
       "      <td>Male</td>\n",
       "      <td>0.048387</td>\n",
       "      <td>0.419355</td>\n",
       "      <td>0.000000</td>\n",
       "      <td>0.467742</td>\n",
       "    </tr>\n",
       "    <tr>\n",
       "      <td>Total</td>\n",
       "      <td>0.080645</td>\n",
       "      <td>0.887097</td>\n",
       "      <td>0.032258</td>\n",
       "      <td>1.000000</td>\n",
       "    </tr>\n",
       "  </tbody>\n",
       "</table>\n",
       "</div>"
      ],
      "text/plain": [
       "Computer   Desktop    Laptop    Tablet     Total\n",
       "Gender                                          \n",
       "Female    0.032258  0.467742  0.032258  0.532258\n",
       "Male      0.048387  0.419355  0.000000  0.467742\n",
       "Total     0.080645  0.887097  0.032258  1.000000"
      ]
     },
     "execution_count": 24,
     "metadata": {},
     "output_type": "execute_result"
    }
   ],
   "source": [
    "df_gender_computer #gives % of total counts by row (gender) and col (computer)"
   ]
  },
  {
   "cell_type": "code",
   "execution_count": 25,
   "metadata": {},
   "outputs": [
    {
     "data": {
      "text/html": [
       "<style  type=\"text/css\" >\n",
       "</style><table id=\"T_173b9510_019c_11eb_bfec_8e21343cdb84\" ><thead>    <tr>        <th class=\"index_name level0\" >Computer</th>        <th class=\"col_heading level0 col0\" >Desktop</th>        <th class=\"col_heading level0 col1\" >Laptop</th>        <th class=\"col_heading level0 col2\" >Tablet</th>        <th class=\"col_heading level0 col3\" >Total</th>    </tr>    <tr>        <th class=\"index_name level0\" >Gender</th>        <th class=\"blank\" ></th>        <th class=\"blank\" ></th>        <th class=\"blank\" ></th>        <th class=\"blank\" ></th>    </tr></thead><tbody>\n",
       "                <tr>\n",
       "                        <th id=\"T_173b9510_019c_11eb_bfec_8e21343cdb84level0_row0\" class=\"row_heading level0 row0\" >Female</th>\n",
       "                        <td id=\"T_173b9510_019c_11eb_bfec_8e21343cdb84row0_col0\" class=\"data row0 col0\" >3%</td>\n",
       "                        <td id=\"T_173b9510_019c_11eb_bfec_8e21343cdb84row0_col1\" class=\"data row0 col1\" >47%</td>\n",
       "                        <td id=\"T_173b9510_019c_11eb_bfec_8e21343cdb84row0_col2\" class=\"data row0 col2\" >3%</td>\n",
       "                        <td id=\"T_173b9510_019c_11eb_bfec_8e21343cdb84row0_col3\" class=\"data row0 col3\" >53%</td>\n",
       "            </tr>\n",
       "            <tr>\n",
       "                        <th id=\"T_173b9510_019c_11eb_bfec_8e21343cdb84level0_row1\" class=\"row_heading level0 row1\" >Male</th>\n",
       "                        <td id=\"T_173b9510_019c_11eb_bfec_8e21343cdb84row1_col0\" class=\"data row1 col0\" >5%</td>\n",
       "                        <td id=\"T_173b9510_019c_11eb_bfec_8e21343cdb84row1_col1\" class=\"data row1 col1\" >42%</td>\n",
       "                        <td id=\"T_173b9510_019c_11eb_bfec_8e21343cdb84row1_col2\" class=\"data row1 col2\" >0%</td>\n",
       "                        <td id=\"T_173b9510_019c_11eb_bfec_8e21343cdb84row1_col3\" class=\"data row1 col3\" >47%</td>\n",
       "            </tr>\n",
       "            <tr>\n",
       "                        <th id=\"T_173b9510_019c_11eb_bfec_8e21343cdb84level0_row2\" class=\"row_heading level0 row2\" >Total</th>\n",
       "                        <td id=\"T_173b9510_019c_11eb_bfec_8e21343cdb84row2_col0\" class=\"data row2 col0\" >8%</td>\n",
       "                        <td id=\"T_173b9510_019c_11eb_bfec_8e21343cdb84row2_col1\" class=\"data row2 col1\" >89%</td>\n",
       "                        <td id=\"T_173b9510_019c_11eb_bfec_8e21343cdb84row2_col2\" class=\"data row2 col2\" >3%</td>\n",
       "                        <td id=\"T_173b9510_019c_11eb_bfec_8e21343cdb84row2_col3\" class=\"data row2 col3\" >100%</td>\n",
       "            </tr>\n",
       "    </tbody></table>"
      ],
      "text/plain": [
       "<pandas.io.formats.style.Styler at 0x1ac680cd808>"
      ]
     },
     "execution_count": 25,
     "metadata": {},
     "output_type": "execute_result"
    }
   ],
   "source": [
    "df_gender_computer.style.format(\"{:.0%}\") # view style format in %"
   ]
  },
  {
   "cell_type": "markdown",
   "metadata": {},
   "source": [
    "---------------------------------------------END OF 2.1.4------------------------------------------------------------"
   ]
  },
  {
   "cell_type": "markdown",
   "metadata": {},
   "source": [
    "#### -----------------------------------------------------------------END OF 2.1------------------------------------------------------------------------------------"
   ]
  },
  {
   "cell_type": "markdown",
   "metadata": {},
   "source": [
    "# 2.2. Assume that the sample is a representative of the population of CMSU. Based on the data, answer the following questions:"
   ]
  },
  {
   "cell_type": "markdown",
   "metadata": {},
   "source": [
    "### 2.2.1. What is the probability that a randomly selected CMSU student will be male? \n",
    "### What is the probability that a randomly selected CMSU student will be female?"
   ]
  },
  {
   "cell_type": "code",
   "execution_count": 26,
   "metadata": {},
   "outputs": [
    {
     "data": {
      "text/html": [
       "<div>\n",
       "<style scoped>\n",
       "    .dataframe tbody tr th:only-of-type {\n",
       "        vertical-align: middle;\n",
       "    }\n",
       "\n",
       "    .dataframe tbody tr th {\n",
       "        vertical-align: top;\n",
       "    }\n",
       "\n",
       "    .dataframe thead th {\n",
       "        text-align: right;\n",
       "    }\n",
       "</style>\n",
       "<table border=\"1\" class=\"dataframe\">\n",
       "  <thead>\n",
       "    <tr style=\"text-align: right;\">\n",
       "      <th></th>\n",
       "      <th>ID</th>\n",
       "      <th>Gender</th>\n",
       "      <th>Age</th>\n",
       "      <th>Class</th>\n",
       "      <th>Major</th>\n",
       "      <th>Grad Intention</th>\n",
       "      <th>GPA</th>\n",
       "      <th>Employment</th>\n",
       "      <th>Salary</th>\n",
       "      <th>Social Networking</th>\n",
       "      <th>Satisfaction</th>\n",
       "      <th>Spending</th>\n",
       "      <th>Computer</th>\n",
       "      <th>Text Messages</th>\n",
       "    </tr>\n",
       "  </thead>\n",
       "  <tbody>\n",
       "    <tr>\n",
       "      <td>0</td>\n",
       "      <td>1</td>\n",
       "      <td>Female</td>\n",
       "      <td>20</td>\n",
       "      <td>Junior</td>\n",
       "      <td>Other</td>\n",
       "      <td>Yes</td>\n",
       "      <td>2.9</td>\n",
       "      <td>Full-Time</td>\n",
       "      <td>50.0</td>\n",
       "      <td>1</td>\n",
       "      <td>3</td>\n",
       "      <td>350</td>\n",
       "      <td>Laptop</td>\n",
       "      <td>200</td>\n",
       "    </tr>\n",
       "    <tr>\n",
       "      <td>1</td>\n",
       "      <td>2</td>\n",
       "      <td>Male</td>\n",
       "      <td>23</td>\n",
       "      <td>Senior</td>\n",
       "      <td>Management</td>\n",
       "      <td>Yes</td>\n",
       "      <td>3.6</td>\n",
       "      <td>Part-Time</td>\n",
       "      <td>25.0</td>\n",
       "      <td>1</td>\n",
       "      <td>4</td>\n",
       "      <td>360</td>\n",
       "      <td>Laptop</td>\n",
       "      <td>50</td>\n",
       "    </tr>\n",
       "    <tr>\n",
       "      <td>2</td>\n",
       "      <td>3</td>\n",
       "      <td>Male</td>\n",
       "      <td>21</td>\n",
       "      <td>Junior</td>\n",
       "      <td>Other</td>\n",
       "      <td>Yes</td>\n",
       "      <td>2.5</td>\n",
       "      <td>Part-Time</td>\n",
       "      <td>45.0</td>\n",
       "      <td>2</td>\n",
       "      <td>4</td>\n",
       "      <td>600</td>\n",
       "      <td>Laptop</td>\n",
       "      <td>200</td>\n",
       "    </tr>\n",
       "    <tr>\n",
       "      <td>3</td>\n",
       "      <td>4</td>\n",
       "      <td>Male</td>\n",
       "      <td>21</td>\n",
       "      <td>Junior</td>\n",
       "      <td>CIS</td>\n",
       "      <td>Yes</td>\n",
       "      <td>2.5</td>\n",
       "      <td>Full-Time</td>\n",
       "      <td>40.0</td>\n",
       "      <td>4</td>\n",
       "      <td>6</td>\n",
       "      <td>600</td>\n",
       "      <td>Laptop</td>\n",
       "      <td>250</td>\n",
       "    </tr>\n",
       "    <tr>\n",
       "      <td>4</td>\n",
       "      <td>5</td>\n",
       "      <td>Male</td>\n",
       "      <td>23</td>\n",
       "      <td>Senior</td>\n",
       "      <td>Other</td>\n",
       "      <td>Undecided</td>\n",
       "      <td>2.8</td>\n",
       "      <td>Unemployed</td>\n",
       "      <td>40.0</td>\n",
       "      <td>2</td>\n",
       "      <td>4</td>\n",
       "      <td>500</td>\n",
       "      <td>Laptop</td>\n",
       "      <td>100</td>\n",
       "    </tr>\n",
       "  </tbody>\n",
       "</table>\n",
       "</div>"
      ],
      "text/plain": [
       "   ID  Gender  Age   Class       Major Grad Intention  GPA  Employment  \\\n",
       "0   1  Female   20  Junior       Other            Yes  2.9   Full-Time   \n",
       "1   2    Male   23  Senior  Management            Yes  3.6   Part-Time   \n",
       "2   3    Male   21  Junior       Other            Yes  2.5   Part-Time   \n",
       "3   4    Male   21  Junior         CIS            Yes  2.5   Full-Time   \n",
       "4   5    Male   23  Senior       Other      Undecided  2.8  Unemployed   \n",
       "\n",
       "   Salary  Social Networking  Satisfaction  Spending Computer  Text Messages  \n",
       "0    50.0                  1             3       350   Laptop            200  \n",
       "1    25.0                  1             4       360   Laptop             50  \n",
       "2    45.0                  2             4       600   Laptop            200  \n",
       "3    40.0                  4             6       600   Laptop            250  \n",
       "4    40.0                  2             4       500   Laptop            100  "
      ]
     },
     "execution_count": 26,
     "metadata": {},
     "output_type": "execute_result"
    }
   ],
   "source": [
    "df_main.head() ##top5 rows from the dataset"
   ]
  },
  {
   "cell_type": "code",
   "execution_count": 27,
   "metadata": {},
   "outputs": [
    {
     "data": {
      "text/plain": [
       "Gender\n",
       "Female    33\n",
       "Male      29\n",
       "Name: Gender, dtype: int64"
      ]
     },
     "execution_count": 27,
     "metadata": {},
     "output_type": "execute_result"
    }
   ],
   "source": [
    "df_gender = df_main.groupby('Gender') ## use groupby function to get genderwise student details\n",
    "df_gender['Gender'].count()"
   ]
  },
  {
   "cell_type": "code",
   "execution_count": 28,
   "metadata": {},
   "outputs": [
    {
     "data": {
      "text/plain": [
       "33"
      ]
     },
     "execution_count": 28,
     "metadata": {},
     "output_type": "execute_result"
    }
   ],
   "source": [
    "female_students = df_gender['Gender'].count().loc['Female'] ## identify female students from the datasets\n",
    "female_students"
   ]
  },
  {
   "cell_type": "code",
   "execution_count": 29,
   "metadata": {},
   "outputs": [
    {
     "data": {
      "text/plain": [
       "29"
      ]
     },
     "execution_count": 29,
     "metadata": {},
     "output_type": "execute_result"
    }
   ],
   "source": [
    "male_students = df_gender['Gender'].count().loc['Male'] ## identify male students from the datasets\n",
    "male_students"
   ]
  },
  {
   "cell_type": "code",
   "execution_count": 30,
   "metadata": {},
   "outputs": [
    {
     "data": {
      "text/plain": [
       "62"
      ]
     },
     "execution_count": 30,
     "metadata": {},
     "output_type": "execute_result"
    }
   ],
   "source": [
    "total_students = df_gender['Gender'].count().sum() ## identify total students from the datasets\n",
    "total_students"
   ]
  },
  {
   "cell_type": "markdown",
   "metadata": {},
   "source": [
    "#### What is the probability that a randomly selected CMSU student will be male? "
   ]
  },
  {
   "cell_type": "code",
   "execution_count": 31,
   "metadata": {},
   "outputs": [
    {
     "data": {
      "text/plain": [
       "0.46774193548387094"
      ]
     },
     "execution_count": 31,
     "metadata": {},
     "output_type": "execute_result"
    }
   ],
   "source": [
    "probability_male = male_students / total_students ##find out probability of male students\n",
    "probability_male"
   ]
  },
  {
   "cell_type": "code",
   "execution_count": 32,
   "metadata": {},
   "outputs": [
    {
     "name": "stdout",
     "output_type": "stream",
     "text": [
      "\u001b[1m\u001b[4mThere is a 46.8% chance that a randomly selected student will be male\u001b[0m\n"
     ]
    }
   ],
   "source": [
    "print(color.BOLD + color.UNDERLINE + 'There is a', \n",
    "      \"{:.1%}\".format(probability_male), 'chance that a randomly selected student will be male' + color.END)"
   ]
  },
  {
   "cell_type": "markdown",
   "metadata": {},
   "source": [
    "#### What is the probability that a randomly selected CMSU student will be female? "
   ]
  },
  {
   "cell_type": "code",
   "execution_count": 33,
   "metadata": {},
   "outputs": [
    {
     "data": {
      "text/plain": [
       "0.532258064516129"
      ]
     },
     "execution_count": 33,
     "metadata": {},
     "output_type": "execute_result"
    }
   ],
   "source": [
    "probability_female = female_students / total_students  ##find out probability of female students\n",
    "probability_female "
   ]
  },
  {
   "cell_type": "code",
   "execution_count": 34,
   "metadata": {},
   "outputs": [
    {
     "name": "stdout",
     "output_type": "stream",
     "text": [
      "\u001b[4m\u001b[1mThere is a 53.2% chance that a randomly selected student will be female\u001b[0m\n"
     ]
    }
   ],
   "source": [
    "print(color.UNDERLINE + color.BOLD + 'There is a', \n",
    "      \"{:.1%}\".format(probability_female), 'chance that a randomly selected student will be female' + color.END)"
   ]
  },
  {
   "cell_type": "markdown",
   "metadata": {},
   "source": [
    "---------------------------------------------END OF 2.2.1------------------------------------------------------------"
   ]
  },
  {
   "cell_type": "markdown",
   "metadata": {},
   "source": [
    "### 2.2.2. Find the conditional probability of different majors among the male students in CMSU. \n",
    "### Find the conditional probability of different majors among the female students of CMSU."
   ]
  },
  {
   "cell_type": "code",
   "execution_count": 35,
   "metadata": {},
   "outputs": [
    {
     "data": {
      "text/html": [
       "<div>\n",
       "<style scoped>\n",
       "    .dataframe tbody tr th:only-of-type {\n",
       "        vertical-align: middle;\n",
       "    }\n",
       "\n",
       "    .dataframe tbody tr th {\n",
       "        vertical-align: top;\n",
       "    }\n",
       "\n",
       "    .dataframe thead th {\n",
       "        text-align: right;\n",
       "    }\n",
       "</style>\n",
       "<table border=\"1\" class=\"dataframe\">\n",
       "  <thead>\n",
       "    <tr style=\"text-align: right;\">\n",
       "      <th></th>\n",
       "      <th>ID</th>\n",
       "      <th>Gender</th>\n",
       "      <th>Age</th>\n",
       "      <th>Class</th>\n",
       "      <th>Major</th>\n",
       "      <th>Grad Intention</th>\n",
       "      <th>GPA</th>\n",
       "      <th>Employment</th>\n",
       "      <th>Salary</th>\n",
       "      <th>Social Networking</th>\n",
       "      <th>Satisfaction</th>\n",
       "      <th>Spending</th>\n",
       "      <th>Computer</th>\n",
       "      <th>Text Messages</th>\n",
       "    </tr>\n",
       "  </thead>\n",
       "  <tbody>\n",
       "    <tr>\n",
       "      <td>0</td>\n",
       "      <td>1</td>\n",
       "      <td>Female</td>\n",
       "      <td>20</td>\n",
       "      <td>Junior</td>\n",
       "      <td>Other</td>\n",
       "      <td>Yes</td>\n",
       "      <td>2.9</td>\n",
       "      <td>Full-Time</td>\n",
       "      <td>50.0</td>\n",
       "      <td>1</td>\n",
       "      <td>3</td>\n",
       "      <td>350</td>\n",
       "      <td>Laptop</td>\n",
       "      <td>200</td>\n",
       "    </tr>\n",
       "    <tr>\n",
       "      <td>1</td>\n",
       "      <td>2</td>\n",
       "      <td>Male</td>\n",
       "      <td>23</td>\n",
       "      <td>Senior</td>\n",
       "      <td>Management</td>\n",
       "      <td>Yes</td>\n",
       "      <td>3.6</td>\n",
       "      <td>Part-Time</td>\n",
       "      <td>25.0</td>\n",
       "      <td>1</td>\n",
       "      <td>4</td>\n",
       "      <td>360</td>\n",
       "      <td>Laptop</td>\n",
       "      <td>50</td>\n",
       "    </tr>\n",
       "    <tr>\n",
       "      <td>2</td>\n",
       "      <td>3</td>\n",
       "      <td>Male</td>\n",
       "      <td>21</td>\n",
       "      <td>Junior</td>\n",
       "      <td>Other</td>\n",
       "      <td>Yes</td>\n",
       "      <td>2.5</td>\n",
       "      <td>Part-Time</td>\n",
       "      <td>45.0</td>\n",
       "      <td>2</td>\n",
       "      <td>4</td>\n",
       "      <td>600</td>\n",
       "      <td>Laptop</td>\n",
       "      <td>200</td>\n",
       "    </tr>\n",
       "    <tr>\n",
       "      <td>3</td>\n",
       "      <td>4</td>\n",
       "      <td>Male</td>\n",
       "      <td>21</td>\n",
       "      <td>Junior</td>\n",
       "      <td>CIS</td>\n",
       "      <td>Yes</td>\n",
       "      <td>2.5</td>\n",
       "      <td>Full-Time</td>\n",
       "      <td>40.0</td>\n",
       "      <td>4</td>\n",
       "      <td>6</td>\n",
       "      <td>600</td>\n",
       "      <td>Laptop</td>\n",
       "      <td>250</td>\n",
       "    </tr>\n",
       "    <tr>\n",
       "      <td>4</td>\n",
       "      <td>5</td>\n",
       "      <td>Male</td>\n",
       "      <td>23</td>\n",
       "      <td>Senior</td>\n",
       "      <td>Other</td>\n",
       "      <td>Undecided</td>\n",
       "      <td>2.8</td>\n",
       "      <td>Unemployed</td>\n",
       "      <td>40.0</td>\n",
       "      <td>2</td>\n",
       "      <td>4</td>\n",
       "      <td>500</td>\n",
       "      <td>Laptop</td>\n",
       "      <td>100</td>\n",
       "    </tr>\n",
       "  </tbody>\n",
       "</table>\n",
       "</div>"
      ],
      "text/plain": [
       "   ID  Gender  Age   Class       Major Grad Intention  GPA  Employment  \\\n",
       "0   1  Female   20  Junior       Other            Yes  2.9   Full-Time   \n",
       "1   2    Male   23  Senior  Management            Yes  3.6   Part-Time   \n",
       "2   3    Male   21  Junior       Other            Yes  2.5   Part-Time   \n",
       "3   4    Male   21  Junior         CIS            Yes  2.5   Full-Time   \n",
       "4   5    Male   23  Senior       Other      Undecided  2.8  Unemployed   \n",
       "\n",
       "   Salary  Social Networking  Satisfaction  Spending Computer  Text Messages  \n",
       "0    50.0                  1             3       350   Laptop            200  \n",
       "1    25.0                  1             4       360   Laptop             50  \n",
       "2    45.0                  2             4       600   Laptop            200  \n",
       "3    40.0                  4             6       600   Laptop            250  \n",
       "4    40.0                  2             4       500   Laptop            100  "
      ]
     },
     "execution_count": 35,
     "metadata": {},
     "output_type": "execute_result"
    }
   ],
   "source": [
    "df_main.head()"
   ]
  },
  {
   "cell_type": "markdown",
   "metadata": {},
   "source": [
    "We need to find out conditional probability of different majors when selected gender student.\n",
    "\n",
    "Assume b is the probability of selecting different Major \n",
    "\n",
    "Assume a is the probability of selected student is male or female."
   ]
  },
  {
   "cell_type": "code",
   "execution_count": 36,
   "metadata": {},
   "outputs": [],
   "source": [
    "a = df_main['Gender'] # define a as gender\n",
    "b = df_main['Major']  # define b as major"
   ]
  },
  {
   "cell_type": "code",
   "execution_count": 37,
   "metadata": {},
   "outputs": [
    {
     "data": {
      "text/html": [
       "<div>\n",
       "<style scoped>\n",
       "    .dataframe tbody tr th:only-of-type {\n",
       "        vertical-align: middle;\n",
       "    }\n",
       "\n",
       "    .dataframe tbody tr th {\n",
       "        vertical-align: top;\n",
       "    }\n",
       "\n",
       "    .dataframe thead th {\n",
       "        text-align: right;\n",
       "    }\n",
       "</style>\n",
       "<table border=\"1\" class=\"dataframe\">\n",
       "  <thead>\n",
       "    <tr style=\"text-align: right;\">\n",
       "      <th>Major</th>\n",
       "      <th>Accounting</th>\n",
       "      <th>CIS</th>\n",
       "      <th>Economics/Finance</th>\n",
       "      <th>International Business</th>\n",
       "      <th>Management</th>\n",
       "      <th>Other</th>\n",
       "      <th>Retailing/Marketing</th>\n",
       "      <th>Undecided</th>\n",
       "      <th>Total</th>\n",
       "    </tr>\n",
       "    <tr>\n",
       "      <th>Gender</th>\n",
       "      <th></th>\n",
       "      <th></th>\n",
       "      <th></th>\n",
       "      <th></th>\n",
       "      <th></th>\n",
       "      <th></th>\n",
       "      <th></th>\n",
       "      <th></th>\n",
       "      <th></th>\n",
       "    </tr>\n",
       "  </thead>\n",
       "  <tbody>\n",
       "    <tr>\n",
       "      <td>Female</td>\n",
       "      <td>3</td>\n",
       "      <td>3</td>\n",
       "      <td>7</td>\n",
       "      <td>4</td>\n",
       "      <td>4</td>\n",
       "      <td>3</td>\n",
       "      <td>9</td>\n",
       "      <td>0</td>\n",
       "      <td>33</td>\n",
       "    </tr>\n",
       "    <tr>\n",
       "      <td>Male</td>\n",
       "      <td>4</td>\n",
       "      <td>1</td>\n",
       "      <td>4</td>\n",
       "      <td>2</td>\n",
       "      <td>6</td>\n",
       "      <td>4</td>\n",
       "      <td>5</td>\n",
       "      <td>3</td>\n",
       "      <td>29</td>\n",
       "    </tr>\n",
       "    <tr>\n",
       "      <td>Total</td>\n",
       "      <td>7</td>\n",
       "      <td>4</td>\n",
       "      <td>11</td>\n",
       "      <td>6</td>\n",
       "      <td>10</td>\n",
       "      <td>7</td>\n",
       "      <td>14</td>\n",
       "      <td>3</td>\n",
       "      <td>62</td>\n",
       "    </tr>\n",
       "  </tbody>\n",
       "</table>\n",
       "</div>"
      ],
      "text/plain": [
       "Major   Accounting  CIS  Economics/Finance  International Business  \\\n",
       "Gender                                                               \n",
       "Female           3    3                  7                       4   \n",
       "Male             4    1                  4                       2   \n",
       "Total            7    4                 11                       6   \n",
       "\n",
       "Major   Management  Other  Retailing/Marketing  Undecided  Total  \n",
       "Gender                                                            \n",
       "Female           4      3                    9          0     33  \n",
       "Male             6      4                    5          3     29  \n",
       "Total           10      7                   14          3     62  "
      ]
     },
     "execution_count": 37,
     "metadata": {},
     "output_type": "execute_result"
    }
   ],
   "source": [
    "df_gender_major = pd.crosstab(a, b, rownames=['Gender'], colnames=['Major'],margins = True,margins_name=\"Total\")\n",
    "df_gender_major #using crosstab function we can get contingency table where gender as row and major as col"
   ]
  },
  {
   "cell_type": "markdown",
   "metadata": {},
   "source": [
    "#### To find the conditional probability of different majors (i.e. b) given gender is male (i.e. a), use crosstab function again and put   normalize as \"index\" as gender is in the row variable."
   ]
  },
  {
   "cell_type": "code",
   "execution_count": 38,
   "metadata": {},
   "outputs": [
    {
     "data": {
      "text/html": [
       "<div>\n",
       "<style scoped>\n",
       "    .dataframe tbody tr th:only-of-type {\n",
       "        vertical-align: middle;\n",
       "    }\n",
       "\n",
       "    .dataframe tbody tr th {\n",
       "        vertical-align: top;\n",
       "    }\n",
       "\n",
       "    .dataframe thead th {\n",
       "        text-align: right;\n",
       "    }\n",
       "</style>\n",
       "<table border=\"1\" class=\"dataframe\">\n",
       "  <thead>\n",
       "    <tr style=\"text-align: right;\">\n",
       "      <th>Major</th>\n",
       "      <th>Accounting</th>\n",
       "      <th>CIS</th>\n",
       "      <th>Economics/Finance</th>\n",
       "      <th>International Business</th>\n",
       "      <th>Management</th>\n",
       "      <th>Other</th>\n",
       "      <th>Retailing/Marketing</th>\n",
       "      <th>Undecided</th>\n",
       "    </tr>\n",
       "    <tr>\n",
       "      <th>Gender</th>\n",
       "      <th></th>\n",
       "      <th></th>\n",
       "      <th></th>\n",
       "      <th></th>\n",
       "      <th></th>\n",
       "      <th></th>\n",
       "      <th></th>\n",
       "      <th></th>\n",
       "    </tr>\n",
       "  </thead>\n",
       "  <tbody>\n",
       "    <tr>\n",
       "      <td>Female</td>\n",
       "      <td>0.090909</td>\n",
       "      <td>0.090909</td>\n",
       "      <td>0.212121</td>\n",
       "      <td>0.121212</td>\n",
       "      <td>0.121212</td>\n",
       "      <td>0.090909</td>\n",
       "      <td>0.272727</td>\n",
       "      <td>0.000000</td>\n",
       "    </tr>\n",
       "    <tr>\n",
       "      <td>Male</td>\n",
       "      <td>0.137931</td>\n",
       "      <td>0.034483</td>\n",
       "      <td>0.137931</td>\n",
       "      <td>0.068966</td>\n",
       "      <td>0.206897</td>\n",
       "      <td>0.137931</td>\n",
       "      <td>0.172414</td>\n",
       "      <td>0.103448</td>\n",
       "    </tr>\n",
       "    <tr>\n",
       "      <td>Total</td>\n",
       "      <td>0.112903</td>\n",
       "      <td>0.064516</td>\n",
       "      <td>0.177419</td>\n",
       "      <td>0.096774</td>\n",
       "      <td>0.161290</td>\n",
       "      <td>0.112903</td>\n",
       "      <td>0.225806</td>\n",
       "      <td>0.048387</td>\n",
       "    </tr>\n",
       "  </tbody>\n",
       "</table>\n",
       "</div>"
      ],
      "text/plain": [
       "Major   Accounting       CIS  Economics/Finance  International Business  \\\n",
       "Gender                                                                    \n",
       "Female    0.090909  0.090909           0.212121                0.121212   \n",
       "Male      0.137931  0.034483           0.137931                0.068966   \n",
       "Total     0.112903  0.064516           0.177419                0.096774   \n",
       "\n",
       "Major   Management     Other  Retailing/Marketing  Undecided  \n",
       "Gender                                                        \n",
       "Female    0.121212  0.090909             0.272727   0.000000  \n",
       "Male      0.206897  0.137931             0.172414   0.103448  \n",
       "Total     0.161290  0.112903             0.225806   0.048387  "
      ]
     },
     "execution_count": 38,
     "metadata": {},
     "output_type": "execute_result"
    }
   ],
   "source": [
    "cond_prob_gender_major = pd.crosstab(a, b, rownames=['Gender'], \n",
    "                                     colnames=['Major'],margins = True,margins_name=\"Total\",\n",
    "                                     normalize = 'index',dropna = True)\n",
    "cond_prob_gender_major ##crosstab function by adding normalize as 'index' to get cond prob of major given gender."
   ]
  },
  {
   "cell_type": "code",
   "execution_count": 39,
   "metadata": {},
   "outputs": [
    {
     "data": {
      "text/html": [
       "<div>\n",
       "<style scoped>\n",
       "    .dataframe tbody tr th:only-of-type {\n",
       "        vertical-align: middle;\n",
       "    }\n",
       "\n",
       "    .dataframe tbody tr th {\n",
       "        vertical-align: top;\n",
       "    }\n",
       "\n",
       "    .dataframe thead th {\n",
       "        text-align: right;\n",
       "    }\n",
       "</style>\n",
       "<table border=\"1\" class=\"dataframe\">\n",
       "  <thead>\n",
       "    <tr style=\"text-align: right;\">\n",
       "      <th>Major</th>\n",
       "      <th>Accounting</th>\n",
       "      <th>CIS</th>\n",
       "      <th>Economics/Finance</th>\n",
       "      <th>International Business</th>\n",
       "      <th>Management</th>\n",
       "      <th>Other</th>\n",
       "      <th>Retailing/Marketing</th>\n",
       "      <th>Undecided</th>\n",
       "    </tr>\n",
       "  </thead>\n",
       "  <tbody>\n",
       "    <tr>\n",
       "      <td>Male</td>\n",
       "      <td>0.137931</td>\n",
       "      <td>0.034483</td>\n",
       "      <td>0.137931</td>\n",
       "      <td>0.068966</td>\n",
       "      <td>0.206897</td>\n",
       "      <td>0.137931</td>\n",
       "      <td>0.172414</td>\n",
       "      <td>0.103448</td>\n",
       "    </tr>\n",
       "  </tbody>\n",
       "</table>\n",
       "</div>"
      ],
      "text/plain": [
       "Major  Accounting       CIS  Economics/Finance  International Business  \\\n",
       "Male     0.137931  0.034483           0.137931                0.068966   \n",
       "\n",
       "Major  Management     Other  Retailing/Marketing  Undecided  \n",
       "Male     0.206897  0.137931             0.172414   0.103448  "
      ]
     },
     "execution_count": 39,
     "metadata": {},
     "output_type": "execute_result"
    }
   ],
   "source": [
    "cond_prob_major_given_gender_as_male = pd.DataFrame(cond_prob_gender_major.loc['Male']).T\n",
    "cond_prob_major_given_gender_as_male"
   ]
  },
  {
   "cell_type": "code",
   "execution_count": 40,
   "metadata": {},
   "outputs": [
    {
     "data": {
      "text/html": [
       "<style  type=\"text/css\" >\n",
       "</style><table id=\"T_17663164_019c_11eb_ae54_8e21343cdb84\" ><thead>    <tr>        <th class=\"index_name level0\" >Major</th>        <th class=\"col_heading level0 col0\" >Accounting</th>        <th class=\"col_heading level0 col1\" >CIS</th>        <th class=\"col_heading level0 col2\" >Economics/Finance</th>        <th class=\"col_heading level0 col3\" >International Business</th>        <th class=\"col_heading level0 col4\" >Management</th>        <th class=\"col_heading level0 col5\" >Other</th>        <th class=\"col_heading level0 col6\" >Retailing/Marketing</th>        <th class=\"col_heading level0 col7\" >Undecided</th>    </tr></thead><tbody>\n",
       "                <tr>\n",
       "                        <th id=\"T_17663164_019c_11eb_ae54_8e21343cdb84level0_row0\" class=\"row_heading level0 row0\" >Male</th>\n",
       "                        <td id=\"T_17663164_019c_11eb_ae54_8e21343cdb84row0_col0\" class=\"data row0 col0\" >14%</td>\n",
       "                        <td id=\"T_17663164_019c_11eb_ae54_8e21343cdb84row0_col1\" class=\"data row0 col1\" >3%</td>\n",
       "                        <td id=\"T_17663164_019c_11eb_ae54_8e21343cdb84row0_col2\" class=\"data row0 col2\" >14%</td>\n",
       "                        <td id=\"T_17663164_019c_11eb_ae54_8e21343cdb84row0_col3\" class=\"data row0 col3\" >7%</td>\n",
       "                        <td id=\"T_17663164_019c_11eb_ae54_8e21343cdb84row0_col4\" class=\"data row0 col4\" >21%</td>\n",
       "                        <td id=\"T_17663164_019c_11eb_ae54_8e21343cdb84row0_col5\" class=\"data row0 col5\" >14%</td>\n",
       "                        <td id=\"T_17663164_019c_11eb_ae54_8e21343cdb84row0_col6\" class=\"data row0 col6\" >17%</td>\n",
       "                        <td id=\"T_17663164_019c_11eb_ae54_8e21343cdb84row0_col7\" class=\"data row0 col7\" >10%</td>\n",
       "            </tr>\n",
       "    </tbody></table>"
      ],
      "text/plain": [
       "<pandas.io.formats.style.Styler at 0x1ac680b08c8>"
      ]
     },
     "execution_count": 40,
     "metadata": {},
     "output_type": "execute_result"
    }
   ],
   "source": [
    "cond_prob_major_given_gender_as_male.style.format(\"{:.0%}\")"
   ]
  },
  {
   "cell_type": "markdown",
   "metadata": {},
   "source": [
    "Therefore, given that selected students are MALE, there is a chance student belongs to :\n",
    "1. major as accounting is 14%\n",
    "2. major as CIS is 3%\n",
    "3. major as economics/finance is 14%\n",
    "4. major as international business is 7%\n",
    "5. major as management is 21%\n",
    "6. major as other is 14%\n",
    "7. major as retailing/marketing is 17%\n",
    "8. major as undecided is 10%"
   ]
  },
  {
   "cell_type": "code",
   "execution_count": 41,
   "metadata": {},
   "outputs": [
    {
     "data": {
      "text/html": [
       "<div>\n",
       "<style scoped>\n",
       "    .dataframe tbody tr th:only-of-type {\n",
       "        vertical-align: middle;\n",
       "    }\n",
       "\n",
       "    .dataframe tbody tr th {\n",
       "        vertical-align: top;\n",
       "    }\n",
       "\n",
       "    .dataframe thead th {\n",
       "        text-align: right;\n",
       "    }\n",
       "</style>\n",
       "<table border=\"1\" class=\"dataframe\">\n",
       "  <thead>\n",
       "    <tr style=\"text-align: right;\">\n",
       "      <th>Major</th>\n",
       "      <th>Accounting</th>\n",
       "      <th>CIS</th>\n",
       "      <th>Economics/Finance</th>\n",
       "      <th>International Business</th>\n",
       "      <th>Management</th>\n",
       "      <th>Other</th>\n",
       "      <th>Retailing/Marketing</th>\n",
       "      <th>Undecided</th>\n",
       "    </tr>\n",
       "  </thead>\n",
       "  <tbody>\n",
       "    <tr>\n",
       "      <td>Female</td>\n",
       "      <td>0.090909</td>\n",
       "      <td>0.090909</td>\n",
       "      <td>0.212121</td>\n",
       "      <td>0.121212</td>\n",
       "      <td>0.121212</td>\n",
       "      <td>0.090909</td>\n",
       "      <td>0.272727</td>\n",
       "      <td>0.0</td>\n",
       "    </tr>\n",
       "  </tbody>\n",
       "</table>\n",
       "</div>"
      ],
      "text/plain": [
       "Major   Accounting       CIS  Economics/Finance  International Business  \\\n",
       "Female    0.090909  0.090909           0.212121                0.121212   \n",
       "\n",
       "Major   Management     Other  Retailing/Marketing  Undecided  \n",
       "Female    0.121212  0.090909             0.272727        0.0  "
      ]
     },
     "execution_count": 41,
     "metadata": {},
     "output_type": "execute_result"
    }
   ],
   "source": [
    "cond_prob_major_given_gender_as_female = pd.DataFrame(cond_prob_gender_major.loc['Female']).T\n",
    "cond_prob_major_given_gender_as_female"
   ]
  },
  {
   "cell_type": "code",
   "execution_count": 42,
   "metadata": {},
   "outputs": [
    {
     "data": {
      "text/html": [
       "<style  type=\"text/css\" >\n",
       "</style><table id=\"T_17698a7a_019c_11eb_aaa4_8e21343cdb84\" ><thead>    <tr>        <th class=\"index_name level0\" >Major</th>        <th class=\"col_heading level0 col0\" >Accounting</th>        <th class=\"col_heading level0 col1\" >CIS</th>        <th class=\"col_heading level0 col2\" >Economics/Finance</th>        <th class=\"col_heading level0 col3\" >International Business</th>        <th class=\"col_heading level0 col4\" >Management</th>        <th class=\"col_heading level0 col5\" >Other</th>        <th class=\"col_heading level0 col6\" >Retailing/Marketing</th>        <th class=\"col_heading level0 col7\" >Undecided</th>    </tr></thead><tbody>\n",
       "                <tr>\n",
       "                        <th id=\"T_17698a7a_019c_11eb_aaa4_8e21343cdb84level0_row0\" class=\"row_heading level0 row0\" >Female</th>\n",
       "                        <td id=\"T_17698a7a_019c_11eb_aaa4_8e21343cdb84row0_col0\" class=\"data row0 col0\" >9%</td>\n",
       "                        <td id=\"T_17698a7a_019c_11eb_aaa4_8e21343cdb84row0_col1\" class=\"data row0 col1\" >9%</td>\n",
       "                        <td id=\"T_17698a7a_019c_11eb_aaa4_8e21343cdb84row0_col2\" class=\"data row0 col2\" >21%</td>\n",
       "                        <td id=\"T_17698a7a_019c_11eb_aaa4_8e21343cdb84row0_col3\" class=\"data row0 col3\" >12%</td>\n",
       "                        <td id=\"T_17698a7a_019c_11eb_aaa4_8e21343cdb84row0_col4\" class=\"data row0 col4\" >12%</td>\n",
       "                        <td id=\"T_17698a7a_019c_11eb_aaa4_8e21343cdb84row0_col5\" class=\"data row0 col5\" >9%</td>\n",
       "                        <td id=\"T_17698a7a_019c_11eb_aaa4_8e21343cdb84row0_col6\" class=\"data row0 col6\" >27%</td>\n",
       "                        <td id=\"T_17698a7a_019c_11eb_aaa4_8e21343cdb84row0_col7\" class=\"data row0 col7\" >0%</td>\n",
       "            </tr>\n",
       "    </tbody></table>"
      ],
      "text/plain": [
       "<pandas.io.formats.style.Styler at 0x1ac680ef988>"
      ]
     },
     "execution_count": 42,
     "metadata": {},
     "output_type": "execute_result"
    }
   ],
   "source": [
    "cond_prob_major_given_gender_as_female.style.format(\"{:.0%}\")"
   ]
  },
  {
   "cell_type": "markdown",
   "metadata": {},
   "source": [
    "Therefore, given that selected students are FEMALE, there is a chance student belongs to :\n",
    "1. major as accounting is 9%\n",
    "2. major as CIS is 9%\n",
    "3. major as economics/finance is 21%\n",
    "4. major as international business is 12%\n",
    "5. major as management is 12%\n",
    "6. major as other is 9%\n",
    "7. major as retailing/marketing is 27%\n",
    "8. major as undecided is 0%"
   ]
  },
  {
   "cell_type": "markdown",
   "metadata": {},
   "source": [
    "---------------------------------------------END OF 2.2.2------------------------------------------------------------"
   ]
  },
  {
   "cell_type": "markdown",
   "metadata": {},
   "source": [
    "### 2.2.3. Find the conditional probability of intent to graduate, given that the student is a male. \n",
    "### & Find the conditional probability of intent to graduate, given that the student is a female"
   ]
  },
  {
   "cell_type": "markdown",
   "metadata": {},
   "source": [
    "We need to find out conditional probability of intent to graduate when selected gender student.\n",
    "\n",
    "Assume b is the probability of selecting different grad intention \n",
    "\n",
    "Assume a is the probability of selected student is male or female."
   ]
  },
  {
   "cell_type": "code",
   "execution_count": 43,
   "metadata": {},
   "outputs": [],
   "source": [
    "a = df_main['Gender'] # define a as gender\n",
    "b = df_main['Grad Intention']  # define b as grad intention"
   ]
  },
  {
   "cell_type": "code",
   "execution_count": 44,
   "metadata": {},
   "outputs": [
    {
     "data": {
      "text/html": [
       "<div>\n",
       "<style scoped>\n",
       "    .dataframe tbody tr th:only-of-type {\n",
       "        vertical-align: middle;\n",
       "    }\n",
       "\n",
       "    .dataframe tbody tr th {\n",
       "        vertical-align: top;\n",
       "    }\n",
       "\n",
       "    .dataframe thead th {\n",
       "        text-align: right;\n",
       "    }\n",
       "</style>\n",
       "<table border=\"1\" class=\"dataframe\">\n",
       "  <thead>\n",
       "    <tr style=\"text-align: right;\">\n",
       "      <th>Grad Intention</th>\n",
       "      <th>No</th>\n",
       "      <th>Undecided</th>\n",
       "      <th>Yes</th>\n",
       "      <th>Total</th>\n",
       "    </tr>\n",
       "    <tr>\n",
       "      <th>Gender</th>\n",
       "      <th></th>\n",
       "      <th></th>\n",
       "      <th></th>\n",
       "      <th></th>\n",
       "    </tr>\n",
       "  </thead>\n",
       "  <tbody>\n",
       "    <tr>\n",
       "      <td>Female</td>\n",
       "      <td>9</td>\n",
       "      <td>13</td>\n",
       "      <td>11</td>\n",
       "      <td>33</td>\n",
       "    </tr>\n",
       "    <tr>\n",
       "      <td>Male</td>\n",
       "      <td>3</td>\n",
       "      <td>9</td>\n",
       "      <td>17</td>\n",
       "      <td>29</td>\n",
       "    </tr>\n",
       "    <tr>\n",
       "      <td>Total</td>\n",
       "      <td>12</td>\n",
       "      <td>22</td>\n",
       "      <td>28</td>\n",
       "      <td>62</td>\n",
       "    </tr>\n",
       "  </tbody>\n",
       "</table>\n",
       "</div>"
      ],
      "text/plain": [
       "Grad Intention  No  Undecided  Yes  Total\n",
       "Gender                                   \n",
       "Female           9         13   11     33\n",
       "Male             3          9   17     29\n",
       "Total           12         22   28     62"
      ]
     },
     "execution_count": 44,
     "metadata": {},
     "output_type": "execute_result"
    }
   ],
   "source": [
    "df_gender_grad = pd.crosstab(a, b, rownames=['Gender'], colnames=['Grad Intention'],margins = True,margins_name=\"Total\")\n",
    "df_gender_grad #using crosstab function we can get contingency table where gender as row and grad intention as col"
   ]
  },
  {
   "cell_type": "markdown",
   "metadata": {},
   "source": [
    "#### To find the conditional probability of different grad intention (i.e. b) given gender is male or female (i.e. a), use crosstab function again and put   normalize as \"index\" as gender is in the row variable."
   ]
  },
  {
   "cell_type": "code",
   "execution_count": 45,
   "metadata": {},
   "outputs": [
    {
     "data": {
      "text/html": [
       "<div>\n",
       "<style scoped>\n",
       "    .dataframe tbody tr th:only-of-type {\n",
       "        vertical-align: middle;\n",
       "    }\n",
       "\n",
       "    .dataframe tbody tr th {\n",
       "        vertical-align: top;\n",
       "    }\n",
       "\n",
       "    .dataframe thead th {\n",
       "        text-align: right;\n",
       "    }\n",
       "</style>\n",
       "<table border=\"1\" class=\"dataframe\">\n",
       "  <thead>\n",
       "    <tr style=\"text-align: right;\">\n",
       "      <th>Grad Intention</th>\n",
       "      <th>No</th>\n",
       "      <th>Undecided</th>\n",
       "      <th>Yes</th>\n",
       "    </tr>\n",
       "    <tr>\n",
       "      <th>Gender</th>\n",
       "      <th></th>\n",
       "      <th></th>\n",
       "      <th></th>\n",
       "    </tr>\n",
       "  </thead>\n",
       "  <tbody>\n",
       "    <tr>\n",
       "      <td>Female</td>\n",
       "      <td>0.272727</td>\n",
       "      <td>0.393939</td>\n",
       "      <td>0.333333</td>\n",
       "    </tr>\n",
       "    <tr>\n",
       "      <td>Male</td>\n",
       "      <td>0.103448</td>\n",
       "      <td>0.310345</td>\n",
       "      <td>0.586207</td>\n",
       "    </tr>\n",
       "    <tr>\n",
       "      <td>Total</td>\n",
       "      <td>0.193548</td>\n",
       "      <td>0.354839</td>\n",
       "      <td>0.451613</td>\n",
       "    </tr>\n",
       "  </tbody>\n",
       "</table>\n",
       "</div>"
      ],
      "text/plain": [
       "Grad Intention        No  Undecided       Yes\n",
       "Gender                                       \n",
       "Female          0.272727   0.393939  0.333333\n",
       "Male            0.103448   0.310345  0.586207\n",
       "Total           0.193548   0.354839  0.451613"
      ]
     },
     "execution_count": 45,
     "metadata": {},
     "output_type": "execute_result"
    }
   ],
   "source": [
    "cond_prob_gender_grad = pd.crosstab(a, b, rownames=['Gender'], \n",
    "                                     colnames=['Grad Intention'],margins = True,margins_name=\"Total\",\n",
    "                                     normalize = 'index',dropna = True)\n",
    "cond_prob_gender_grad ##crosstab function by adding normalize as 'index' to get cond prob of grad intention given gender."
   ]
  },
  {
   "cell_type": "code",
   "execution_count": 46,
   "metadata": {},
   "outputs": [
    {
     "data": {
      "text/html": [
       "<div>\n",
       "<style scoped>\n",
       "    .dataframe tbody tr th:only-of-type {\n",
       "        vertical-align: middle;\n",
       "    }\n",
       "\n",
       "    .dataframe tbody tr th {\n",
       "        vertical-align: top;\n",
       "    }\n",
       "\n",
       "    .dataframe thead th {\n",
       "        text-align: right;\n",
       "    }\n",
       "</style>\n",
       "<table border=\"1\" class=\"dataframe\">\n",
       "  <thead>\n",
       "    <tr style=\"text-align: right;\">\n",
       "      <th>Grad Intention</th>\n",
       "      <th>No</th>\n",
       "      <th>Undecided</th>\n",
       "      <th>Yes</th>\n",
       "    </tr>\n",
       "  </thead>\n",
       "  <tbody>\n",
       "    <tr>\n",
       "      <td>Male</td>\n",
       "      <td>0.103448</td>\n",
       "      <td>0.310345</td>\n",
       "      <td>0.586207</td>\n",
       "    </tr>\n",
       "  </tbody>\n",
       "</table>\n",
       "</div>"
      ],
      "text/plain": [
       "Grad Intention        No  Undecided       Yes\n",
       "Male            0.103448   0.310345  0.586207"
      ]
     },
     "execution_count": 46,
     "metadata": {},
     "output_type": "execute_result"
    }
   ],
   "source": [
    "cond_prob_grad_given_gender_as_male = pd.DataFrame(cond_prob_gender_grad.loc['Male']).T\n",
    "cond_prob_grad_given_gender_as_male"
   ]
  },
  {
   "cell_type": "code",
   "execution_count": 47,
   "metadata": {},
   "outputs": [
    {
     "data": {
      "text/html": [
       "<style  type=\"text/css\" >\n",
       "</style><table id=\"T_177d1640_019c_11eb_bf1b_8e21343cdb84\" ><thead>    <tr>        <th class=\"index_name level0\" >Grad Intention</th>        <th class=\"col_heading level0 col0\" >No</th>        <th class=\"col_heading level0 col1\" >Undecided</th>        <th class=\"col_heading level0 col2\" >Yes</th>    </tr></thead><tbody>\n",
       "                <tr>\n",
       "                        <th id=\"T_177d1640_019c_11eb_bf1b_8e21343cdb84level0_row0\" class=\"row_heading level0 row0\" >Male</th>\n",
       "                        <td id=\"T_177d1640_019c_11eb_bf1b_8e21343cdb84row0_col0\" class=\"data row0 col0\" >10%</td>\n",
       "                        <td id=\"T_177d1640_019c_11eb_bf1b_8e21343cdb84row0_col1\" class=\"data row0 col1\" >31%</td>\n",
       "                        <td id=\"T_177d1640_019c_11eb_bf1b_8e21343cdb84row0_col2\" class=\"data row0 col2\" >59%</td>\n",
       "            </tr>\n",
       "    </tbody></table>"
      ],
      "text/plain": [
       "<pandas.io.formats.style.Styler at 0x1ac680ee388>"
      ]
     },
     "execution_count": 47,
     "metadata": {},
     "output_type": "execute_result"
    }
   ],
   "source": [
    "cond_prob_grad_given_gender_as_male.style.format(\"{:.0%}\")"
   ]
  },
  {
   "cell_type": "markdown",
   "metadata": {},
   "source": [
    "Therefore, given that selected students are MALE, there is a chance student belongs to :\n",
    "1. grad intention as no is 10%\n",
    "2. grad intention as undecided is 31%\n",
    "3. grad intention as yes is 59%"
   ]
  },
  {
   "cell_type": "code",
   "execution_count": 48,
   "metadata": {},
   "outputs": [
    {
     "data": {
      "text/html": [
       "<div>\n",
       "<style scoped>\n",
       "    .dataframe tbody tr th:only-of-type {\n",
       "        vertical-align: middle;\n",
       "    }\n",
       "\n",
       "    .dataframe tbody tr th {\n",
       "        vertical-align: top;\n",
       "    }\n",
       "\n",
       "    .dataframe thead th {\n",
       "        text-align: right;\n",
       "    }\n",
       "</style>\n",
       "<table border=\"1\" class=\"dataframe\">\n",
       "  <thead>\n",
       "    <tr style=\"text-align: right;\">\n",
       "      <th>Grad Intention</th>\n",
       "      <th>No</th>\n",
       "      <th>Undecided</th>\n",
       "      <th>Yes</th>\n",
       "    </tr>\n",
       "  </thead>\n",
       "  <tbody>\n",
       "    <tr>\n",
       "      <td>Female</td>\n",
       "      <td>0.272727</td>\n",
       "      <td>0.393939</td>\n",
       "      <td>0.333333</td>\n",
       "    </tr>\n",
       "  </tbody>\n",
       "</table>\n",
       "</div>"
      ],
      "text/plain": [
       "Grad Intention        No  Undecided       Yes\n",
       "Female          0.272727   0.393939  0.333333"
      ]
     },
     "execution_count": 48,
     "metadata": {},
     "output_type": "execute_result"
    }
   ],
   "source": [
    "cond_prob_grad_given_gender_as_female = pd.DataFrame(cond_prob_gender_grad.loc['Female']).T\n",
    "cond_prob_grad_given_gender_as_female"
   ]
  },
  {
   "cell_type": "code",
   "execution_count": 49,
   "metadata": {},
   "outputs": [
    {
     "data": {
      "text/html": [
       "<style  type=\"text/css\" >\n",
       "</style><table id=\"T_177fd380_019c_11eb_be70_8e21343cdb84\" ><thead>    <tr>        <th class=\"index_name level0\" >Grad Intention</th>        <th class=\"col_heading level0 col0\" >No</th>        <th class=\"col_heading level0 col1\" >Undecided</th>        <th class=\"col_heading level0 col2\" >Yes</th>    </tr></thead><tbody>\n",
       "                <tr>\n",
       "                        <th id=\"T_177fd380_019c_11eb_be70_8e21343cdb84level0_row0\" class=\"row_heading level0 row0\" >Female</th>\n",
       "                        <td id=\"T_177fd380_019c_11eb_be70_8e21343cdb84row0_col0\" class=\"data row0 col0\" >27%</td>\n",
       "                        <td id=\"T_177fd380_019c_11eb_be70_8e21343cdb84row0_col1\" class=\"data row0 col1\" >39%</td>\n",
       "                        <td id=\"T_177fd380_019c_11eb_be70_8e21343cdb84row0_col2\" class=\"data row0 col2\" >33%</td>\n",
       "            </tr>\n",
       "    </tbody></table>"
      ],
      "text/plain": [
       "<pandas.io.formats.style.Styler at 0x1ac680fa808>"
      ]
     },
     "execution_count": 49,
     "metadata": {},
     "output_type": "execute_result"
    }
   ],
   "source": [
    "cond_prob_grad_given_gender_as_female.style.format(\"{:.0%}\")"
   ]
  },
  {
   "cell_type": "markdown",
   "metadata": {},
   "source": [
    "Therefore, given that selected students are FEMALE, there is a chance student belongs to :\n",
    "1. grad intention as no is 27%\n",
    "2. grad intention as undecided is 39%\n",
    "3. grad intention as yes is 33%"
   ]
  },
  {
   "cell_type": "markdown",
   "metadata": {},
   "source": [
    "---------------------------------------------END OF 2.2.3------------------------------------------------------------"
   ]
  },
  {
   "cell_type": "markdown",
   "metadata": {},
   "source": [
    "### 2.2.4. Find the conditional probability of employment status for the male students as well as for the female students"
   ]
  },
  {
   "cell_type": "markdown",
   "metadata": {},
   "source": [
    "We need to find out conditional probability of employment when selected student is male or female.\n",
    "\n",
    "Assume b is the probability of selecting different employment\n",
    "\n",
    "Assume a is the probability of selected student is male or female."
   ]
  },
  {
   "cell_type": "code",
   "execution_count": 50,
   "metadata": {},
   "outputs": [],
   "source": [
    "a = df_main['Gender'] # define a as gender\n",
    "b = df_main['Employment']  # define b as grad intention"
   ]
  },
  {
   "cell_type": "code",
   "execution_count": 51,
   "metadata": {},
   "outputs": [
    {
     "data": {
      "text/html": [
       "<div>\n",
       "<style scoped>\n",
       "    .dataframe tbody tr th:only-of-type {\n",
       "        vertical-align: middle;\n",
       "    }\n",
       "\n",
       "    .dataframe tbody tr th {\n",
       "        vertical-align: top;\n",
       "    }\n",
       "\n",
       "    .dataframe thead th {\n",
       "        text-align: right;\n",
       "    }\n",
       "</style>\n",
       "<table border=\"1\" class=\"dataframe\">\n",
       "  <thead>\n",
       "    <tr style=\"text-align: right;\">\n",
       "      <th>Employment</th>\n",
       "      <th>Full-Time</th>\n",
       "      <th>Part-Time</th>\n",
       "      <th>Unemployed</th>\n",
       "      <th>Total</th>\n",
       "    </tr>\n",
       "    <tr>\n",
       "      <th>Gender</th>\n",
       "      <th></th>\n",
       "      <th></th>\n",
       "      <th></th>\n",
       "      <th></th>\n",
       "    </tr>\n",
       "  </thead>\n",
       "  <tbody>\n",
       "    <tr>\n",
       "      <td>Female</td>\n",
       "      <td>3</td>\n",
       "      <td>24</td>\n",
       "      <td>6</td>\n",
       "      <td>33</td>\n",
       "    </tr>\n",
       "    <tr>\n",
       "      <td>Male</td>\n",
       "      <td>7</td>\n",
       "      <td>19</td>\n",
       "      <td>3</td>\n",
       "      <td>29</td>\n",
       "    </tr>\n",
       "    <tr>\n",
       "      <td>Total</td>\n",
       "      <td>10</td>\n",
       "      <td>43</td>\n",
       "      <td>9</td>\n",
       "      <td>62</td>\n",
       "    </tr>\n",
       "  </tbody>\n",
       "</table>\n",
       "</div>"
      ],
      "text/plain": [
       "Employment  Full-Time  Part-Time  Unemployed  Total\n",
       "Gender                                             \n",
       "Female              3         24           6     33\n",
       "Male                7         19           3     29\n",
       "Total              10         43           9     62"
      ]
     },
     "execution_count": 51,
     "metadata": {},
     "output_type": "execute_result"
    }
   ],
   "source": [
    "df_gender_grad = pd.crosstab(a, b, rownames=['Gender'], colnames=['Employment'],margins = True,margins_name=\"Total\")\n",
    "df_gender_grad #using crosstab function we can get contingency table where gender as row and employment as col"
   ]
  },
  {
   "cell_type": "markdown",
   "metadata": {},
   "source": [
    "#### To find the conditional probability of employment (i.e. b) given gender is male or female (i.e. a), use crosstab function again and put   normalize as \"index\" as gender is in the row variable."
   ]
  },
  {
   "cell_type": "code",
   "execution_count": 52,
   "metadata": {},
   "outputs": [
    {
     "data": {
      "text/html": [
       "<div>\n",
       "<style scoped>\n",
       "    .dataframe tbody tr th:only-of-type {\n",
       "        vertical-align: middle;\n",
       "    }\n",
       "\n",
       "    .dataframe tbody tr th {\n",
       "        vertical-align: top;\n",
       "    }\n",
       "\n",
       "    .dataframe thead th {\n",
       "        text-align: right;\n",
       "    }\n",
       "</style>\n",
       "<table border=\"1\" class=\"dataframe\">\n",
       "  <thead>\n",
       "    <tr style=\"text-align: right;\">\n",
       "      <th>Employment</th>\n",
       "      <th>Full-Time</th>\n",
       "      <th>Part-Time</th>\n",
       "      <th>Unemployed</th>\n",
       "    </tr>\n",
       "    <tr>\n",
       "      <th>Gender</th>\n",
       "      <th></th>\n",
       "      <th></th>\n",
       "      <th></th>\n",
       "    </tr>\n",
       "  </thead>\n",
       "  <tbody>\n",
       "    <tr>\n",
       "      <td>Female</td>\n",
       "      <td>0.090909</td>\n",
       "      <td>0.727273</td>\n",
       "      <td>0.181818</td>\n",
       "    </tr>\n",
       "    <tr>\n",
       "      <td>Male</td>\n",
       "      <td>0.241379</td>\n",
       "      <td>0.655172</td>\n",
       "      <td>0.103448</td>\n",
       "    </tr>\n",
       "    <tr>\n",
       "      <td>Total</td>\n",
       "      <td>0.161290</td>\n",
       "      <td>0.693548</td>\n",
       "      <td>0.145161</td>\n",
       "    </tr>\n",
       "  </tbody>\n",
       "</table>\n",
       "</div>"
      ],
      "text/plain": [
       "Employment  Full-Time  Part-Time  Unemployed\n",
       "Gender                                      \n",
       "Female       0.090909   0.727273    0.181818\n",
       "Male         0.241379   0.655172    0.103448\n",
       "Total        0.161290   0.693548    0.145161"
      ]
     },
     "execution_count": 52,
     "metadata": {},
     "output_type": "execute_result"
    }
   ],
   "source": [
    "cond_prob_gender_employment = pd.crosstab(a, b, rownames=['Gender'], \n",
    "                                     colnames=['Employment'],margins = True,margins_name=\"Total\",\n",
    "                                     normalize = 'index',dropna = True)\n",
    "cond_prob_gender_employment ##crosstab function by adding normalize as 'index' to get cond prob of employment given gender."
   ]
  },
  {
   "cell_type": "code",
   "execution_count": 53,
   "metadata": {},
   "outputs": [
    {
     "data": {
      "text/html": [
       "<div>\n",
       "<style scoped>\n",
       "    .dataframe tbody tr th:only-of-type {\n",
       "        vertical-align: middle;\n",
       "    }\n",
       "\n",
       "    .dataframe tbody tr th {\n",
       "        vertical-align: top;\n",
       "    }\n",
       "\n",
       "    .dataframe thead th {\n",
       "        text-align: right;\n",
       "    }\n",
       "</style>\n",
       "<table border=\"1\" class=\"dataframe\">\n",
       "  <thead>\n",
       "    <tr style=\"text-align: right;\">\n",
       "      <th>Employment</th>\n",
       "      <th>Full-Time</th>\n",
       "      <th>Part-Time</th>\n",
       "      <th>Unemployed</th>\n",
       "    </tr>\n",
       "  </thead>\n",
       "  <tbody>\n",
       "    <tr>\n",
       "      <td>Male</td>\n",
       "      <td>0.241379</td>\n",
       "      <td>0.655172</td>\n",
       "      <td>0.103448</td>\n",
       "    </tr>\n",
       "  </tbody>\n",
       "</table>\n",
       "</div>"
      ],
      "text/plain": [
       "Employment  Full-Time  Part-Time  Unemployed\n",
       "Male         0.241379   0.655172    0.103448"
      ]
     },
     "execution_count": 53,
     "metadata": {},
     "output_type": "execute_result"
    }
   ],
   "source": [
    "cond_prob_employment_given_gender_as_male = pd.DataFrame(cond_prob_gender_employment.loc['Male']).T\n",
    "cond_prob_employment_given_gender_as_male"
   ]
  },
  {
   "cell_type": "code",
   "execution_count": 54,
   "metadata": {},
   "outputs": [
    {
     "data": {
      "text/html": [
       "<style  type=\"text/css\" >\n",
       "</style><table id=\"T_1793b01c_019c_11eb_b719_8e21343cdb84\" ><thead>    <tr>        <th class=\"index_name level0\" >Employment</th>        <th class=\"col_heading level0 col0\" >Full-Time</th>        <th class=\"col_heading level0 col1\" >Part-Time</th>        <th class=\"col_heading level0 col2\" >Unemployed</th>    </tr></thead><tbody>\n",
       "                <tr>\n",
       "                        <th id=\"T_1793b01c_019c_11eb_b719_8e21343cdb84level0_row0\" class=\"row_heading level0 row0\" >Male</th>\n",
       "                        <td id=\"T_1793b01c_019c_11eb_b719_8e21343cdb84row0_col0\" class=\"data row0 col0\" >24%</td>\n",
       "                        <td id=\"T_1793b01c_019c_11eb_b719_8e21343cdb84row0_col1\" class=\"data row0 col1\" >66%</td>\n",
       "                        <td id=\"T_1793b01c_019c_11eb_b719_8e21343cdb84row0_col2\" class=\"data row0 col2\" >10%</td>\n",
       "            </tr>\n",
       "    </tbody></table>"
      ],
      "text/plain": [
       "<pandas.io.formats.style.Styler at 0x1ac68108dc8>"
      ]
     },
     "execution_count": 54,
     "metadata": {},
     "output_type": "execute_result"
    }
   ],
   "source": [
    "cond_prob_employment_given_gender_as_male.style.format(\"{:.0%}\")"
   ]
  },
  {
   "cell_type": "markdown",
   "metadata": {},
   "source": [
    "Therefore, given that selected students are MALE, there is a chance student belongs to :\n",
    "1. employment as full-time is 24%\n",
    "2. employment as part-time is 66%\n",
    "3. employment as unemployed is 10%"
   ]
  },
  {
   "cell_type": "code",
   "execution_count": 55,
   "metadata": {},
   "outputs": [
    {
     "data": {
      "text/html": [
       "<div>\n",
       "<style scoped>\n",
       "    .dataframe tbody tr th:only-of-type {\n",
       "        vertical-align: middle;\n",
       "    }\n",
       "\n",
       "    .dataframe tbody tr th {\n",
       "        vertical-align: top;\n",
       "    }\n",
       "\n",
       "    .dataframe thead th {\n",
       "        text-align: right;\n",
       "    }\n",
       "</style>\n",
       "<table border=\"1\" class=\"dataframe\">\n",
       "  <thead>\n",
       "    <tr style=\"text-align: right;\">\n",
       "      <th>Employment</th>\n",
       "      <th>Full-Time</th>\n",
       "      <th>Part-Time</th>\n",
       "      <th>Unemployed</th>\n",
       "    </tr>\n",
       "  </thead>\n",
       "  <tbody>\n",
       "    <tr>\n",
       "      <td>Female</td>\n",
       "      <td>0.090909</td>\n",
       "      <td>0.727273</td>\n",
       "      <td>0.181818</td>\n",
       "    </tr>\n",
       "  </tbody>\n",
       "</table>\n",
       "</div>"
      ],
      "text/plain": [
       "Employment  Full-Time  Part-Time  Unemployed\n",
       "Female       0.090909   0.727273    0.181818"
      ]
     },
     "execution_count": 55,
     "metadata": {},
     "output_type": "execute_result"
    }
   ],
   "source": [
    "cond_prob_employment_given_gender_as_female = pd.DataFrame(cond_prob_gender_employment.loc['Female']).T\n",
    "cond_prob_employment_given_gender_as_female"
   ]
  },
  {
   "cell_type": "code",
   "execution_count": 56,
   "metadata": {},
   "outputs": [
    {
     "data": {
      "text/html": [
       "<style  type=\"text/css\" >\n",
       "</style><table id=\"T_17966d54_019c_11eb_85ee_8e21343cdb84\" ><thead>    <tr>        <th class=\"index_name level0\" >Employment</th>        <th class=\"col_heading level0 col0\" >Full-Time</th>        <th class=\"col_heading level0 col1\" >Part-Time</th>        <th class=\"col_heading level0 col2\" >Unemployed</th>    </tr></thead><tbody>\n",
       "                <tr>\n",
       "                        <th id=\"T_17966d54_019c_11eb_85ee_8e21343cdb84level0_row0\" class=\"row_heading level0 row0\" >Female</th>\n",
       "                        <td id=\"T_17966d54_019c_11eb_85ee_8e21343cdb84row0_col0\" class=\"data row0 col0\" >9%</td>\n",
       "                        <td id=\"T_17966d54_019c_11eb_85ee_8e21343cdb84row0_col1\" class=\"data row0 col1\" >73%</td>\n",
       "                        <td id=\"T_17966d54_019c_11eb_85ee_8e21343cdb84row0_col2\" class=\"data row0 col2\" >18%</td>\n",
       "            </tr>\n",
       "    </tbody></table>"
      ],
      "text/plain": [
       "<pandas.io.formats.style.Styler at 0x1ac6810c948>"
      ]
     },
     "execution_count": 56,
     "metadata": {},
     "output_type": "execute_result"
    }
   ],
   "source": [
    "cond_prob_employment_given_gender_as_female.style.format(\"{:.0%}\")"
   ]
  },
  {
   "cell_type": "markdown",
   "metadata": {},
   "source": [
    "Therefore, given that selected students are FEMALE, there is a chance student belongs to :\n",
    "1. employment as full-time is 9%\n",
    "2. employment as part-time is 73%\n",
    "3. employment as unemployed is 18%"
   ]
  },
  {
   "cell_type": "markdown",
   "metadata": {},
   "source": [
    "---------------------------------------------END OF 2.2.4------------------------------------------------------------"
   ]
  },
  {
   "cell_type": "markdown",
   "metadata": {},
   "source": [
    "### 2.2.5. Find the conditional probability of laptop preference among the male students as well as among the female students."
   ]
  },
  {
   "cell_type": "markdown",
   "metadata": {},
   "source": [
    "We need to find out conditional probability of laptop preference when selected student is male or female.\n",
    "\n",
    "Assume b is the probability of selecting different laptop preferences.\n",
    "\n",
    "Assume a is the probability of selected student is male or female."
   ]
  },
  {
   "cell_type": "code",
   "execution_count": 57,
   "metadata": {},
   "outputs": [],
   "source": [
    "a = df_main['Gender'] # define a as gender\n",
    "b = df_main['Computer']  # define b as grad intention"
   ]
  },
  {
   "cell_type": "code",
   "execution_count": 58,
   "metadata": {},
   "outputs": [
    {
     "data": {
      "text/html": [
       "<div>\n",
       "<style scoped>\n",
       "    .dataframe tbody tr th:only-of-type {\n",
       "        vertical-align: middle;\n",
       "    }\n",
       "\n",
       "    .dataframe tbody tr th {\n",
       "        vertical-align: top;\n",
       "    }\n",
       "\n",
       "    .dataframe thead th {\n",
       "        text-align: right;\n",
       "    }\n",
       "</style>\n",
       "<table border=\"1\" class=\"dataframe\">\n",
       "  <thead>\n",
       "    <tr style=\"text-align: right;\">\n",
       "      <th>Computer</th>\n",
       "      <th>Desktop</th>\n",
       "      <th>Laptop</th>\n",
       "      <th>Tablet</th>\n",
       "      <th>Total</th>\n",
       "    </tr>\n",
       "    <tr>\n",
       "      <th>Gender</th>\n",
       "      <th></th>\n",
       "      <th></th>\n",
       "      <th></th>\n",
       "      <th></th>\n",
       "    </tr>\n",
       "  </thead>\n",
       "  <tbody>\n",
       "    <tr>\n",
       "      <td>Female</td>\n",
       "      <td>2</td>\n",
       "      <td>29</td>\n",
       "      <td>2</td>\n",
       "      <td>33</td>\n",
       "    </tr>\n",
       "    <tr>\n",
       "      <td>Male</td>\n",
       "      <td>3</td>\n",
       "      <td>26</td>\n",
       "      <td>0</td>\n",
       "      <td>29</td>\n",
       "    </tr>\n",
       "    <tr>\n",
       "      <td>Total</td>\n",
       "      <td>5</td>\n",
       "      <td>55</td>\n",
       "      <td>2</td>\n",
       "      <td>62</td>\n",
       "    </tr>\n",
       "  </tbody>\n",
       "</table>\n",
       "</div>"
      ],
      "text/plain": [
       "Computer  Desktop  Laptop  Tablet  Total\n",
       "Gender                                  \n",
       "Female          2      29       2     33\n",
       "Male            3      26       0     29\n",
       "Total           5      55       2     62"
      ]
     },
     "execution_count": 58,
     "metadata": {},
     "output_type": "execute_result"
    }
   ],
   "source": [
    "df_gender_computer = pd.crosstab(a, b, rownames=['Gender'], colnames=['Computer'],margins = True,margins_name=\"Total\")\n",
    "df_gender_computer #using crosstab function we can get contingency table where gender as row and computer as col"
   ]
  },
  {
   "cell_type": "markdown",
   "metadata": {},
   "source": [
    "#### To find the conditional probability of laptop preference (i.e. b) given gender is male (i.e. a), use crosstab function again and put normalize as \"index\" as gender is in the row variable."
   ]
  },
  {
   "cell_type": "code",
   "execution_count": 59,
   "metadata": {},
   "outputs": [
    {
     "data": {
      "text/html": [
       "<div>\n",
       "<style scoped>\n",
       "    .dataframe tbody tr th:only-of-type {\n",
       "        vertical-align: middle;\n",
       "    }\n",
       "\n",
       "    .dataframe tbody tr th {\n",
       "        vertical-align: top;\n",
       "    }\n",
       "\n",
       "    .dataframe thead th {\n",
       "        text-align: right;\n",
       "    }\n",
       "</style>\n",
       "<table border=\"1\" class=\"dataframe\">\n",
       "  <thead>\n",
       "    <tr style=\"text-align: right;\">\n",
       "      <th>Computer</th>\n",
       "      <th>Desktop</th>\n",
       "      <th>Laptop</th>\n",
       "      <th>Tablet</th>\n",
       "    </tr>\n",
       "    <tr>\n",
       "      <th>Gender</th>\n",
       "      <th></th>\n",
       "      <th></th>\n",
       "      <th></th>\n",
       "    </tr>\n",
       "  </thead>\n",
       "  <tbody>\n",
       "    <tr>\n",
       "      <td>Female</td>\n",
       "      <td>0.060606</td>\n",
       "      <td>0.878788</td>\n",
       "      <td>0.060606</td>\n",
       "    </tr>\n",
       "    <tr>\n",
       "      <td>Male</td>\n",
       "      <td>0.103448</td>\n",
       "      <td>0.896552</td>\n",
       "      <td>0.000000</td>\n",
       "    </tr>\n",
       "    <tr>\n",
       "      <td>Total</td>\n",
       "      <td>0.080645</td>\n",
       "      <td>0.887097</td>\n",
       "      <td>0.032258</td>\n",
       "    </tr>\n",
       "  </tbody>\n",
       "</table>\n",
       "</div>"
      ],
      "text/plain": [
       "Computer   Desktop    Laptop    Tablet\n",
       "Gender                                \n",
       "Female    0.060606  0.878788  0.060606\n",
       "Male      0.103448  0.896552  0.000000\n",
       "Total     0.080645  0.887097  0.032258"
      ]
     },
     "execution_count": 59,
     "metadata": {},
     "output_type": "execute_result"
    }
   ],
   "source": [
    "cond_prob_gender_computer = pd.crosstab(a, b, rownames=['Gender'], \n",
    "                                     colnames=['Computer'],margins = True,margins_name=\"Total\",\n",
    "                                     normalize = 'index',dropna = True)\n",
    "cond_prob_gender_computer ##crosstab function by adding normalize as 'index' to get cond prob of laptop preference given gender."
   ]
  },
  {
   "cell_type": "code",
   "execution_count": 60,
   "metadata": {},
   "outputs": [
    {
     "data": {
      "text/html": [
       "<div>\n",
       "<style scoped>\n",
       "    .dataframe tbody tr th:only-of-type {\n",
       "        vertical-align: middle;\n",
       "    }\n",
       "\n",
       "    .dataframe tbody tr th {\n",
       "        vertical-align: top;\n",
       "    }\n",
       "\n",
       "    .dataframe thead th {\n",
       "        text-align: right;\n",
       "    }\n",
       "</style>\n",
       "<table border=\"1\" class=\"dataframe\">\n",
       "  <thead>\n",
       "    <tr style=\"text-align: right;\">\n",
       "      <th>Computer</th>\n",
       "      <th>Desktop</th>\n",
       "      <th>Laptop</th>\n",
       "      <th>Tablet</th>\n",
       "    </tr>\n",
       "  </thead>\n",
       "  <tbody>\n",
       "    <tr>\n",
       "      <td>Male</td>\n",
       "      <td>0.103448</td>\n",
       "      <td>0.896552</td>\n",
       "      <td>0.0</td>\n",
       "    </tr>\n",
       "  </tbody>\n",
       "</table>\n",
       "</div>"
      ],
      "text/plain": [
       "Computer   Desktop    Laptop  Tablet\n",
       "Male      0.103448  0.896552     0.0"
      ]
     },
     "execution_count": 60,
     "metadata": {},
     "output_type": "execute_result"
    }
   ],
   "source": [
    "cond_prob_computer_given_gender_as_male = pd.DataFrame(cond_prob_gender_computer.loc['Male']).T\n",
    "cond_prob_computer_given_gender_as_male"
   ]
  },
  {
   "cell_type": "code",
   "execution_count": 61,
   "metadata": {},
   "outputs": [
    {
     "data": {
      "text/html": [
       "<style  type=\"text/css\" >\n",
       "</style><table id=\"T_17a9261c_019c_11eb_be78_8e21343cdb84\" ><thead>    <tr>        <th class=\"index_name level0\" >Computer</th>        <th class=\"col_heading level0 col0\" >Desktop</th>        <th class=\"col_heading level0 col1\" >Laptop</th>        <th class=\"col_heading level0 col2\" >Tablet</th>    </tr></thead><tbody>\n",
       "                <tr>\n",
       "                        <th id=\"T_17a9261c_019c_11eb_be78_8e21343cdb84level0_row0\" class=\"row_heading level0 row0\" >Male</th>\n",
       "                        <td id=\"T_17a9261c_019c_11eb_be78_8e21343cdb84row0_col0\" class=\"data row0 col0\" >10%</td>\n",
       "                        <td id=\"T_17a9261c_019c_11eb_be78_8e21343cdb84row0_col1\" class=\"data row0 col1\" >90%</td>\n",
       "                        <td id=\"T_17a9261c_019c_11eb_be78_8e21343cdb84row0_col2\" class=\"data row0 col2\" >0%</td>\n",
       "            </tr>\n",
       "    </tbody></table>"
      ],
      "text/plain": [
       "<pandas.io.formats.style.Styler at 0x1ac680eb848>"
      ]
     },
     "execution_count": 61,
     "metadata": {},
     "output_type": "execute_result"
    }
   ],
   "source": [
    "cond_prob_computer_given_gender_as_male.style.format(\"{:.0%}\")"
   ]
  },
  {
   "cell_type": "markdown",
   "metadata": {},
   "source": [
    "Therefore, given that selected students are MALE, there is a chance student belongs to :\n",
    "1. computer preference as Desktop is 10%\n",
    "2. computer preference as Laptop is 90%\n",
    "3. computer preference as Tablet is 0%"
   ]
  },
  {
   "cell_type": "code",
   "execution_count": 62,
   "metadata": {},
   "outputs": [
    {
     "data": {
      "text/html": [
       "<div>\n",
       "<style scoped>\n",
       "    .dataframe tbody tr th:only-of-type {\n",
       "        vertical-align: middle;\n",
       "    }\n",
       "\n",
       "    .dataframe tbody tr th {\n",
       "        vertical-align: top;\n",
       "    }\n",
       "\n",
       "    .dataframe thead th {\n",
       "        text-align: right;\n",
       "    }\n",
       "</style>\n",
       "<table border=\"1\" class=\"dataframe\">\n",
       "  <thead>\n",
       "    <tr style=\"text-align: right;\">\n",
       "      <th>Computer</th>\n",
       "      <th>Desktop</th>\n",
       "      <th>Laptop</th>\n",
       "      <th>Tablet</th>\n",
       "    </tr>\n",
       "  </thead>\n",
       "  <tbody>\n",
       "    <tr>\n",
       "      <td>Female</td>\n",
       "      <td>0.060606</td>\n",
       "      <td>0.878788</td>\n",
       "      <td>0.060606</td>\n",
       "    </tr>\n",
       "  </tbody>\n",
       "</table>\n",
       "</div>"
      ],
      "text/plain": [
       "Computer   Desktop    Laptop    Tablet\n",
       "Female    0.060606  0.878788  0.060606"
      ]
     },
     "execution_count": 62,
     "metadata": {},
     "output_type": "execute_result"
    }
   ],
   "source": [
    "cond_prob_computer_given_gender_as_female = pd.DataFrame(cond_prob_gender_computer.loc['Female']).T\n",
    "cond_prob_computer_given_gender_as_female"
   ]
  },
  {
   "cell_type": "code",
   "execution_count": 63,
   "metadata": {},
   "outputs": [
    {
     "data": {
      "text/html": [
       "<style  type=\"text/css\" >\n",
       "</style><table id=\"T_17ac0a5c_019c_11eb_b798_8e21343cdb84\" ><thead>    <tr>        <th class=\"index_name level0\" >Computer</th>        <th class=\"col_heading level0 col0\" >Desktop</th>        <th class=\"col_heading level0 col1\" >Laptop</th>        <th class=\"col_heading level0 col2\" >Tablet</th>    </tr></thead><tbody>\n",
       "                <tr>\n",
       "                        <th id=\"T_17ac0a5c_019c_11eb_b798_8e21343cdb84level0_row0\" class=\"row_heading level0 row0\" >Female</th>\n",
       "                        <td id=\"T_17ac0a5c_019c_11eb_b798_8e21343cdb84row0_col0\" class=\"data row0 col0\" >6%</td>\n",
       "                        <td id=\"T_17ac0a5c_019c_11eb_b798_8e21343cdb84row0_col1\" class=\"data row0 col1\" >88%</td>\n",
       "                        <td id=\"T_17ac0a5c_019c_11eb_b798_8e21343cdb84row0_col2\" class=\"data row0 col2\" >6%</td>\n",
       "            </tr>\n",
       "    </tbody></table>"
      ],
      "text/plain": [
       "<pandas.io.formats.style.Styler at 0x1ac6811b408>"
      ]
     },
     "execution_count": 63,
     "metadata": {},
     "output_type": "execute_result"
    }
   ],
   "source": [
    "cond_prob_computer_given_gender_as_female.style.format(\"{:.0%}\")"
   ]
  },
  {
   "cell_type": "markdown",
   "metadata": {},
   "source": [
    "Therefore, given that selected students are FEMALE, there is a chance student belongs to :\n",
    "\n",
    "1. computer preference as Desktop is 6%\n",
    "2. computer preference as Laptop is 88% \n",
    "3. computer preference as Tablet is 6% "
   ]
  },
  {
   "cell_type": "markdown",
   "metadata": {},
   "source": [
    "---------------------------------------------END OF 2.2.5------------------------------------------------------------"
   ]
  },
  {
   "cell_type": "markdown",
   "metadata": {},
   "source": [
    "#### -----------------------------------------------------------------END OF 2.2---------------------------------------------------------------------------------------"
   ]
  },
  {
   "cell_type": "markdown",
   "metadata": {},
   "source": [
    "### 2.3. Based on the above probabilities, do you think that the column variable in each case is independent of Gender?\n",
    "#### Justify your comment in each case."
   ]
  },
  {
   "cell_type": "markdown",
   "metadata": {},
   "source": [
    "#### 1. Gender & Major"
   ]
  },
  {
   "cell_type": "code",
   "execution_count": 64,
   "metadata": {},
   "outputs": [],
   "source": [
    "a = df_main['Gender'] # define a as gender\n",
    "b = df_main['Major']  # define b as major"
   ]
  },
  {
   "cell_type": "code",
   "execution_count": 65,
   "metadata": {},
   "outputs": [
    {
     "data": {
      "text/html": [
       "<style  type=\"text/css\" >\n",
       "</style><table id=\"T_17b66382_019c_11eb_98e7_8e21343cdb84\" ><thead>    <tr>        <th class=\"index_name level0\" >Major</th>        <th class=\"col_heading level0 col0\" >Accounting</th>        <th class=\"col_heading level0 col1\" >CIS</th>        <th class=\"col_heading level0 col2\" >Economics/Finance</th>        <th class=\"col_heading level0 col3\" >International Business</th>        <th class=\"col_heading level0 col4\" >Management</th>        <th class=\"col_heading level0 col5\" >Other</th>        <th class=\"col_heading level0 col6\" >Retailing/Marketing</th>        <th class=\"col_heading level0 col7\" >Undecided</th>    </tr></thead><tbody>\n",
       "                <tr>\n",
       "                        <th id=\"T_17b66382_019c_11eb_98e7_8e21343cdb84level0_row0\" class=\"row_heading level0 row0\" >Probability of Major</th>\n",
       "                        <td id=\"T_17b66382_019c_11eb_98e7_8e21343cdb84row0_col0\" class=\"data row0 col0\" >11%</td>\n",
       "                        <td id=\"T_17b66382_019c_11eb_98e7_8e21343cdb84row0_col1\" class=\"data row0 col1\" >6%</td>\n",
       "                        <td id=\"T_17b66382_019c_11eb_98e7_8e21343cdb84row0_col2\" class=\"data row0 col2\" >18%</td>\n",
       "                        <td id=\"T_17b66382_019c_11eb_98e7_8e21343cdb84row0_col3\" class=\"data row0 col3\" >10%</td>\n",
       "                        <td id=\"T_17b66382_019c_11eb_98e7_8e21343cdb84row0_col4\" class=\"data row0 col4\" >16%</td>\n",
       "                        <td id=\"T_17b66382_019c_11eb_98e7_8e21343cdb84row0_col5\" class=\"data row0 col5\" >11%</td>\n",
       "                        <td id=\"T_17b66382_019c_11eb_98e7_8e21343cdb84row0_col6\" class=\"data row0 col6\" >23%</td>\n",
       "                        <td id=\"T_17b66382_019c_11eb_98e7_8e21343cdb84row0_col7\" class=\"data row0 col7\" >5%</td>\n",
       "            </tr>\n",
       "    </tbody></table>"
      ],
      "text/plain": [
       "<pandas.io.formats.style.Styler at 0x1ac680df208>"
      ]
     },
     "execution_count": 65,
     "metadata": {},
     "output_type": "execute_result"
    }
   ],
   "source": [
    "probability_major = pd.crosstab(a, b, rownames=['Gender'], \n",
    "                                     colnames=['Major'],margins = True,margins_name=\"Total\",\n",
    "                                     normalize = True) ##crosstab function to get probability of major.\n",
    "prob_major = pd.DataFrame(probability_major.loc['Total']).T\n",
    "prob_major.rename(index = {'Total' : 'Probability of Major'},inplace = True)\n",
    "df1 = prob_major.iloc[:,0:8]\n",
    "df1.style.format(\"{:.0%}\")"
   ]
  },
  {
   "cell_type": "code",
   "execution_count": 66,
   "metadata": {},
   "outputs": [
    {
     "data": {
      "text/html": [
       "<style  type=\"text/css\" >\n",
       "</style><table id=\"T_17b7c228_019c_11eb_bdef_8e21343cdb84\" ><thead>    <tr>        <th class=\"index_name level0\" >Major</th>        <th class=\"col_heading level0 col0\" >Accounting</th>        <th class=\"col_heading level0 col1\" >CIS</th>        <th class=\"col_heading level0 col2\" >Economics/Finance</th>        <th class=\"col_heading level0 col3\" >International Business</th>        <th class=\"col_heading level0 col4\" >Management</th>        <th class=\"col_heading level0 col5\" >Other</th>        <th class=\"col_heading level0 col6\" >Retailing/Marketing</th>        <th class=\"col_heading level0 col7\" >Undecided</th>    </tr></thead><tbody>\n",
       "                <tr>\n",
       "                        <th id=\"T_17b7c228_019c_11eb_bdef_8e21343cdb84level0_row0\" class=\"row_heading level0 row0\" >Prob. of Major given male gender</th>\n",
       "                        <td id=\"T_17b7c228_019c_11eb_bdef_8e21343cdb84row0_col0\" class=\"data row0 col0\" >14%</td>\n",
       "                        <td id=\"T_17b7c228_019c_11eb_bdef_8e21343cdb84row0_col1\" class=\"data row0 col1\" >3%</td>\n",
       "                        <td id=\"T_17b7c228_019c_11eb_bdef_8e21343cdb84row0_col2\" class=\"data row0 col2\" >14%</td>\n",
       "                        <td id=\"T_17b7c228_019c_11eb_bdef_8e21343cdb84row0_col3\" class=\"data row0 col3\" >7%</td>\n",
       "                        <td id=\"T_17b7c228_019c_11eb_bdef_8e21343cdb84row0_col4\" class=\"data row0 col4\" >21%</td>\n",
       "                        <td id=\"T_17b7c228_019c_11eb_bdef_8e21343cdb84row0_col5\" class=\"data row0 col5\" >14%</td>\n",
       "                        <td id=\"T_17b7c228_019c_11eb_bdef_8e21343cdb84row0_col6\" class=\"data row0 col6\" >17%</td>\n",
       "                        <td id=\"T_17b7c228_019c_11eb_bdef_8e21343cdb84row0_col7\" class=\"data row0 col7\" >10%</td>\n",
       "            </tr>\n",
       "    </tbody></table>"
      ],
      "text/plain": [
       "<pandas.io.formats.style.Styler at 0x1ac680ee908>"
      ]
     },
     "execution_count": 66,
     "metadata": {},
     "output_type": "execute_result"
    }
   ],
   "source": [
    "cond_prob_major_given_gender_as_male.rename(index = {'Male' : 'Prob. of Major given male gender'},inplace = True)\n",
    "df2 = cond_prob_major_given_gender_as_male\n",
    "df2.style.format(\"{:.0%}\") ## as per 2.2.2 probability of major given gender is male"
   ]
  },
  {
   "cell_type": "code",
   "execution_count": 67,
   "metadata": {},
   "outputs": [
    {
     "data": {
      "text/html": [
       "<style  type=\"text/css\" >\n",
       "</style><table id=\"T_17b96ebe_019c_11eb_af52_8e21343cdb84\" ><thead>    <tr>        <th class=\"index_name level0\" >Major</th>        <th class=\"col_heading level0 col0\" >Accounting</th>        <th class=\"col_heading level0 col1\" >CIS</th>        <th class=\"col_heading level0 col2\" >Economics/Finance</th>        <th class=\"col_heading level0 col3\" >International Business</th>        <th class=\"col_heading level0 col4\" >Management</th>        <th class=\"col_heading level0 col5\" >Other</th>        <th class=\"col_heading level0 col6\" >Retailing/Marketing</th>        <th class=\"col_heading level0 col7\" >Undecided</th>    </tr></thead><tbody>\n",
       "                <tr>\n",
       "                        <th id=\"T_17b96ebe_019c_11eb_af52_8e21343cdb84level0_row0\" class=\"row_heading level0 row0\" >Prob. of Major given female gender</th>\n",
       "                        <td id=\"T_17b96ebe_019c_11eb_af52_8e21343cdb84row0_col0\" class=\"data row0 col0\" >9%</td>\n",
       "                        <td id=\"T_17b96ebe_019c_11eb_af52_8e21343cdb84row0_col1\" class=\"data row0 col1\" >9%</td>\n",
       "                        <td id=\"T_17b96ebe_019c_11eb_af52_8e21343cdb84row0_col2\" class=\"data row0 col2\" >21%</td>\n",
       "                        <td id=\"T_17b96ebe_019c_11eb_af52_8e21343cdb84row0_col3\" class=\"data row0 col3\" >12%</td>\n",
       "                        <td id=\"T_17b96ebe_019c_11eb_af52_8e21343cdb84row0_col4\" class=\"data row0 col4\" >12%</td>\n",
       "                        <td id=\"T_17b96ebe_019c_11eb_af52_8e21343cdb84row0_col5\" class=\"data row0 col5\" >9%</td>\n",
       "                        <td id=\"T_17b96ebe_019c_11eb_af52_8e21343cdb84row0_col6\" class=\"data row0 col6\" >27%</td>\n",
       "                        <td id=\"T_17b96ebe_019c_11eb_af52_8e21343cdb84row0_col7\" class=\"data row0 col7\" >0%</td>\n",
       "            </tr>\n",
       "    </tbody></table>"
      ],
      "text/plain": [
       "<pandas.io.formats.style.Styler at 0x1ac6812eac8>"
      ]
     },
     "execution_count": 67,
     "metadata": {},
     "output_type": "execute_result"
    }
   ],
   "source": [
    "cond_prob_major_given_gender_as_female.rename(index = {'Female' : 'Prob. of Major given female gender'},inplace = True)\n",
    "df3 = cond_prob_major_given_gender_as_female\n",
    "df3.style.format(\"{:.0%}\") ## as per 2.2.2 probability of major given gender is female"
   ]
  },
  {
   "cell_type": "code",
   "execution_count": 68,
   "metadata": {},
   "outputs": [
    {
     "data": {
      "text/html": [
       "<div>\n",
       "<style scoped>\n",
       "    .dataframe tbody tr th:only-of-type {\n",
       "        vertical-align: middle;\n",
       "    }\n",
       "\n",
       "    .dataframe tbody tr th {\n",
       "        vertical-align: top;\n",
       "    }\n",
       "\n",
       "    .dataframe thead th {\n",
       "        text-align: right;\n",
       "    }\n",
       "</style>\n",
       "<table border=\"1\" class=\"dataframe\">\n",
       "  <thead>\n",
       "    <tr style=\"text-align: right;\">\n",
       "      <th></th>\n",
       "      <th>Probability of Major</th>\n",
       "      <th>Prob. of Major given male gender</th>\n",
       "      <th>Prob. of Major given female gender</th>\n",
       "      <th>Check point_male</th>\n",
       "      <th>Check point_female</th>\n",
       "    </tr>\n",
       "    <tr>\n",
       "      <th>Major</th>\n",
       "      <th></th>\n",
       "      <th></th>\n",
       "      <th></th>\n",
       "      <th></th>\n",
       "      <th></th>\n",
       "    </tr>\n",
       "  </thead>\n",
       "  <tbody>\n",
       "    <tr>\n",
       "      <td>Accounting</td>\n",
       "      <td>0.112903</td>\n",
       "      <td>0.137931</td>\n",
       "      <td>0.090909</td>\n",
       "      <td>Dependent</td>\n",
       "      <td>Dependent</td>\n",
       "    </tr>\n",
       "    <tr>\n",
       "      <td>CIS</td>\n",
       "      <td>0.064516</td>\n",
       "      <td>0.034483</td>\n",
       "      <td>0.090909</td>\n",
       "      <td>Dependent</td>\n",
       "      <td>Dependent</td>\n",
       "    </tr>\n",
       "    <tr>\n",
       "      <td>Economics/Finance</td>\n",
       "      <td>0.177419</td>\n",
       "      <td>0.137931</td>\n",
       "      <td>0.212121</td>\n",
       "      <td>Dependent</td>\n",
       "      <td>Dependent</td>\n",
       "    </tr>\n",
       "    <tr>\n",
       "      <td>International Business</td>\n",
       "      <td>0.096774</td>\n",
       "      <td>0.068966</td>\n",
       "      <td>0.121212</td>\n",
       "      <td>Dependent</td>\n",
       "      <td>Dependent</td>\n",
       "    </tr>\n",
       "    <tr>\n",
       "      <td>Management</td>\n",
       "      <td>0.161290</td>\n",
       "      <td>0.206897</td>\n",
       "      <td>0.121212</td>\n",
       "      <td>Dependent</td>\n",
       "      <td>Dependent</td>\n",
       "    </tr>\n",
       "    <tr>\n",
       "      <td>Other</td>\n",
       "      <td>0.112903</td>\n",
       "      <td>0.137931</td>\n",
       "      <td>0.090909</td>\n",
       "      <td>Dependent</td>\n",
       "      <td>Dependent</td>\n",
       "    </tr>\n",
       "    <tr>\n",
       "      <td>Retailing/Marketing</td>\n",
       "      <td>0.225806</td>\n",
       "      <td>0.172414</td>\n",
       "      <td>0.272727</td>\n",
       "      <td>Dependent</td>\n",
       "      <td>Dependent</td>\n",
       "    </tr>\n",
       "    <tr>\n",
       "      <td>Undecided</td>\n",
       "      <td>0.048387</td>\n",
       "      <td>0.103448</td>\n",
       "      <td>0.000000</td>\n",
       "      <td>Dependent</td>\n",
       "      <td>Dependent</td>\n",
       "    </tr>\n",
       "  </tbody>\n",
       "</table>\n",
       "</div>"
      ],
      "text/plain": [
       "                        Probability of Major  \\\n",
       "Major                                          \n",
       "Accounting                          0.112903   \n",
       "CIS                                 0.064516   \n",
       "Economics/Finance                   0.177419   \n",
       "International Business              0.096774   \n",
       "Management                          0.161290   \n",
       "Other                               0.112903   \n",
       "Retailing/Marketing                 0.225806   \n",
       "Undecided                           0.048387   \n",
       "\n",
       "                        Prob. of Major given male gender  \\\n",
       "Major                                                      \n",
       "Accounting                                      0.137931   \n",
       "CIS                                             0.034483   \n",
       "Economics/Finance                               0.137931   \n",
       "International Business                          0.068966   \n",
       "Management                                      0.206897   \n",
       "Other                                           0.137931   \n",
       "Retailing/Marketing                             0.172414   \n",
       "Undecided                                       0.103448   \n",
       "\n",
       "                        Prob. of Major given female gender Check point_male  \\\n",
       "Major                                                                         \n",
       "Accounting                                        0.090909        Dependent   \n",
       "CIS                                               0.090909        Dependent   \n",
       "Economics/Finance                                 0.212121        Dependent   \n",
       "International Business                            0.121212        Dependent   \n",
       "Management                                        0.121212        Dependent   \n",
       "Other                                             0.090909        Dependent   \n",
       "Retailing/Marketing                               0.272727        Dependent   \n",
       "Undecided                                         0.000000        Dependent   \n",
       "\n",
       "                       Check point_female  \n",
       "Major                                      \n",
       "Accounting                      Dependent  \n",
       "CIS                             Dependent  \n",
       "Economics/Finance               Dependent  \n",
       "International Business          Dependent  \n",
       "Management                      Dependent  \n",
       "Other                           Dependent  \n",
       "Retailing/Marketing             Dependent  \n",
       "Undecided                       Dependent  "
      ]
     },
     "execution_count": 68,
     "metadata": {},
     "output_type": "execute_result"
    }
   ],
   "source": [
    "df1 = df1.append(df2) ## appending details of probability of major given gender is male with probability of gender\n",
    "df1 = df1.append(df3) ## appending details of probability of major given gender is female with probability of gender\n",
    "df2 = df1.T ## transposing the details\n",
    "df2['Check point_male'] = np.where(df2['Probability of Major'] == df2['Prob. of Major given male gender'], \n",
    "                              'Independent', 'Dependent') \n",
    "## check the dependency if both column values are same then independent otherwise dependent\n",
    "df2['Check point_female'] = np.where(df2['Probability of Major'] == df2['Prob. of Major given female gender'], \n",
    "                              'Independent', 'Dependent') \n",
    "## check the dependency if both column values are same then independent otherwise dependent\n",
    "df2"
   ]
  },
  {
   "cell_type": "markdown",
   "metadata": {},
   "source": [
    "##### Hence, we can say that gender does affect(dependent) with the major"
   ]
  },
  {
   "cell_type": "markdown",
   "metadata": {},
   "source": [
    "-----------------------------------END OF 2.3 (1. Gender & Major)------------------------------------------------"
   ]
  },
  {
   "cell_type": "markdown",
   "metadata": {},
   "source": [
    "#### 2. Gender & Grad Intention"
   ]
  },
  {
   "cell_type": "code",
   "execution_count": 69,
   "metadata": {},
   "outputs": [],
   "source": [
    "a = df_main['Gender'] # define a as gender\n",
    "b = df_main['Grad Intention']  # define b as grad intention"
   ]
  },
  {
   "cell_type": "code",
   "execution_count": 70,
   "metadata": {},
   "outputs": [
    {
     "data": {
      "text/html": [
       "<style  type=\"text/css\" >\n",
       "</style><table id=\"T_17c63734_019c_11eb_8914_8e21343cdb84\" ><thead>    <tr>        <th class=\"index_name level0\" >Grad Intention</th>        <th class=\"col_heading level0 col0\" >No</th>        <th class=\"col_heading level0 col1\" >Undecided</th>        <th class=\"col_heading level0 col2\" >Yes</th>    </tr></thead><tbody>\n",
       "                <tr>\n",
       "                        <th id=\"T_17c63734_019c_11eb_8914_8e21343cdb84level0_row0\" class=\"row_heading level0 row0\" >Probability of Grad Intention</th>\n",
       "                        <td id=\"T_17c63734_019c_11eb_8914_8e21343cdb84row0_col0\" class=\"data row0 col0\" >19%</td>\n",
       "                        <td id=\"T_17c63734_019c_11eb_8914_8e21343cdb84row0_col1\" class=\"data row0 col1\" >35%</td>\n",
       "                        <td id=\"T_17c63734_019c_11eb_8914_8e21343cdb84row0_col2\" class=\"data row0 col2\" >45%</td>\n",
       "            </tr>\n",
       "    </tbody></table>"
      ],
      "text/plain": [
       "<pandas.io.formats.style.Styler at 0x1ac680f4408>"
      ]
     },
     "execution_count": 70,
     "metadata": {},
     "output_type": "execute_result"
    }
   ],
   "source": [
    "probability_grad = pd.crosstab(a, b, rownames=['Gender'], \n",
    "                                     colnames=['Grad Intention'],margins = True,margins_name=\"Total\",\n",
    "                                     normalize = True) ##crosstab function to get probability of grad intention.\n",
    "prob_grad = pd.DataFrame(probability_grad.loc['Total']).T\n",
    "prob_grad.rename(index = {'Total' : 'Probability of Grad Intention'},inplace = True)\n",
    "df1 = prob_grad.iloc[:,0:3]\n",
    "df1.style.format(\"{:.0%}\")"
   ]
  },
  {
   "cell_type": "code",
   "execution_count": 71,
   "metadata": {},
   "outputs": [
    {
     "data": {
      "text/html": [
       "<style  type=\"text/css\" >\n",
       "</style><table id=\"T_17c7bcc0_019c_11eb_946a_8e21343cdb84\" ><thead>    <tr>        <th class=\"index_name level0\" >Grad Intention</th>        <th class=\"col_heading level0 col0\" >No</th>        <th class=\"col_heading level0 col1\" >Undecided</th>        <th class=\"col_heading level0 col2\" >Yes</th>    </tr></thead><tbody>\n",
       "                <tr>\n",
       "                        <th id=\"T_17c7bcc0_019c_11eb_946a_8e21343cdb84level0_row0\" class=\"row_heading level0 row0\" >Prob. of Grad intent given male gender</th>\n",
       "                        <td id=\"T_17c7bcc0_019c_11eb_946a_8e21343cdb84row0_col0\" class=\"data row0 col0\" >10%</td>\n",
       "                        <td id=\"T_17c7bcc0_019c_11eb_946a_8e21343cdb84row0_col1\" class=\"data row0 col1\" >31%</td>\n",
       "                        <td id=\"T_17c7bcc0_019c_11eb_946a_8e21343cdb84row0_col2\" class=\"data row0 col2\" >59%</td>\n",
       "            </tr>\n",
       "    </tbody></table>"
      ],
      "text/plain": [
       "<pandas.io.formats.style.Styler at 0x1ac680b0fc8>"
      ]
     },
     "execution_count": 71,
     "metadata": {},
     "output_type": "execute_result"
    }
   ],
   "source": [
    "cond_prob_grad_given_gender_as_male.rename(index = {'Male' : 'Prob. of Grad intent given male gender'},inplace = True)\n",
    "df2 = cond_prob_grad_given_gender_as_male\n",
    "df2.style.format(\"{:.0%}\") ## as per 2.2.3 probability of grad intention given gender is male"
   ]
  },
  {
   "cell_type": "code",
   "execution_count": 72,
   "metadata": {},
   "outputs": [
    {
     "data": {
      "text/html": [
       "<style  type=\"text/css\" >\n",
       "</style><table id=\"T_17c9425c_019c_11eb_8c46_8e21343cdb84\" ><thead>    <tr>        <th class=\"index_name level0\" >Grad Intention</th>        <th class=\"col_heading level0 col0\" >No</th>        <th class=\"col_heading level0 col1\" >Undecided</th>        <th class=\"col_heading level0 col2\" >Yes</th>    </tr></thead><tbody>\n",
       "                <tr>\n",
       "                        <th id=\"T_17c9425c_019c_11eb_8c46_8e21343cdb84level0_row0\" class=\"row_heading level0 row0\" >Prob. of Grad intent given female gender</th>\n",
       "                        <td id=\"T_17c9425c_019c_11eb_8c46_8e21343cdb84row0_col0\" class=\"data row0 col0\" >27%</td>\n",
       "                        <td id=\"T_17c9425c_019c_11eb_8c46_8e21343cdb84row0_col1\" class=\"data row0 col1\" >39%</td>\n",
       "                        <td id=\"T_17c9425c_019c_11eb_8c46_8e21343cdb84row0_col2\" class=\"data row0 col2\" >33%</td>\n",
       "            </tr>\n",
       "    </tbody></table>"
      ],
      "text/plain": [
       "<pandas.io.formats.style.Styler at 0x1ac68108188>"
      ]
     },
     "execution_count": 72,
     "metadata": {},
     "output_type": "execute_result"
    }
   ],
   "source": [
    "cond_prob_grad_given_gender_as_female.rename(index = {'Female' : 'Prob. of Grad intent given female gender'},inplace = True)\n",
    "df3 = cond_prob_grad_given_gender_as_female\n",
    "df3.style.format(\"{:.0%}\") ## as per 2.2.3 probability of grad intention given gender is female"
   ]
  },
  {
   "cell_type": "code",
   "execution_count": 73,
   "metadata": {},
   "outputs": [
    {
     "data": {
      "text/html": [
       "<div>\n",
       "<style scoped>\n",
       "    .dataframe tbody tr th:only-of-type {\n",
       "        vertical-align: middle;\n",
       "    }\n",
       "\n",
       "    .dataframe tbody tr th {\n",
       "        vertical-align: top;\n",
       "    }\n",
       "\n",
       "    .dataframe thead th {\n",
       "        text-align: right;\n",
       "    }\n",
       "</style>\n",
       "<table border=\"1\" class=\"dataframe\">\n",
       "  <thead>\n",
       "    <tr style=\"text-align: right;\">\n",
       "      <th></th>\n",
       "      <th>Probability of Grad Intention</th>\n",
       "      <th>Prob. of Grad intent given male gender</th>\n",
       "      <th>Prob. of Grad intent given female gender</th>\n",
       "      <th>Check point_male</th>\n",
       "      <th>Check point_female</th>\n",
       "    </tr>\n",
       "    <tr>\n",
       "      <th>Grad Intention</th>\n",
       "      <th></th>\n",
       "      <th></th>\n",
       "      <th></th>\n",
       "      <th></th>\n",
       "      <th></th>\n",
       "    </tr>\n",
       "  </thead>\n",
       "  <tbody>\n",
       "    <tr>\n",
       "      <td>No</td>\n",
       "      <td>0.193548</td>\n",
       "      <td>0.103448</td>\n",
       "      <td>0.272727</td>\n",
       "      <td>Dependent</td>\n",
       "      <td>Dependent</td>\n",
       "    </tr>\n",
       "    <tr>\n",
       "      <td>Undecided</td>\n",
       "      <td>0.354839</td>\n",
       "      <td>0.310345</td>\n",
       "      <td>0.393939</td>\n",
       "      <td>Dependent</td>\n",
       "      <td>Dependent</td>\n",
       "    </tr>\n",
       "    <tr>\n",
       "      <td>Yes</td>\n",
       "      <td>0.451613</td>\n",
       "      <td>0.586207</td>\n",
       "      <td>0.333333</td>\n",
       "      <td>Dependent</td>\n",
       "      <td>Dependent</td>\n",
       "    </tr>\n",
       "  </tbody>\n",
       "</table>\n",
       "</div>"
      ],
      "text/plain": [
       "                Probability of Grad Intention  \\\n",
       "Grad Intention                                  \n",
       "No                                   0.193548   \n",
       "Undecided                            0.354839   \n",
       "Yes                                  0.451613   \n",
       "\n",
       "                Prob. of Grad intent given male gender  \\\n",
       "Grad Intention                                           \n",
       "No                                            0.103448   \n",
       "Undecided                                     0.310345   \n",
       "Yes                                           0.586207   \n",
       "\n",
       "                Prob. of Grad intent given female gender Check point_male  \\\n",
       "Grad Intention                                                              \n",
       "No                                              0.272727        Dependent   \n",
       "Undecided                                       0.393939        Dependent   \n",
       "Yes                                             0.333333        Dependent   \n",
       "\n",
       "               Check point_female  \n",
       "Grad Intention                     \n",
       "No                      Dependent  \n",
       "Undecided               Dependent  \n",
       "Yes                     Dependent  "
      ]
     },
     "execution_count": 73,
     "metadata": {},
     "output_type": "execute_result"
    }
   ],
   "source": [
    "df1 = df1.append(df2) ## appending details of probability of grad intention given gender is male with probability of gender\n",
    "df1 = df1.append(df3) ## appending details of probability of grad intention given gender is female with probability of gender\n",
    "df2 = df1.T ## transposing the details\n",
    "df2['Check point_male'] = np.where(df2['Probability of Grad Intention'] == df2['Prob. of Grad intent given male gender'], \n",
    "                              'Independent', 'Dependent') \n",
    "## check the dependency if both column values are same then independent otherwise dependent\n",
    "df2['Check point_female'] = np.where(df2['Probability of Grad Intention'] == df2['Prob. of Grad intent given female gender'], \n",
    "                              'Independent', 'Dependent') \n",
    "## check the dependency if both column values are same then independent otherwise dependent\n",
    "df2"
   ]
  },
  {
   "cell_type": "markdown",
   "metadata": {},
   "source": [
    "##### Hence, we can say that gender does affect(dependent) with the grad intention"
   ]
  },
  {
   "cell_type": "markdown",
   "metadata": {},
   "source": [
    "-----------------------------------END OF 2.3 (2. Gender & Grade Intention)------------------------------------------------"
   ]
  },
  {
   "cell_type": "markdown",
   "metadata": {},
   "source": [
    "#### 3. Gender & Employment"
   ]
  },
  {
   "cell_type": "code",
   "execution_count": 74,
   "metadata": {},
   "outputs": [],
   "source": [
    "a = df_main['Gender'] # define a as gender\n",
    "b = df_main['Employment']  # define b as employment"
   ]
  },
  {
   "cell_type": "code",
   "execution_count": 75,
   "metadata": {},
   "outputs": [
    {
     "data": {
      "text/html": [
       "<style  type=\"text/css\" >\n",
       "</style><table id=\"T_17d4105c_019c_11eb_b42b_8e21343cdb84\" ><thead>    <tr>        <th class=\"index_name level0\" >Employment</th>        <th class=\"col_heading level0 col0\" >Full-Time</th>        <th class=\"col_heading level0 col1\" >Part-Time</th>        <th class=\"col_heading level0 col2\" >Unemployed</th>    </tr></thead><tbody>\n",
       "                <tr>\n",
       "                        <th id=\"T_17d4105c_019c_11eb_b42b_8e21343cdb84level0_row0\" class=\"row_heading level0 row0\" >Probability of employment</th>\n",
       "                        <td id=\"T_17d4105c_019c_11eb_b42b_8e21343cdb84row0_col0\" class=\"data row0 col0\" >16%</td>\n",
       "                        <td id=\"T_17d4105c_019c_11eb_b42b_8e21343cdb84row0_col1\" class=\"data row0 col1\" >69%</td>\n",
       "                        <td id=\"T_17d4105c_019c_11eb_b42b_8e21343cdb84row0_col2\" class=\"data row0 col2\" >15%</td>\n",
       "            </tr>\n",
       "    </tbody></table>"
      ],
      "text/plain": [
       "<pandas.io.formats.style.Styler at 0x1ac680eb448>"
      ]
     },
     "execution_count": 75,
     "metadata": {},
     "output_type": "execute_result"
    }
   ],
   "source": [
    "probability_employment = pd.crosstab(a, b, rownames=['Gender'], \n",
    "                                     colnames=['Employment'],margins = True,margins_name=\"Total\",\n",
    "                                     normalize = True) ##crosstab function to get probability of employment.\n",
    "prob_employment = pd.DataFrame(probability_employment.loc['Total']).T\n",
    "prob_employment.rename(index = {'Total' : 'Probability of employment'},inplace = True)\n",
    "df1 = prob_employment.iloc[:,0:3]\n",
    "df1.style.format(\"{:.0%}\")"
   ]
  },
  {
   "cell_type": "code",
   "execution_count": 76,
   "metadata": {},
   "outputs": [
    {
     "data": {
      "text/html": [
       "<style  type=\"text/css\" >\n",
       "</style><table id=\"T_17d54814_019c_11eb_aefa_8e21343cdb84\" ><thead>    <tr>        <th class=\"index_name level0\" >Employment</th>        <th class=\"col_heading level0 col0\" >Full-Time</th>        <th class=\"col_heading level0 col1\" >Part-Time</th>        <th class=\"col_heading level0 col2\" >Unemployed</th>    </tr></thead><tbody>\n",
       "                <tr>\n",
       "                        <th id=\"T_17d54814_019c_11eb_aefa_8e21343cdb84level0_row0\" class=\"row_heading level0 row0\" >Prob. of employment given male gender</th>\n",
       "                        <td id=\"T_17d54814_019c_11eb_aefa_8e21343cdb84row0_col0\" class=\"data row0 col0\" >24%</td>\n",
       "                        <td id=\"T_17d54814_019c_11eb_aefa_8e21343cdb84row0_col1\" class=\"data row0 col1\" >66%</td>\n",
       "                        <td id=\"T_17d54814_019c_11eb_aefa_8e21343cdb84row0_col2\" class=\"data row0 col2\" >10%</td>\n",
       "            </tr>\n",
       "    </tbody></table>"
      ],
      "text/plain": [
       "<pandas.io.formats.style.Styler at 0x1ac680c6348>"
      ]
     },
     "execution_count": 76,
     "metadata": {},
     "output_type": "execute_result"
    }
   ],
   "source": [
    "cond_prob_employment_given_gender_as_male.rename(index = {'Male' : 'Prob. of employment given male gender'},inplace = True)\n",
    "df2 = cond_prob_employment_given_gender_as_male\n",
    "df2.style.format(\"{:.0%}\") ## as per 2.2.4 probability of employment given gender is male"
   ]
  },
  {
   "cell_type": "code",
   "execution_count": 77,
   "metadata": {},
   "outputs": [
    {
     "data": {
      "text/html": [
       "<style  type=\"text/css\" >\n",
       "</style><table id=\"T_17d6800a_019c_11eb_8226_8e21343cdb84\" ><thead>    <tr>        <th class=\"index_name level0\" >Employment</th>        <th class=\"col_heading level0 col0\" >Full-Time</th>        <th class=\"col_heading level0 col1\" >Part-Time</th>        <th class=\"col_heading level0 col2\" >Unemployed</th>    </tr></thead><tbody>\n",
       "                <tr>\n",
       "                        <th id=\"T_17d6800a_019c_11eb_8226_8e21343cdb84level0_row0\" class=\"row_heading level0 row0\" >Prob. of employment given female gender</th>\n",
       "                        <td id=\"T_17d6800a_019c_11eb_8226_8e21343cdb84row0_col0\" class=\"data row0 col0\" >9%</td>\n",
       "                        <td id=\"T_17d6800a_019c_11eb_8226_8e21343cdb84row0_col1\" class=\"data row0 col1\" >73%</td>\n",
       "                        <td id=\"T_17d6800a_019c_11eb_8226_8e21343cdb84row0_col2\" class=\"data row0 col2\" >18%</td>\n",
       "            </tr>\n",
       "    </tbody></table>"
      ],
      "text/plain": [
       "<pandas.io.formats.style.Styler at 0x1ac68117e08>"
      ]
     },
     "execution_count": 77,
     "metadata": {},
     "output_type": "execute_result"
    }
   ],
   "source": [
    "cond_prob_employment_given_gender_as_female.rename(index = {'Female' : 'Prob. of employment given female gender'}\n",
    "                                                   ,inplace = True)\n",
    "df3 = cond_prob_employment_given_gender_as_female\n",
    "df3.style.format(\"{:.0%}\") ## as per 2.2.4 probability of employment given gender is female"
   ]
  },
  {
   "cell_type": "code",
   "execution_count": 78,
   "metadata": {},
   "outputs": [
    {
     "data": {
      "text/html": [
       "<div>\n",
       "<style scoped>\n",
       "    .dataframe tbody tr th:only-of-type {\n",
       "        vertical-align: middle;\n",
       "    }\n",
       "\n",
       "    .dataframe tbody tr th {\n",
       "        vertical-align: top;\n",
       "    }\n",
       "\n",
       "    .dataframe thead th {\n",
       "        text-align: right;\n",
       "    }\n",
       "</style>\n",
       "<table border=\"1\" class=\"dataframe\">\n",
       "  <thead>\n",
       "    <tr style=\"text-align: right;\">\n",
       "      <th></th>\n",
       "      <th>Probability of employment</th>\n",
       "      <th>Prob. of employment given male gender</th>\n",
       "      <th>Prob. of employment given female gender</th>\n",
       "      <th>Check point_male</th>\n",
       "      <th>Check point_female</th>\n",
       "    </tr>\n",
       "    <tr>\n",
       "      <th>Employment</th>\n",
       "      <th></th>\n",
       "      <th></th>\n",
       "      <th></th>\n",
       "      <th></th>\n",
       "      <th></th>\n",
       "    </tr>\n",
       "  </thead>\n",
       "  <tbody>\n",
       "    <tr>\n",
       "      <td>Full-Time</td>\n",
       "      <td>0.161290</td>\n",
       "      <td>0.241379</td>\n",
       "      <td>0.090909</td>\n",
       "      <td>Dependent</td>\n",
       "      <td>Dependent</td>\n",
       "    </tr>\n",
       "    <tr>\n",
       "      <td>Part-Time</td>\n",
       "      <td>0.693548</td>\n",
       "      <td>0.655172</td>\n",
       "      <td>0.727273</td>\n",
       "      <td>Dependent</td>\n",
       "      <td>Dependent</td>\n",
       "    </tr>\n",
       "    <tr>\n",
       "      <td>Unemployed</td>\n",
       "      <td>0.145161</td>\n",
       "      <td>0.103448</td>\n",
       "      <td>0.181818</td>\n",
       "      <td>Dependent</td>\n",
       "      <td>Dependent</td>\n",
       "    </tr>\n",
       "  </tbody>\n",
       "</table>\n",
       "</div>"
      ],
      "text/plain": [
       "            Probability of employment  Prob. of employment given male gender  \\\n",
       "Employment                                                                     \n",
       "Full-Time                    0.161290                               0.241379   \n",
       "Part-Time                    0.693548                               0.655172   \n",
       "Unemployed                   0.145161                               0.103448   \n",
       "\n",
       "            Prob. of employment given female gender Check point_male  \\\n",
       "Employment                                                             \n",
       "Full-Time                                  0.090909        Dependent   \n",
       "Part-Time                                  0.727273        Dependent   \n",
       "Unemployed                                 0.181818        Dependent   \n",
       "\n",
       "           Check point_female  \n",
       "Employment                     \n",
       "Full-Time           Dependent  \n",
       "Part-Time           Dependent  \n",
       "Unemployed          Dependent  "
      ]
     },
     "execution_count": 78,
     "metadata": {},
     "output_type": "execute_result"
    }
   ],
   "source": [
    "df1 = df1.append(df2) ## appending details of probability of employment given gender is male with probability of gender\n",
    "df1 = df1.append(df3) ## appending details of probability of employment given gender is female with probability of gender\n",
    "df2 = df1.T ## transposing the details\n",
    "df2['Check point_male'] = np.where(df2['Probability of employment'] == df2['Prob. of employment given male gender'], \n",
    "                              'Independent', 'Dependent') \n",
    "## check the dependency if both column values are same then independent otherwise dependent\n",
    "df2['Check point_female'] = np.where(df2['Probability of employment'] == df2['Prob. of employment given female gender'], \n",
    "                              'Independent', 'Dependent') \n",
    "## check the dependency if both column values are same then independent otherwise dependent\n",
    "df2"
   ]
  },
  {
   "cell_type": "markdown",
   "metadata": {},
   "source": [
    "##### Hence, we can say that gender does affect(dependent) with the employment"
   ]
  },
  {
   "cell_type": "markdown",
   "metadata": {},
   "source": [
    "-----------------------------------END OF 2.3 (3. Gender & Employment)------------------------------------------------"
   ]
  },
  {
   "cell_type": "markdown",
   "metadata": {},
   "source": [
    "#### 4. Gender & Computer"
   ]
  },
  {
   "cell_type": "code",
   "execution_count": 79,
   "metadata": {},
   "outputs": [],
   "source": [
    "a = df_main['Gender'] # define a as gender\n",
    "b = df_main['Computer']  # define b as computer preference"
   ]
  },
  {
   "cell_type": "code",
   "execution_count": 80,
   "metadata": {},
   "outputs": [
    {
     "data": {
      "text/html": [
       "<style  type=\"text/css\" >\n",
       "</style><table id=\"T_17e1c2b4_019c_11eb_b5aa_8e21343cdb84\" ><thead>    <tr>        <th class=\"index_name level0\" >Computer</th>        <th class=\"col_heading level0 col0\" >Desktop</th>        <th class=\"col_heading level0 col1\" >Laptop</th>        <th class=\"col_heading level0 col2\" >Tablet</th>    </tr></thead><tbody>\n",
       "                <tr>\n",
       "                        <th id=\"T_17e1c2b4_019c_11eb_b5aa_8e21343cdb84level0_row0\" class=\"row_heading level0 row0\" >Probability of computer prefrences</th>\n",
       "                        <td id=\"T_17e1c2b4_019c_11eb_b5aa_8e21343cdb84row0_col0\" class=\"data row0 col0\" >8%</td>\n",
       "                        <td id=\"T_17e1c2b4_019c_11eb_b5aa_8e21343cdb84row0_col1\" class=\"data row0 col1\" >89%</td>\n",
       "                        <td id=\"T_17e1c2b4_019c_11eb_b5aa_8e21343cdb84row0_col2\" class=\"data row0 col2\" >3%</td>\n",
       "            </tr>\n",
       "    </tbody></table>"
      ],
      "text/plain": [
       "<pandas.io.formats.style.Styler at 0x1ac6813e708>"
      ]
     },
     "execution_count": 80,
     "metadata": {},
     "output_type": "execute_result"
    }
   ],
   "source": [
    "probability_computer_pref = pd.crosstab(a, b, rownames=['Gender'], \n",
    "                                     colnames=['Computer'],margins = True,margins_name=\"Total\",\n",
    "                                     normalize = True) ##crosstab function to get probability of computer preference.\n",
    "prob_comp_pref = pd.DataFrame(probability_computer_pref.loc['Total']).T\n",
    "prob_comp_pref.rename(index = {'Total' : 'Probability of computer prefrences'},inplace = True)\n",
    "df1 = prob_comp_pref.iloc[:,0:3]\n",
    "df1.style.format(\"{:.0%}\")"
   ]
  },
  {
   "cell_type": "code",
   "execution_count": 81,
   "metadata": {},
   "outputs": [
    {
     "data": {
      "text/html": [
       "<style  type=\"text/css\" >\n",
       "</style><table id=\"T_17e32146_019c_11eb_8ba8_8e21343cdb84\" ><thead>    <tr>        <th class=\"index_name level0\" >Computer</th>        <th class=\"col_heading level0 col0\" >Desktop</th>        <th class=\"col_heading level0 col1\" >Laptop</th>        <th class=\"col_heading level0 col2\" >Tablet</th>    </tr></thead><tbody>\n",
       "                <tr>\n",
       "                        <th id=\"T_17e32146_019c_11eb_8ba8_8e21343cdb84level0_row0\" class=\"row_heading level0 row0\" >Prob. of computer pref. given male gender</th>\n",
       "                        <td id=\"T_17e32146_019c_11eb_8ba8_8e21343cdb84row0_col0\" class=\"data row0 col0\" >10%</td>\n",
       "                        <td id=\"T_17e32146_019c_11eb_8ba8_8e21343cdb84row0_col1\" class=\"data row0 col1\" >90%</td>\n",
       "                        <td id=\"T_17e32146_019c_11eb_8ba8_8e21343cdb84row0_col2\" class=\"data row0 col2\" >0%</td>\n",
       "            </tr>\n",
       "    </tbody></table>"
      ],
      "text/plain": [
       "<pandas.io.formats.style.Styler at 0x1ac6811b4c8>"
      ]
     },
     "execution_count": 81,
     "metadata": {},
     "output_type": "execute_result"
    }
   ],
   "source": [
    "cond_prob_computer_given_gender_as_male.rename(index = {'Male' : 'Prob. of computer pref. given male gender'},inplace = True)\n",
    "df2 = cond_prob_computer_given_gender_as_male\n",
    "df2.style.format(\"{:.0%}\") ## as per 2.2.4 probability of computer preferences given gender is male"
   ]
  },
  {
   "cell_type": "code",
   "execution_count": 82,
   "metadata": {},
   "outputs": [
    {
     "data": {
      "text/html": [
       "<style  type=\"text/css\" >\n",
       "</style><table id=\"T_17e4cdca_019c_11eb_8a47_8e21343cdb84\" ><thead>    <tr>        <th class=\"index_name level0\" >Computer</th>        <th class=\"col_heading level0 col0\" >Desktop</th>        <th class=\"col_heading level0 col1\" >Laptop</th>        <th class=\"col_heading level0 col2\" >Tablet</th>    </tr></thead><tbody>\n",
       "                <tr>\n",
       "                        <th id=\"T_17e4cdca_019c_11eb_8a47_8e21343cdb84level0_row0\" class=\"row_heading level0 row0\" >Prob. of computer pref. given female gender</th>\n",
       "                        <td id=\"T_17e4cdca_019c_11eb_8a47_8e21343cdb84row0_col0\" class=\"data row0 col0\" >6%</td>\n",
       "                        <td id=\"T_17e4cdca_019c_11eb_8a47_8e21343cdb84row0_col1\" class=\"data row0 col1\" >88%</td>\n",
       "                        <td id=\"T_17e4cdca_019c_11eb_8a47_8e21343cdb84row0_col2\" class=\"data row0 col2\" >6%</td>\n",
       "            </tr>\n",
       "    </tbody></table>"
      ],
      "text/plain": [
       "<pandas.io.formats.style.Styler at 0x1ac680ddd08>"
      ]
     },
     "execution_count": 82,
     "metadata": {},
     "output_type": "execute_result"
    }
   ],
   "source": [
    "cond_prob_computer_given_gender_as_female.rename(index = {'Female' : 'Prob. of computer pref. given female gender'},\n",
    "                                                 inplace = True)\n",
    "df3 = cond_prob_computer_given_gender_as_female\n",
    "df3.style.format(\"{:.0%}\") ## as per 2.2.4 probability of computer preferences given gender is male"
   ]
  },
  {
   "cell_type": "code",
   "execution_count": 83,
   "metadata": {},
   "outputs": [
    {
     "data": {
      "text/html": [
       "<div>\n",
       "<style scoped>\n",
       "    .dataframe tbody tr th:only-of-type {\n",
       "        vertical-align: middle;\n",
       "    }\n",
       "\n",
       "    .dataframe tbody tr th {\n",
       "        vertical-align: top;\n",
       "    }\n",
       "\n",
       "    .dataframe thead th {\n",
       "        text-align: right;\n",
       "    }\n",
       "</style>\n",
       "<table border=\"1\" class=\"dataframe\">\n",
       "  <thead>\n",
       "    <tr style=\"text-align: right;\">\n",
       "      <th></th>\n",
       "      <th>Probability of computer prefrences</th>\n",
       "      <th>Prob. of computer pref. given male gender</th>\n",
       "      <th>Prob. of computer pref. given female gender</th>\n",
       "      <th>Check point_male</th>\n",
       "      <th>Check point_female</th>\n",
       "    </tr>\n",
       "    <tr>\n",
       "      <th>Computer</th>\n",
       "      <th></th>\n",
       "      <th></th>\n",
       "      <th></th>\n",
       "      <th></th>\n",
       "      <th></th>\n",
       "    </tr>\n",
       "  </thead>\n",
       "  <tbody>\n",
       "    <tr>\n",
       "      <td>Desktop</td>\n",
       "      <td>0.080645</td>\n",
       "      <td>0.103448</td>\n",
       "      <td>0.060606</td>\n",
       "      <td>Dependent</td>\n",
       "      <td>Dependent</td>\n",
       "    </tr>\n",
       "    <tr>\n",
       "      <td>Laptop</td>\n",
       "      <td>0.887097</td>\n",
       "      <td>0.896552</td>\n",
       "      <td>0.878788</td>\n",
       "      <td>Dependent</td>\n",
       "      <td>Dependent</td>\n",
       "    </tr>\n",
       "    <tr>\n",
       "      <td>Tablet</td>\n",
       "      <td>0.032258</td>\n",
       "      <td>0.000000</td>\n",
       "      <td>0.060606</td>\n",
       "      <td>Dependent</td>\n",
       "      <td>Dependent</td>\n",
       "    </tr>\n",
       "  </tbody>\n",
       "</table>\n",
       "</div>"
      ],
      "text/plain": [
       "          Probability of computer prefrences  \\\n",
       "Computer                                       \n",
       "Desktop                             0.080645   \n",
       "Laptop                              0.887097   \n",
       "Tablet                              0.032258   \n",
       "\n",
       "          Prob. of computer pref. given male gender  \\\n",
       "Computer                                              \n",
       "Desktop                                    0.103448   \n",
       "Laptop                                     0.896552   \n",
       "Tablet                                     0.000000   \n",
       "\n",
       "          Prob. of computer pref. given female gender Check point_male  \\\n",
       "Computer                                                                 \n",
       "Desktop                                      0.060606        Dependent   \n",
       "Laptop                                       0.878788        Dependent   \n",
       "Tablet                                       0.060606        Dependent   \n",
       "\n",
       "         Check point_female  \n",
       "Computer                     \n",
       "Desktop           Dependent  \n",
       "Laptop            Dependent  \n",
       "Tablet            Dependent  "
      ]
     },
     "execution_count": 83,
     "metadata": {},
     "output_type": "execute_result"
    }
   ],
   "source": [
    "df1 = df1.append(df2) ## appending details of prob of computer preference given gender is male with probability of gender\n",
    "df1 = df1.append(df3) ## appending details of prob of computer preference given gender is female with probability of gender\n",
    "df2 = df1.T ## transposing the details\n",
    "df2['Check point_male'] = np.where(df2['Probability of computer prefrences'] == df2['Prob. of computer pref. given male gender'], \n",
    "                              'Independent', 'Dependent') \n",
    "## check the dependency if both column values are same then independent otherwise dependent\n",
    "df2['Check point_female'] = np.where(df2['Probability of computer prefrences'] == df2['Prob. of computer pref. given female gender'], \n",
    "                              'Independent', 'Dependent') \n",
    "## check the dependency if both column values are same then independent otherwise dependent\n",
    "df2"
   ]
  },
  {
   "cell_type": "markdown",
   "metadata": {},
   "source": [
    "##### Hence, we can say that gender does affect(dependent) with the computer preferences"
   ]
  },
  {
   "cell_type": "markdown",
   "metadata": {},
   "source": [
    "-----------------------------------END OF 2.3 (4. Gender & Computer)------------------------------------------------"
   ]
  },
  {
   "cell_type": "markdown",
   "metadata": {},
   "source": [
    "#### -----------------------------------------------------------------END OF 2.3------------------------------------------------------------------------------------"
   ]
  },
  {
   "cell_type": "markdown",
   "metadata": {},
   "source": [
    "### Part II\n",
    "\n",
    "### 2.4. Note that there are three numerical (continuous) variables in the data set, Salary, Spending and Text Messages. For each of them comment whether they follow a normal distribution.\n",
    "\n",
    "#### Write a note summarizing your conclusions. [Recall that symmetric histogram does not necessarily mean that the underlying distribution is symmetric]"
   ]
  },
  {
   "cell_type": "markdown",
   "metadata": {},
   "source": [
    "To evaluate normality, there multiple ways to conclude around normal distribtuion. We have took below apporach to justify where perticular variable follows the normal distribution or not?\n",
    "1. Skewness:    \n",
    "    mean < median (negative OR left skewed distribution)      \n",
    "    mean = median (symmetrical OR normal distribution)      \n",
    "    mean > median (positive OR right skewed distribution)       \n",
    "2. The IQR (interquartile range) equals to 1.33 standard deviations\n",
    "3. The range is approximately equal to 6 standard deviations.\n",
    "4. Box plot\n",
    "5. Shapiro's test\n",
    "6. QQ plot"
   ]
  },
  {
   "cell_type": "markdown",
   "metadata": {},
   "source": [
    "#### 1. Numerical Variable : Salary"
   ]
  },
  {
   "cell_type": "code",
   "execution_count": 84,
   "metadata": {},
   "outputs": [
    {
     "data": {
      "text/plain": [
       "0    50.0\n",
       "1    25.0\n",
       "2    45.0\n",
       "3    40.0\n",
       "4    40.0\n",
       "Name: Salary, dtype: float64"
      ]
     },
     "execution_count": 84,
     "metadata": {},
     "output_type": "execute_result"
    }
   ],
   "source": [
    "df1 = df_main['Salary']\n",
    "df1.head()"
   ]
  },
  {
   "cell_type": "code",
   "execution_count": 85,
   "metadata": {},
   "outputs": [
    {
     "data": {
      "text/plain": [
       "count    62.000000\n",
       "mean     48.548387\n",
       "std      12.080912\n",
       "min      25.000000\n",
       "25%      40.000000\n",
       "50%      50.000000\n",
       "75%      55.000000\n",
       "max      80.000000\n",
       "Name: Salary, dtype: float64"
      ]
     },
     "execution_count": 85,
     "metadata": {},
     "output_type": "execute_result"
    }
   ],
   "source": [
    "df1.describe()"
   ]
  },
  {
   "cell_type": "code",
   "execution_count": 86,
   "metadata": {},
   "outputs": [
    {
     "name": "stdout",
     "output_type": "stream",
     "text": [
      "Salary skewness : not normally distributed\n"
     ]
    }
   ],
   "source": [
    "## lets checks the skewness\n",
    "Salary_skewness = np.where(df1.mean() == df1.median(), \"normally distributed\", \"not normally distributed\")\n",
    "\n",
    "print('Salary skewness :', Salary_skewness)"
   ]
  },
  {
   "cell_type": "code",
   "execution_count": 87,
   "metadata": {},
   "outputs": [
    {
     "name": "stdout",
     "output_type": "stream",
     "text": [
      "Salary IQR and standard deviation proportion is : 1.2416280932589825 but requirement is 1.33, hence, it is not normally distributed\n"
     ]
    }
   ],
   "source": [
    "IQR = np.percentile(df1, 75) - np.percentile(df1, 25)\n",
    "## lets checks the IQR to standard deviation proportion\n",
    "Salary_IQR_SD = np.where(IQR /df1.std() == 1.33, \"normally distributed\", \"not normally distributed\")\n",
    "\n",
    "print('Salary IQR and standard deviation proportion is :', IQR /df1.std(), 'but requirement is 1.33, hence, it is' \n",
    "      ,Salary_IQR_SD)"
   ]
  },
  {
   "cell_type": "code",
   "execution_count": 88,
   "metadata": {},
   "outputs": [
    {
     "name": "stdout",
     "output_type": "stream",
     "text": [
      "Salary Range and standard deviation proportion is : 4.5526363419496025 but requirement is 6, hence, it is not normally distributed\n"
     ]
    }
   ],
   "source": [
    "Range = df1.max() - df1.min()\n",
    "## lets checks the Range to standard deviation proportion\n",
    "Salary_Range_SD = np.where(Range /df1.std() == 6, \"normally distributed\", \"not normally distributed\")\n",
    "\n",
    "print('Salary Range and standard deviation proportion is :', Range /df1.std(), 'but requirement is 6, hence, it is' \n",
    "      ,Salary_Range_SD)"
   ]
  },
  {
   "cell_type": "code",
   "execution_count": 89,
   "metadata": {},
   "outputs": [
    {
     "name": "stdout",
     "output_type": "stream",
     "text": [
      "Salary BOX plot, (Q3 less median) and (median less Q1) is : not same , hence, it is not normally distributed\n"
     ]
    },
    {
     "data": {
      "image/png": "[encoded data removed]",
      "text/plain": [
       "<Figure size 432x288 with 1 Axes>"
      ]
     },
     "metadata": {},
     "output_type": "display_data"
    }
   ],
   "source": [
    "sns.boxplot(df1,orient = 'v')\n",
    "P1 = np.percentile(df1, 75) - np.percentile(df1, 50)\n",
    "P2 = np.percentile(df1, 50) - np.percentile(df1, 25)\n",
    "## lets checks the Box and whisjet to check the distribution\n",
    "Salary_BOX_check = np.where(P1 == P2, \"same\", \"not same\")\n",
    "Salary_BOX = np.where(P1 == P2, \"normally distributed\", \"not normally distributed\")\n",
    "\n",
    "print('Salary BOX plot, (Q3 less median) and (median less Q1) is :', Salary_BOX_check, ', hence, it is',Salary_BOX)"
   ]
  },
  {
   "cell_type": "code",
   "execution_count": 90,
   "metadata": {},
   "outputs": [
    {
     "name": "stdout",
     "output_type": "stream",
     "text": [
      "Statistics=0.957, p=0.028\n",
      "Shapiro test for salary variable stats that data is not normally distributed\n"
     ]
    }
   ],
   "source": [
    "## Shapiro test\n",
    "stat, p = shapiro(df1)\n",
    "print('Statistics=%.3f, p=%.3f' % (stat, p))\n",
    "alpha = 0.05\n",
    "Salary_Shapiro = np.where(p > alpha, \"normally distributed\", \"not normally distributed\")\n",
    "print('Shapiro test for salary variable stats that data is', Salary_Shapiro)"
   ]
  },
  {
   "cell_type": "code",
   "execution_count": 91,
   "metadata": {},
   "outputs": [
    {
     "data": {
      "image/png": "[encoded data removed]",
      "text/plain": [
       "<Figure size 432x288 with 1 Axes>"
      ]
     },
     "execution_count": 91,
     "metadata": {},
     "output_type": "execute_result"
    },
    {
     "data": {
      "image/png": "[encoded data removed]",
      "text/plain": [
       "<Figure size 432x288 with 1 Axes>"
      ]
     },
     "metadata": {},
     "output_type": "display_data"
    }
   ],
   "source": [
    "##QQ plot\n",
    "qqplot(df1, line='s')"
   ]
  },
  {
   "cell_type": "markdown",
   "metadata": {},
   "source": [
    "In Salary variable, QQ plot showing the scatter plot of points in a diagonal line, which is not fitting the expected diagonal pattern. hence, it is not normally distributed."
   ]
  },
  {
   "cell_type": "markdown",
   "metadata": {},
   "source": [
    "#### In Summary, all 6 tests stats that data is not normally distributed. Hence, we can conclude that salary variable data is not normally distributed."
   ]
  },
  {
   "cell_type": "markdown",
   "metadata": {},
   "source": [
    "#### 2. Numerical Variable : Spending"
   ]
  },
  {
   "cell_type": "code",
   "execution_count": 92,
   "metadata": {},
   "outputs": [
    {
     "data": {
      "text/plain": [
       "0    350\n",
       "1    360\n",
       "2    600\n",
       "3    600\n",
       "4    500\n",
       "Name: Spending, dtype: int64"
      ]
     },
     "execution_count": 92,
     "metadata": {},
     "output_type": "execute_result"
    }
   ],
   "source": [
    "df1 = df_main['Spending']\n",
    "df1.head()"
   ]
  },
  {
   "cell_type": "code",
   "execution_count": 93,
   "metadata": {},
   "outputs": [
    {
     "data": {
      "text/plain": [
       "count      62.000000\n",
       "mean      482.016129\n",
       "std       221.953805\n",
       "min       100.000000\n",
       "25%       312.500000\n",
       "50%       500.000000\n",
       "75%       600.000000\n",
       "max      1400.000000\n",
       "Name: Spending, dtype: float64"
      ]
     },
     "execution_count": 93,
     "metadata": {},
     "output_type": "execute_result"
    }
   ],
   "source": [
    "df1.describe()"
   ]
  },
  {
   "cell_type": "code",
   "execution_count": 94,
   "metadata": {},
   "outputs": [
    {
     "name": "stdout",
     "output_type": "stream",
     "text": [
      "Spending skewness : not normally distributed\n"
     ]
    }
   ],
   "source": [
    "## lets checks the skewness\n",
    "Spending_skewness = np.where(df1.mean() == df1.median(), \"normally distributed\", \"not normally distributed\")\n",
    "\n",
    "print('Spending skewness :', Spending_skewness)"
   ]
  },
  {
   "cell_type": "code",
   "execution_count": 95,
   "metadata": {},
   "outputs": [
    {
     "name": "stdout",
     "output_type": "stream",
     "text": [
      "Spending IQR and standard deviation proportion is : 1.2953145815368647 but requirement is 1.33, hence, it is not normally distributed\n"
     ]
    }
   ],
   "source": [
    "IQR = np.percentile(df1, 75) - np.percentile(df1, 25)\n",
    "## lets checks the IQR to standard deviation proportion\n",
    "Spending_IQR_SD = np.where(IQR /df1.std() == 1.33, \"normally distributed\", \"not normally distributed\")\n",
    "\n",
    "print('Spending IQR and standard deviation proportion is :', IQR /df1.std(), 'but requirement is 1.33, hence, it is' \n",
    "      ,Spending_IQR_SD)"
   ]
  },
  {
   "cell_type": "code",
   "execution_count": 96,
   "metadata": {},
   "outputs": [
    {
     "name": "stdout",
     "output_type": "stream",
     "text": [
      "Spending Range and standard deviation proportion is : 5.857074629557997 but requirement is 6, hence, it is not normally distributed\n"
     ]
    }
   ],
   "source": [
    "Range = df1.max() - df1.min()\n",
    "## lets checks the Range to standard deviation proportion\n",
    "Spending_Range_SD = np.where(Range /df1.std() == 6, \"normally distributed\", \"not normally distributed\")\n",
    "\n",
    "print('Spending Range and standard deviation proportion is :', Range /df1.std(), 'but requirement is 6, hence, it is' \n",
    "      ,Spending_Range_SD)"
   ]
  },
  {
   "cell_type": "code",
   "execution_count": 97,
   "metadata": {},
   "outputs": [
    {
     "name": "stdout",
     "output_type": "stream",
     "text": [
      "Spending BOX plot, (Q3 less median) and (median less Q1) is : not same , hence, it is not normally distributed\n"
     ]
    },
    {
     "data": {
      "image/png": "[encoded data removed]",
      "text/plain": [
       "<Figure size 432x288 with 1 Axes>"
      ]
     },
     "metadata": {},
     "output_type": "display_data"
    }
   ],
   "source": [
    "sns.boxplot(df1,orient = 'v')\n",
    "P1 = np.percentile(df1, 75) - np.percentile(df1, 50)\n",
    "P2 = np.percentile(df1, 50) - np.percentile(df1, 25)\n",
    "## lets checks the Box and whisjet to check the distribution\n",
    "Spending_BOX_check = np.where(P1 == P2, \"same\", \"not same\")\n",
    "Spending_BOX = np.where(P1 == P2, \"normally distributed\", \"not normally distributed\")\n",
    "\n",
    "print('Spending BOX plot, (Q3 less median) and (median less Q1) is :', Spending_BOX_check, ', hence, it is',Spending_BOX)"
   ]
  },
  {
   "cell_type": "code",
   "execution_count": 98,
   "metadata": {},
   "outputs": [
    {
     "name": "stdout",
     "output_type": "stream",
     "text": [
      "Statistics=0.878, p=0.000017\n",
      "Shapiro test for spending variable stats that data is not normally distributed\n"
     ]
    }
   ],
   "source": [
    "## Shapiro test\n",
    "stat, p = shapiro(df1)\n",
    "print('Statistics=%.3f, p=%.6f' % (stat, p))\n",
    "alpha = 0.05\n",
    "Spending_Shapiro = np.where(p > alpha, \"normally distributed\", \"not normally distributed\")\n",
    "print('Shapiro test for spending variable stats that data is', Spending_Shapiro)"
   ]
  },
  {
   "cell_type": "code",
   "execution_count": 99,
   "metadata": {},
   "outputs": [
    {
     "data": {
      "image/png": "[encoded data removed]",
      "text/plain": [
       "<Figure size 432x288 with 1 Axes>"
      ]
     },
     "execution_count": 99,
     "metadata": {},
     "output_type": "execute_result"
    },
    {
     "data": {
      "image/png": "[encoded data removed]",
      "text/plain": [
       "<Figure size 432x288 with 1 Axes>"
      ]
     },
     "metadata": {},
     "output_type": "display_data"
    }
   ],
   "source": [
    "##QQ plot\n",
    "qqplot(df1, line='s')"
   ]
  },
  {
   "cell_type": "markdown",
   "metadata": {},
   "source": [
    "In Spending variable, QQ plot showing the scatter plot of points in a diagonal line, which is not fitting the expected diagonal pattern. hence, it is not normally distributed."
   ]
  },
  {
   "cell_type": "markdown",
   "metadata": {},
   "source": [
    "#### In Summary, all 6 tests stats that data is not normally distributed. Hence, we can conclude that spending variable data is not normally distributed."
   ]
  },
  {
   "cell_type": "markdown",
   "metadata": {},
   "source": [
    "#### 3. Numerical Variable : Text Messages"
   ]
  },
  {
   "cell_type": "code",
   "execution_count": 100,
   "metadata": {},
   "outputs": [
    {
     "data": {
      "text/plain": [
       "0    200\n",
       "1     50\n",
       "2    200\n",
       "3    250\n",
       "4    100\n",
       "Name: Text Messages, dtype: int64"
      ]
     },
     "execution_count": 100,
     "metadata": {},
     "output_type": "execute_result"
    }
   ],
   "source": [
    "df1 = df_main['Text Messages']\n",
    "df1.head()"
   ]
  },
  {
   "cell_type": "code",
   "execution_count": 101,
   "metadata": {},
   "outputs": [
    {
     "data": {
      "text/plain": [
       "count     62.000000\n",
       "mean     246.209677\n",
       "std      214.465950\n",
       "min        0.000000\n",
       "25%      100.000000\n",
       "50%      200.000000\n",
       "75%      300.000000\n",
       "max      900.000000\n",
       "Name: Text Messages, dtype: float64"
      ]
     },
     "execution_count": 101,
     "metadata": {},
     "output_type": "execute_result"
    }
   ],
   "source": [
    "df1.describe()"
   ]
  },
  {
   "cell_type": "code",
   "execution_count": 102,
   "metadata": {},
   "outputs": [
    {
     "name": "stdout",
     "output_type": "stream",
     "text": [
      "Text Messages skewness : not normally distributed\n"
     ]
    }
   ],
   "source": [
    "## lets checks the skewness\n",
    "TM_skewness = np.where(df1.mean() == df1.median(), \"normally distributed\", \"not normally distributed\")\n",
    "\n",
    "print('Text Messages skewness :', TM_skewness)"
   ]
  },
  {
   "cell_type": "code",
   "execution_count": 103,
   "metadata": {},
   "outputs": [
    {
     "name": "stdout",
     "output_type": "stream",
     "text": [
      "Test Messages IQR and standard deviation proportion is : 0.9325489650815016 but requirement is 1.33, hence, it is not normally distributed\n"
     ]
    }
   ],
   "source": [
    "IQR = np.percentile(df1, 75) - np.percentile(df1, 25)\n",
    "## lets checks the IQR to standard deviation proportion\n",
    "TM_IQR_SD = np.where(IQR /df1.std() == 1.33, \"normally distributed\", \"not normally distributed\")\n",
    "\n",
    "print('Test Messages IQR and standard deviation proportion is :', IQR /df1.std(), 'but requirement is 1.33, hence, it is' \n",
    "      ,TM_IQR_SD)"
   ]
  },
  {
   "cell_type": "code",
   "execution_count": 104,
   "metadata": {},
   "outputs": [
    {
     "name": "stdout",
     "output_type": "stream",
     "text": [
      "Text Messages Range and standard deviation proportion is : 4.196470342866758 but requirement is 6, hence, it is not normally distributed\n"
     ]
    }
   ],
   "source": [
    "Range = df1.max() - df1.min()\n",
    "## lets checks the Range to standard deviation proportion\n",
    "TM_Range_SD = np.where(Range /df1.std() == 6, \"normally distributed\", \"not normally distributed\")\n",
    "\n",
    "print('Text Messages Range and standard deviation proportion is :', Range /df1.std(), 'but requirement is 6, hence, it is' \n",
    "      ,TM_Range_SD)"
   ]
  },
  {
   "cell_type": "code",
   "execution_count": 105,
   "metadata": {},
   "outputs": [
    {
     "name": "stdout",
     "output_type": "stream",
     "text": [
      "Text Messages BOX plot, (Q3 less median) and (median less Q1) is : same  but whisker, right side longer then the left side.        Hence, it is not normally distributed\n"
     ]
    },
    {
     "data": {
      "image/png": "[encoded data removed]",
      "text/plain": [
       "<Figure size 432x288 with 1 Axes>"
      ]
     },
     "metadata": {},
     "output_type": "display_data"
    }
   ],
   "source": [
    "sns.boxplot(df1,orient = 'v')\n",
    "P1 = np.percentile(df1, 75) - np.percentile(df1, 50)\n",
    "P2 = np.percentile(df1, 50) - np.percentile(df1, 25)\n",
    "## lets checks the Box and whisjet to check the distribution\n",
    "TM_BOX_check = np.where(P1 == P2, \"same\", \"not same\")\n",
    "TM_BOX = np.where(P1 == P2, \"normally distributed\", \"not normally distributed\")\n",
    "\n",
    "print('Text Messages BOX plot, (Q3 less median) and (median less Q1) is :', TM_BOX_check, ' but whisker,', \n",
    "      'right side longer then the left side.        Hence, it is not normally distributed')"
   ]
  },
  {
   "cell_type": "code",
   "execution_count": 106,
   "metadata": {},
   "outputs": [
    {
     "name": "stdout",
     "output_type": "stream",
     "text": [
      "Statistics=0.859, p=0.000004\n",
      "Shapiro test for text messages variable stats that data is not normally distributed\n"
     ]
    }
   ],
   "source": [
    "## Shapiro test\n",
    "stat, p = shapiro(df1)\n",
    "print('Statistics=%.3f, p=%.6f' % (stat, p))\n",
    "alpha = 0.05\n",
    "TM_Shapiro = np.where(p > alpha, \"normally distributed\", \"not normally distributed\")\n",
    "print('Shapiro test for text messages variable stats that data is', TM_Shapiro)"
   ]
  },
  {
   "cell_type": "code",
   "execution_count": 107,
   "metadata": {},
   "outputs": [
    {
     "data": {
      "image/png": "[encoded data removed]",
      "text/plain": [
       "<Figure size 432x288 with 1 Axes>"
      ]
     },
     "execution_count": 107,
     "metadata": {},
     "output_type": "execute_result"
    },
    {
     "data": {
      "image/png": "[encoded data removed]",
      "text/plain": [
       "<Figure size 432x288 with 1 Axes>"
      ]
     },
     "metadata": {},
     "output_type": "display_data"
    }
   ],
   "source": [
    "##QQ plot\n",
    "qqplot(df1, line='s')"
   ]
  },
  {
   "cell_type": "markdown",
   "metadata": {},
   "source": [
    "In Text Messages variable, QQ plot showing the scatter plot of points in a diagonal line, which is not fitting the expected diagonal pattern. hence, it is not normally distributed."
   ]
  },
  {
   "cell_type": "markdown",
   "metadata": {},
   "source": [
    "#### In Summary, all 6 tests stats that data is not normally distributed. Hence, we can conclude that text messages variable data is not normally distributed."
   ]
  },
  {
   "cell_type": "markdown",
   "metadata": {},
   "source": [
    "#### -----------------------------------------------------------------END OF 2.4------------------------------------------------------------------------------------"
   ]
  }
 ],
 "metadata": {
  "kernelspec": {
   "display_name": "Python 3",
   "language": "python",
   "name": "python3"
  },
  "language_info": {
   "codemirror_mode": {
    "name": "ipython",
    "version": 3
   },
   "file_extension": ".py",
   "mimetype": "text/x-python",
   "name": "python",
   "nbconvert_exporter": "python",
   "pygments_lexer": "ipython3",
   "version": "3.7.4"
  }
 },
 "nbformat": 4,
 "nbformat_minor": 2
}
