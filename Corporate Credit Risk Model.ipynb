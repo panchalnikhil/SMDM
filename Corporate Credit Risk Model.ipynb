{
 "cells": [
  {
   "cell_type": "code",
   "execution_count": null,
   "metadata": {},
   "outputs": [],
   "source": [
    "# Import necessary packages and load\n",
    "import pandas as pd\n",
    "import numpy as np\n",
    "import statsmodels.api as sm\n",
    "import seaborn as sns"
   ]
  },
  {
   "cell_type": "code",
   "execution_count": null,
   "metadata": {},
   "outputs": [],
   "source": [
    "# Read data in Python\n",
    "dev_data = pd.read_csv('raw-data_assgn_transformed.csv')"
   ]
  },
  {
   "cell_type": "code",
   "execution_count": null,
   "metadata": {},
   "outputs": [],
   "source": [
    "# Data Shape\n",
    "dev_data.shape"
   ]
  },
  {
   "cell_type": "code",
   "execution_count": null,
   "metadata": {},
   "outputs": [],
   "source": [
    "# View Data\n",
    "dev_data.head()"
   ]
  },
  {
   "cell_type": "code",
   "execution_count": null,
   "metadata": {},
   "outputs": [],
   "source": [
    "# Variable information\n",
    "dev_data.info()"
   ]
  },
  {
   "cell_type": "code",
   "execution_count": null,
   "metadata": {},
   "outputs": [],
   "source": [
    "# Check for missing value\n",
    "dev_data.isnull().any().any()"
   ]
  },
  {
   "cell_type": "code",
   "execution_count": null,
   "metadata": {},
   "outputs": [],
   "source": [
    "dev_data['Default'].value_counts(normalize=True)"
   ]
  },
  {
   "cell_type": "code",
   "execution_count": null,
   "metadata": {},
   "outputs": [],
   "source": [
    "dev_data['Default'].value_counts()\n",
    "# 7.01% (169 out of 2,409) accounts / companies have Deafulted"
   ]
  },
  {
   "cell_type": "code",
   "execution_count": null,
   "metadata": {},
   "outputs": [],
   "source": [
    "dev_data_select = dev_data[[\n",
    "'Default',\n",
    "'Total Income/Total assets',\n",
    "'Change in stock/Total Income',\n",
    "'Profit after tax/Total assets',\n",
    "'PBDITA/Total assets',\n",
    "'PBT/Total assets',\n",
    "'Cash profit as % of total income',\n",
    "'PBT as % of total income',\n",
    "'PAT as % of total income',\n",
    "'Sales/Total assets',\n",
    "'Income from financial services/Total Income',\n",
    "'Other income/Total Income',\n",
    "'Total capital/Total_Assets',\n",
    "'Reserves and funds/Total_Assets',\n",
    "'Borrowings/Total_Assets',\n",
    "'Current liabilities & provisions/Total_assets',\n",
    "'Deferred tax liability/Total_Assets',\n",
    "'Shareholders funds/Total_assets',\n",
    "'Cumulative retained profits/Total Income',\n",
    "'Capital employed/Total assets',\n",
    "'Contingent liabilities/Total Assets',\n",
    "'Net fixed assets/Total Assets',\n",
    "'Investments/Total Income',\n",
    "'Current assets/Total_Assets',\n",
    "'Net working capital/Total Capital',\n",
    "'Quick ratio (times)',\n",
    "'Current ratio (times)',\n",
    "'Debt to equity ratio (times)',\n",
    "'EPS']]\n",
    "\n",
    "dev_data_select.shape"
   ]
  },
  {
   "cell_type": "code",
   "execution_count": null,
   "metadata": {},
   "outputs": [],
   "source": [
    "#List column names from Development Data selected\n",
    "train_features = (dev_data_select.columns).tolist()\n",
    "train_features.remove('Default')\n",
    "\n",
    "features_columns=train_features\n",
    "Target_val='Default'"
   ]
  },
  {
   "cell_type": "code",
   "execution_count": null,
   "metadata": {},
   "outputs": [],
   "source": [
    "#Execute model on selected variables - First attempt\n",
    "logit_model_attempt1 = sm.Logit(dev_data_select[Target_val],dev_data_select[features_columns])\n",
    "result_attempt1 = logit_model_attempt1.fit()\n",
    "print(result_attempt1.summary())"
   ]
  },
  {
   "cell_type": "code",
   "execution_count": null,
   "metadata": {},
   "outputs": [],
   "source": [
    "dev_data_select2 = dev_data[[\n",
    "'Default',\n",
    "'Cash profit as % of total income',\n",
    "'Shareholders funds/Total_assets',\n",
    "'Debt to equity ratio (times)',\n",
    "'Quick ratio (times)',\n",
    "'PBT as % of total income',\n",
    "'Change in stock/Total Income',\n",
    "'Deferred tax liability/Total_Assets']]\n",
    "\n",
    "#List column names from Development Data selected\n",
    "train_features = (dev_data_select2.columns).tolist()\n",
    "train_features.remove('Default')\n",
    "\n",
    "features_columns=train_features"
   ]
  },
  {
   "cell_type": "code",
   "execution_count": null,
   "metadata": {},
   "outputs": [],
   "source": [
    "#Execute model on selected variables - Second attempt - Check\n",
    "logit_model_attempt2 = sm.Logit(dev_data_select2[Target_val],dev_data_select2[features_columns])\n",
    "result_attempt2 = logit_model_attempt2.fit()\n",
    "print(result_attempt2.summary())"
   ]
  },
  {
   "cell_type": "code",
   "execution_count": null,
   "metadata": {},
   "outputs": [],
   "source": [
    "#Now if we see the variables are significant as well as have correct signs for coefficient\n",
    "# But in order to balance the equation we might need to add variables for future expectations about the company\n",
    "\n",
    "# create a new variable as below\n",
    "df = pd.DataFrame(dev_data)\n",
    "\n",
    "df['Cumulative retained profits / Sales'] = (df['Cumulative retained profits'] / df['Sales'])\n",
    "\n",
    "sns.barplot(x='Default', y='Cumulative retained profits / Sales', data=dev_data)"
   ]
  },
  {
   "cell_type": "code",
   "execution_count": null,
   "metadata": {},
   "outputs": [],
   "source": [
    "dev_data_select3 = df[[\n",
    "'Default',\n",
    "'Cash profit as % of total income',\n",
    "'Shareholders funds/Total_assets',\n",
    "'Debt to equity ratio (times)',\n",
    "'Quick ratio (times)',\n",
    "'PBT as % of total income',\n",
    "'Change in stock/Total Income',\n",
    "'Deferred tax liability/Total_Assets',\n",
    "'Cumulative retained profits / Sales']]\n",
    "\n",
    "#List column names from Development Data selected\n",
    "train_features = (dev_data_select3.columns).tolist()\n",
    "train_features.remove('Default')\n",
    "\n",
    "features_columns=train_features\n",
    "dev_data_select3.head()"
   ]
  },
  {
   "cell_type": "code",
   "execution_count": null,
   "metadata": {},
   "outputs": [],
   "source": [
    "#Execute model on selected variables - Third attempt - Check\n",
    "logit_model_attempt3 = sm.Logit(dev_data_select3[Target_val],dev_data_select3[features_columns])\n",
    "result_attempt3 = logit_model_attempt3.fit()\n",
    "print(result_attempt3.summary())"
   ]
  },
  {
   "cell_type": "code",
   "execution_count": null,
   "metadata": {},
   "outputs": [],
   "source": [
    "# Compare prbability of 20 companies in excel\n",
    "prob_output = pd.DataFrame(round(result_attempt3.predict(dev_data_select3[features_columns]),4))\n",
    "prob_output.join(dev_data['Num'], how='left').sort_values(by = 'Num').head(20).reset_index()\n",
    "\n",
    "# Compare probability values (Column = '0') with Altman Z Score"
   ]
  },
  {
   "cell_type": "code",
   "execution_count": null,
   "metadata": {},
   "outputs": [],
   "source": [
    "#Execute model through sklearn on final data and validate\n",
    "X = dev_data_select3[features_columns]\n",
    "y = dev_data_select3[Target_val]\n",
    "\n",
    "from sklearn.model_selection import train_test_split\n",
    "X_train, X_test, y_train, y_test = train_test_split(X, y, test_size=0.2, random_state=1, stratify=y)\n",
    "\n",
    "print(y_test.value_counts(normalize=True))\n",
    "print(y_test.value_counts())"
   ]
  },
  {
   "cell_type": "code",
   "execution_count": null,
   "metadata": {},
   "outputs": [],
   "source": [
    "from sklearn.linear_model import LogisticRegression\n",
    "from sklearn.metrics import accuracy_score, roc_auc_score, confusion_matrix, classification_report\n",
    "\n",
    "# instantiate a logistic regression model, and fit with X and y\n",
    "model = LogisticRegression()\n",
    "model_corporate = model.fit(X_train, y_train)\n",
    "\n",
    "predicted_corporate = np.where(model_corporate.predict_proba(X_test)[:,1] > 0.07, 1, 0)"
   ]
  },
  {
   "cell_type": "code",
   "execution_count": null,
   "metadata": {},
   "outputs": [],
   "source": [
    "# Confusion matrix\n",
    "print(confusion_matrix(y_test,predicted_corporate))\n",
    "\n",
    "# Classification Report\n",
    "print(classification_report(predicted_corporate, y_test))\n",
    "\n",
    "# Accuracy\n",
    "print(\"Accuracy:\",model_corporate.score(X_test, y_test))"
   ]
  },
  {
   "cell_type": "code",
   "execution_count": null,
   "metadata": {},
   "outputs": [],
   "source": []
  }
 ],
 "metadata": {
  "kernelspec": {
   "display_name": "Python 3",
   "language": "python",
   "name": "python3"
  },
  "language_info": {
   "codemirror_mode": {
    "name": "ipython",
    "version": 3
   },
   "file_extension": ".py",
   "mimetype": "text/x-python",
   "name": "python",
   "nbconvert_exporter": "python",
   "pygments_lexer": "ipython3",
   "version": "3.8.5"
  }
 },
 "nbformat": 4,
 "nbformat_minor": 4
}
